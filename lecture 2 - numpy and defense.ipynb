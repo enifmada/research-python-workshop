{
 "cells": [
  {
   "cell_type": "markdown",
   "id": "7c6e2701",
   "metadata": {},
   "source": [
    "## Lecture 2 - Numpy and defensive programming"
   ]
  },
  {
   "cell_type": "markdown",
   "id": "953f50fc",
   "metadata": {},
   "source": [
    "In lecture 1, we learned why you should write Python, why you should write your Python in PyCharm, and several cool features of base Python.\n",
    "\n",
    "- f-strings are the easiest way to insert data into a string\n",
    "- save your data via pickling dictionaries\n",
    "- list comprehensions are very pythonic\n",
    "- walrus operator good\n",
    "- uhhhhhh decorators? kinda?"
   ]
  },
  {
   "cell_type": "markdown",
   "id": "b586949c",
   "metadata": {},
   "source": [
    "### Intro to Numpy\n",
    "\n",
    "Numpy is built around the **ndarray**, which you can think of as a matrix of arbitrary dimension.\n",
    "\n",
    "![ndarray instantiation](https://numpy.org/doc/stable/_images/np_array.png)"
   ]
  },
  {
   "cell_type": "code",
   "execution_count": null,
   "id": "035e03c3",
   "metadata": {},
   "outputs": [],
   "source": [
    "import numpy as np"
   ]
  },
  {
   "cell_type": "markdown",
   "id": "d5962d96",
   "metadata": {},
   "source": [
    "Most common ways of instantiating numpy arrays:\n",
    "- np.array(list)\n",
    "- np.zeros((shape object))\n",
    "- np.arange(start, stop, step)\n",
    "    \n",
    "Properties of arrays:\n",
    "- array.shape: returns a tuple with the relevant information. E.g. generate_binary_numbers(5).shape = (32, 5)\n",
    "- array.ndim: len(array.shape).\n",
    "- array.size: np.product(array.shape)"
   ]
  },
  {
   "cell_type": "markdown",
   "id": "fc306aae",
   "metadata": {},
   "source": [
    "#### Accessing elements of arrays: array slicing\n",
    "\n",
    "Basic slicing works the same way as on Python lists, just across multiple dimensions, potentially. For example:"
   ]
  },
  {
   "cell_type": "code",
   "execution_count": null,
   "id": "1fe95615",
   "metadata": {},
   "outputs": [],
   "source": [
    "a = np.arange(25).reshape(5,5)\n",
    "print(a)"
   ]
  },
  {
   "cell_type": "code",
   "execution_count": null,
   "id": "1409447d",
   "metadata": {},
   "outputs": [],
   "source": [
    "a[1:4, 0:2]"
   ]
  },
  {
   "cell_type": "code",
   "execution_count": null,
   "id": "39db89fb",
   "metadata": {},
   "outputs": [],
   "source": [
    "a[::2, 3]"
   ]
  },
  {
   "cell_type": "markdown",
   "id": "f2e57ad4",
   "metadata": {},
   "source": [
    "###### mini-exercises (3 hands)\n",
    "\n",
    "What is the output of a[3:, :3]?\n",
    "\n",
    "How about a[2:4:-1, 1::2]?"
   ]
  },
  {
   "cell_type": "markdown",
   "id": "361ff502",
   "metadata": {},
   "source": [
    "#### advanced indexing\n",
    "\n",
    "Numpy is much cooler than base Python. Specifically, you can index a numpy array with *a numpy array*. This is called \"advanced indexing\". A simple example:"
   ]
  },
  {
   "cell_type": "code",
   "execution_count": null,
   "id": "72081f3b",
   "metadata": {},
   "outputs": [],
   "source": [
    "zip_code_index = np.array([6,0,6,3,7])\n",
    "b = np.arange(30)**2\n",
    "print(b)"
   ]
  },
  {
   "cell_type": "markdown",
   "id": "364f3084",
   "metadata": {},
   "source": [
    "What do I get here? (3 hands)"
   ]
  },
  {
   "cell_type": "code",
   "execution_count": null,
   "id": "ef28b2e6",
   "metadata": {},
   "outputs": [],
   "source": [
    "b[zip_code_index]"
   ]
  },
  {
   "cell_type": "markdown",
   "id": "4b8a1353",
   "metadata": {},
   "source": [
    "This can get somewhat wild - what do I get as the output of these two cells?"
   ]
  },
  {
   "cell_type": "code",
   "execution_count": null,
   "id": "ca31b70c",
   "metadata": {},
   "outputs": [],
   "source": [
    "b[a]"
   ]
  },
  {
   "cell_type": "code",
   "execution_count": null,
   "id": "93327fc5",
   "metadata": {},
   "outputs": [],
   "source": [
    "a[b]"
   ]
  },
  {
   "cell_type": "markdown",
   "id": "9a1615ce",
   "metadata": {},
   "source": [
    "Note that even though b is a one dimensional array, we can slice it two-dimensionally!!"
   ]
  },
  {
   "cell_type": "markdown",
   "id": "e0d3231c",
   "metadata": {},
   "source": [
    "##### Advanced slicing: use case\n",
    "\n",
    "Boolean arrays can be easily generated in numpy:"
   ]
  },
  {
   "cell_type": "code",
   "execution_count": null,
   "id": "0b48cea7",
   "metadata": {},
   "outputs": [],
   "source": [
    "a > 12"
   ]
  },
  {
   "cell_type": "markdown",
   "id": "75570988",
   "metadata": {},
   "source": [
    "and can be used to index arrays (most commonly the array itself):"
   ]
  },
  {
   "cell_type": "code",
   "execution_count": null,
   "id": "313d235b",
   "metadata": {},
   "outputs": [],
   "source": [
    "a[a > 12] = 100\n",
    "a"
   ]
  },
  {
   "cell_type": "markdown",
   "id": "c97025d0",
   "metadata": {},
   "source": [
    "Operations on arrays\n",
    "\n",
    "We just saw one example - we set some values in an array to an integer. Other examples:"
   ]
  },
  {
   "cell_type": "code",
   "execution_count": null,
   "id": "24d1dcf5",
   "metadata": {},
   "outputs": [],
   "source": [
    "c = np.repeat(np.arange(5),5).reshape(5,5)\n",
    "c"
   ]
  },
  {
   "cell_type": "code",
   "execution_count": null,
   "id": "316138c8",
   "metadata": {},
   "outputs": [],
   "source": [
    "a * c"
   ]
  },
  {
   "cell_type": "code",
   "execution_count": null,
   "id": "95b5c951",
   "metadata": {},
   "outputs": [],
   "source": [
    "a + c"
   ]
  },
  {
   "cell_type": "markdown",
   "id": "bc45ae60",
   "metadata": {},
   "source": [
    "Operations are *all* element-wise unless otherwise specified (e.g. for \"normal\" matrix multiplication, use @). Because things are elementwise, arrays of the same shape can be operated on as you would expect. But what about something like"
   ]
  },
  {
   "cell_type": "code",
   "execution_count": null,
   "id": "7c4223f9",
   "metadata": {},
   "outputs": [],
   "source": [
    "a + c[:, 0]"
   ]
  },
  {
   "cell_type": "markdown",
   "id": "e68c3b82",
   "metadata": {},
   "source": [
    "What happened here?"
   ]
  },
  {
   "cell_type": "markdown",
   "id": "e09e29ab",
   "metadata": {},
   "source": [
    "#### Broadcasting\n",
    "\n",
    "Broadcasting is numpy's process of attempting to \"morph\" two arrays into having the same shape so that element-wise operations can be applied. (I thought this was more black magic and I just sort of... tried transposing arrays, reshaping things, etc. until something worked, until about two months ago. Now I more or less understand broadcasting, and it's actually pretty simple.)\n",
    "\n",
    "Broadcasting works as follows:\n",
    "\n",
    "Numpy _prepends_ arrays with dimensions of size 1 as necessary until they have the same number of dimensions, then compares dimensions starting from the rightmost element of a shape tuple, and deems two arrays compatible if, for each dimension:\n",
    "1. both arrays have the same size\n",
    "2. one (or both) arrays have size 1.\n",
    "\n",
    "For all dimensions with size 1, numpy will then \"stretch\" this dimension to make it have the same shape as non-1 sizes of the same dimension before doing the operation. Here is a picture depicting this process:\n",
    "\n",
    "![ndarray broadcasting](https://numpy.org/doc/stable/_images/broadcasting_2.png)\n",
    "\n",
    "As a numerical example, if you have matrices d with d.shape = (8,3,1,8) and e with e.shape = (3,5,1), d + e will not throw an error and will have shape (8,3,5,8).\n",
    "\n",
    "So, from the earlier code, a + c[:, 0] worked because a has shape (5,5) and c[:, 0] has shape (5,) -> (1,5), which can be broadcasted to (5,5)."
   ]
  },
  {
   "cell_type": "markdown",
   "id": "a2d4667e",
   "metadata": {},
   "source": [
    "###### mini exercises:\n",
    "\n",
    "For each of the following, determine whether the two arrays have compatible dimensions, and if they do, what the dimensions of the resulting array after a binary operation are.\n",
    "\n",
    "1. f.shape = (5,1,3,2), g.shape = (1,3)\n",
    "2. f.shape = (5,1,3,2), h.shape = (1,3,1)\n",
    "3. f.shape = (5,1,3,2), i.shape = (1,3,1,1)\n",
    "4. f.shape = (5,1,3,2), j.shape = (1,3,1,1,1)\n",
    "5. f.shape = (5,1,3,2), k.shape = (1,3,1,1,1,1)"
   ]
  },
  {
   "cell_type": "markdown",
   "id": "0a0e4478",
   "metadata": {},
   "source": [
    "Everything else in numpy is just functions. Numpy (+ scipy) has functions for everything you could ever want, seriously. As an example, I was calculating p-values by fitting points to a null distribution, and using the definition of a p-value as 1-cdf. Some of my p-values were very very small, so they were being returned as 0, which caused their log to be bad, etc. \n",
    "\n",
    "Turns out every (continuous) distribution in scipy.stats can return log(1-cdf) with more precision than manually computing the log of 1 minus the cdf. wild."
   ]
  },
  {
   "cell_type": "markdown",
   "id": "0e35a520",
   "metadata": {},
   "source": [
    "Lastly, the axis keyword is important and a little confusing - basically applies a numpy function along a \"direction\":"
   ]
  },
  {
   "cell_type": "code",
   "execution_count": null,
   "id": "6e0f9406",
   "metadata": {},
   "outputs": [],
   "source": [
    "d = np.arange(15).reshape(3,5)\n",
    "print(d)\n",
    "print(np.sum(d))\n",
    "print(np.sum(d, axis=0))\n",
    "print(np.sum(d, axis=1))"
   ]
  },
  {
   "cell_type": "markdown",
   "id": "55b5235a",
   "metadata": {},
   "source": [
    "Oftentimes, you know what the shape of the resulting array you want is but not what axis that corresponds to - for example, you know you want to average something over time within 100 different experiments, is that axis=0? 1?\n",
    "My preferred way to remember this is that axis=i will delete the ith value from the shape.\n",
    "d.shape = (3,5) -> axis=0 makes the shape (5,), axis=1 makes the shape (3,)"
   ]
  },
  {
   "cell_type": "markdown",
   "id": "71feaf23",
   "metadata": {},
   "source": [
    "### defensive programming"
   ]
  },
  {
   "cell_type": "code",
   "execution_count": null,
   "id": "4a2e1a5c",
   "metadata": {},
   "outputs": [],
   "source": [
    "#run car\n",
    "#add an extra .brake() - what's going on here?\n",
    "#add print statements after accelerate and brakes\n",
    "#debug the thing\n",
    "#mention conditional debugger\n",
    "#add an assert to the odometer - maybe someone adds something to let the car drive backwards. odometer still shouldn't be negative."
   ]
  },
  {
   "cell_type": "markdown",
   "id": "a6d012da",
   "metadata": {},
   "source": [
    "defensive programming things:\n",
    "print statements:\n",
    "how do we figure out how our code doesn't work? we have some expectation of what values variables have, and they don't have those. Need to see what's in the variables!\n",
    "Simplest method is just print(x). This is honestly very good!! Obviously don't have print statements in your final code, but honestly I use a lot of print statements. The alternative is the logging module, but I prefer print statements - much faster, I don't mind having my output spammed with stuff, going into another file and having potentially a log file per python file is a lot of clutter.\n",
    "\n",
    "debugging (10 min)\n",
    "PyCharm's visual debugger is extremely useful!! show operation. set a breakpoint, code will stop running there. then you get:\n",
    "-evaluating expressions. good to see what the values of operations that break your program will be, check array operations, etc.\n",
    "-view numpy arrays!!! extremely useful\n",
    "-program execution control - step over = executes line by line, skipping functions, step into = goes into function calls, step into (my code) is the same but ignoring libraries, step out goes up a level. run to cursor - \"mobile breakpoint\"\n",
    "-conditional breakpoints!! I learned about these when making this, but god these seem very useful - you can have the breakpoint trigger only when something is met, so if there's a loop that breaks towards the end, make it break when the index variable is 99% done, etc."
   ]
  },
  {
   "cell_type": "markdown",
   "id": "8e1dedef",
   "metadata": {},
   "source": [
    "asserts:\n",
    "print statements are nice for when things go wrong, how do we do prevent errors before they happen? asserts! \n",
    "https://blog.regehr.org/archives/1091 is the best philosophical resource about asserts I've come across. \n",
    "Key points: \"An assertion is a Boolean expression at a specific point in a program which will be true unless there is a bug in the program.\"\n",
    "Basically, they're a way to reassure yourself that things are as they should be. Sanity checks. I think two main types of asserts are useful in research computing:\n",
    "1. math stuff - if variables, operations, etc. are mathematically constrained, assert that this is the case! e.g. the assert with probabilities summing to 1 in the hmm\n",
    "2. preconditions - at the top of functions, make sure that arrays that will be multiplied have the complementary shapes, etc. no real type checking in Python so this is a useful equivalent. don't literally use this to check types though! Asserts should be pretty sparing - the blog above says empirically 1 in 70 lines of code."
   ]
  },
  {
   "cell_type": "markdown",
   "id": "74de033b",
   "metadata": {},
   "source": [
    "code publishing things:\n",
    "argparse (10 min)\n",
    "sometimes, you cannot run your code inside PyCharm, but must run it from the command line. The two primary instances of this are:\n",
    "-when publishing, people often want a command line tool. idrk why but they do.\n",
    "-for cluster work it's somewhere between much easier and the only way to get jobs to run.\n",
    "you can use sys.argv and make your command something like python science.py 4 10 \"linear\" 500 1e4 \"fast\" 8\n",
    "or use argparse! Python's built in library for, unsurprisingly, parsing command line arguments."
   ]
  },
  {
   "cell_type": "markdown",
   "id": "aaf57558",
   "metadata": {},
   "source": [
    "How argparse works: 3 easy steps.\n",
    "    \n",
    "1. set up ArgumentParser"
   ]
  },
  {
   "cell_type": "code",
   "execution_count": null,
   "id": "7c2b68e3",
   "metadata": {},
   "outputs": [],
   "source": [
    "import argparse\n",
    "parser = argparse.ArgumentParser()"
   ]
  },
  {
   "cell_type": "markdown",
   "id": "e8c3dabd",
   "metadata": {},
   "source": [
    "2. add arguments"
   ]
  },
  {
   "cell_type": "code",
   "execution_count": null,
   "id": "efef888b",
   "metadata": {},
   "outputs": [],
   "source": [
    "parser.add_argument(\"filename\", type=argparse.FileType(\"rb\"), help=\"input file\")\n",
    "parser.add_argument(\"-n\", \"--number\", type=int, default=5, help=\"an optional integer\")\n",
    "parser.add_argument(\"--print_this_stuff\", nargs=\"*\", help=\"prints all the extra args you put in\")"
   ]
  },
  {
   "cell_type": "markdown",
   "id": "06f48aa2",
   "metadata": {},
   "source": [
    "3. parse args"
   ]
  },
  {
   "cell_type": "code",
   "execution_count": null,
   "id": "dc431ad8",
   "metadata": {},
   "outputs": [],
   "source": [
    "args = parser.parse_args()\n",
    "\n",
    "#args now has a variable for each argument:\n",
    "print(args.filename)\n",
    "print(args.number)\n",
    "for val in args.print_this_stuff:\n",
    "    print(val)\n",
    "\n",
    "#also the documentation is built-in! -h"
   ]
  },
  {
   "cell_type": "markdown",
   "id": "e6bb4be5",
   "metadata": {},
   "source": [
    "Because it is a well-written module, argparse can handle whatever stuff you might want out of your inputs. Different types, required/optional arguments, mutually exclusive groups (e.g. \"verbose\" mode vs. \"quiet\" mode) - use group = parser.add_mutually_exclusive_group() and then group.add_argument()"
   ]
  }
 ],
 "metadata": {
  "kernelspec": {
   "display_name": "Python 3 (ipykernel)",
   "language": "python",
   "name": "python3"
  },
  "language_info": {
   "codemirror_mode": {
    "name": "ipython",
    "version": 3
   },
   "file_extension": ".py",
   "mimetype": "text/x-python",
   "name": "python",
   "nbconvert_exporter": "python",
   "pygments_lexer": "ipython3",
   "version": "3.10.10"
  }
 },
 "nbformat": 4,
 "nbformat_minor": 5
}
