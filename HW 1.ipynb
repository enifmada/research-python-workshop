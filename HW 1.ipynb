{
 "cells": [
  {
   "cell_type": "markdown",
   "id": "bac9f110",
   "metadata": {},
   "source": [
    "## Python Research Computation Workshop Homework 1\n",
    "\n",
    "Due: as soon as possible but no later than Friday at noon. To turn in, email me (afine2 at uchicago dot edu) with the subject \"Python Workshop Homework 1\" and an attached .ipynb file (note that PyCharm can manipulate notebook files, I am not endorsing notebooks!).\n",
    "\n",
    "Please email me if I messed something up or you have any questions or anything like that."
   ]
  },
  {
   "cell_type": "markdown",
   "id": "8c244efc",
   "metadata": {},
   "source": [
    "## Problem 1: minimal fun with the walrus\n",
    "\n",
    "Rewrite the following code block (from sysconfig.py) using the walrus operator:"
   ]
  },
  {
   "cell_type": "code",
   "execution_count": null,
   "id": "6b9ba9de",
   "metadata": {},
   "outputs": [],
   "source": [
    "while True:\n",
    "    line = fp.readline()\n",
    "    if not line:\n",
    "        break\n",
    "    m = define_rx.match(line)\n",
    "    if m:\n",
    "        n, v = m.group(2)\n",
    "        #truncated unimportant sysconfig stuff here\n",
    "    else:\n",
    "        m = undef_rx.match(line)\n",
    "        if m:\n",
    "            vars[m.group(1)] = 0"
   ]
  },
  {
   "cell_type": "code",
   "execution_count": null,
   "id": "813bec6f",
   "metadata": {},
   "outputs": [],
   "source": [
    "### your code here"
   ]
  },
  {
   "cell_type": "markdown",
   "id": "94420daa",
   "metadata": {},
   "source": [
    "## Problem 2: medium fun with the walrus and the list comprehension\n",
    "\n",
    "As you saw with the \\[y, x/y\\] example, the walrus operator can be used inside a list comprehension. This can be used recursively:"
   ]
  },
  {
   "cell_type": "code",
   "execution_count": 97,
   "id": "2eb36cd5",
   "metadata": {},
   "outputs": [
    {
     "name": "stdout",
     "output_type": "stream",
     "text": [
      "vegetable 1 is broccoli\n",
      "vegetable 2 is onion\n",
      "vegetable 3 is bok choi\n"
     ]
    }
   ],
   "source": [
    "shopping_list_vegetables = [\"broccoli\", \"onion\", \"bok choi\"]\n",
    "veg_iter = 0\n",
    "_ = [print(f\"vegetable {(veg_iter := veg_iter + 1)} is {veg}\") for veg in shopping_list_vegetables]"
   ]
  },
  {
   "cell_type": "markdown",
   "id": "fdef3c9c",
   "metadata": {},
   "source": [
    "note that the the walrus must be enclosed in parentheses if used within a f-string.\n",
    "(also the list comprehension was assigned to \\_, the null variable name, to suppress Jupyter outputting the value of the list comprehension.)\n",
    "\n",
    "anyway, **using the walrus operator and list comprehension, please write a function that takes as input a list of numbers and returns a list of partial sums.** for example, for an input of \\[2, -3, 6.5\\], the output of your function should be \\[2, -1, 5.5\\]\n",
    "\n",
    "don't worry about validating the input or anything, we are bad programmers after all."
   ]
  },
  {
   "cell_type": "code",
   "execution_count": null,
   "id": "472c8233",
   "metadata": {},
   "outputs": [],
   "source": [
    "### your code here"
   ]
  },
  {
   "cell_type": "markdown",
   "id": "ade0beb6",
   "metadata": {},
   "source": [
    "## Problem 3: extreme fun with the list comprehension, to be revisited in a week\n",
    "\n",
    "list comprehensions can be nested, producing some truly horrifying lines of code. For example:"
   ]
  },
  {
   "cell_type": "code",
   "execution_count": 101,
   "id": "0d401f4e",
   "metadata": {},
   "outputs": [
    {
     "name": "stdout",
     "output_type": "stream",
     "text": [
      "[[0, 1, 2], [1, 2, 3], [2, 3, 4], [3, 4, 5]]\n"
     ]
    }
   ],
   "source": [
    "list_comp_matrix = [[j+i for j in range(3)] for i in range(4)]\n",
    "print(list_comp_matrix)"
   ]
  },
  {
   "cell_type": "code",
   "execution_count": 102,
   "id": "0c7b343d",
   "metadata": {},
   "outputs": [
    {
     "name": "stdout",
     "output_type": "stream",
     "text": [
      "[0, 1, 2, 1, 2, 3, 2, 3, 4, 3, 4, 5]\n"
     ]
    }
   ],
   "source": [
    "list_comp_flatten = [value for row in list_comp_matrix for value in row]\n",
    "print(list_comp_flatten)"
   ]
  },
  {
   "cell_type": "markdown",
   "id": "cd1ea7a4",
   "metadata": {},
   "source": [
    "I hate the fact that it's \\[value for row in matrix for value in row\\] rather than \\[value for value in row for row in matrix\\] but that's how the syntax works."
   ]
  },
  {
   "cell_type": "markdown",
   "id": "5793b70d",
   "metadata": {},
   "source": [
    "**Please write a function binary_digits(n) that takes as input a natural number and returns a list (of length 2^n) of lists (of length n) of all of the unique binary numbers with n digits.**\n",
    "\n",
    "The output of binary_digits(1) should be \\[\\[0, 1\\]\\], the output of binary_digits(2) should be \\[\\[0,0\\],\\[0,1\\],\\[1,0\\],\\[1,1\\], etc.\n",
    "\n",
    "Feel free to use list comprehensions (it will be kinda gross), also feel free to just use for loops - this problem is at least 50% to give me a chance to see how you write code. Regardless of whether you choose to use list comprehensions, your life will probably be easier if binary_digits(n) calls binary_digits(n-1) at some point."
   ]
  },
  {
   "cell_type": "markdown",
   "id": "a2655a47",
   "metadata": {},
   "source": [
    "If you do try to do this with list comprehensions, you should know about the * operator, which unpacks a list. For example, compare the following:"
   ]
  },
  {
   "cell_type": "code",
   "execution_count": 112,
   "id": "2372357e",
   "metadata": {},
   "outputs": [
    {
     "name": "stdout",
     "output_type": "stream",
     "text": [
      "[1, 2, [3, 4], 5]\n",
      "[1, 2, 3, 4, 5]\n"
     ]
    }
   ],
   "source": [
    "a = [3,4]\n",
    "packed = [1,2,a,5]\n",
    "unpacked = [1,2,*a,5]\n",
    "print(packed)\n",
    "print(unpacked)"
   ]
  },
  {
   "cell_type": "code",
   "execution_count": null,
   "id": "412e2a9b",
   "metadata": {},
   "outputs": [],
   "source": [
    "### your code here"
   ]
  },
  {
   "cell_type": "markdown",
   "id": "fbdefc03",
   "metadata": {},
   "source": [
    "## Problem 3.5 (optional): fun intensifies\n",
    "\n",
    "**write a nested list comprehension that produces, as a list (of length 2^n) of lists (of length 2^n), the number of positions at which all pairs of binary lists (generated from the previous problem) both have a 1: the ith value of the jth list should be the number of positions in which binary number i and binary number j both have a 1.**\n",
    "\n",
    "For example, for binary strings of length 2, \\[\\[0,0\\],\\[0,1\\],\\[1,0\\],\\[1,1\\] is the output of the previous problem. The output of this problem should be:"
   ]
  },
  {
   "cell_type": "code",
   "execution_count": 113,
   "id": "26ca6605",
   "metadata": {},
   "outputs": [
    {
     "data": {
      "text/plain": [
       "[[0, 0, 0, 0], [0, 1, 0, 1], [0, 0, 1, 1], [0, 1, 1, 2]]"
      ]
     },
     "execution_count": 113,
     "metadata": {},
     "output_type": "execute_result"
    }
   ],
   "source": [
    "[[0, 0, 0, 0], [0, 1, 0, 1], [0, 0, 1, 1], [0, 1, 1, 2]]"
   ]
  },
  {
   "cell_type": "markdown",
   "id": "52d7fae5",
   "metadata": {},
   "source": [
    "\\[0,0\\] has no 1s so all the values in the first row are 0; \\[1,1\\] has all 1s so the last row counts the number of 1s in each binary number of length 2"
   ]
  },
  {
   "cell_type": "code",
   "execution_count": null,
   "id": "0456925f",
   "metadata": {},
   "outputs": [],
   "source": [
    "### your code here"
   ]
  },
  {
   "cell_type": "markdown",
   "id": "f4d630af",
   "metadata": {},
   "source": [
    "One lucky individual's solution to problems 3 and 3.5 will form the basis of the code optimization lecture next Tuesday! Also there *is* a reason I am making you do this in base Python, you will see :)"
   ]
  }
 ],
 "metadata": {
  "kernelspec": {
   "display_name": "Python 3 (ipykernel)",
   "language": "python",
   "name": "python3"
  },
  "language_info": {
   "codemirror_mode": {
    "name": "ipython",
    "version": 3
   },
   "file_extension": ".py",
   "mimetype": "text/x-python",
   "name": "python",
   "nbconvert_exporter": "python",
   "pygments_lexer": "ipython3",
   "version": "3.10.10"
  }
 },
 "nbformat": 4,
 "nbformat_minor": 5
}
