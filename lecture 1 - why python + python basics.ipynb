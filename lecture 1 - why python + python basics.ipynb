{
 "cells": [
  {
   "cell_type": "markdown",
   "id": "a38790a5",
   "metadata": {},
   "source": [
    "Where to write Python?\n",
    "\n",
    "Two major options:\n",
    "1. Notebooks. Despite the fact that this workshop is making extensive use of Jupyter notebooks (and they have some useful features - see lecture 3!), I would not recommend them for anything beyond the \"exploration\" phase of a project. Why not?\n",
    "-variables are kept in memory:"
   ]
  },
  {
   "cell_type": "code",
   "execution_count": 22,
   "id": "50dec925",
   "metadata": {},
   "outputs": [],
   "source": [
    "import numpy as np\n",
    "import matplotlib.pyplot as plt\n",
    "\n",
    "def forward_one_gen(p, s):\n",
    "    return p + s * p * (1 - p)\n",
    "\n",
    "N = 5000\n",
    "s = 0.01\n",
    "num_gens = 500\n",
    "p_init = .25\n",
    "freqs = np.zeros(num_gens)"
   ]
  },
  {
   "cell_type": "code",
   "execution_count": 13,
   "id": "ba627e0a",
   "metadata": {},
   "outputs": [],
   "source": [
    "freqs[0] = p_init\n",
    "for i in np.arange(1,num_gens):\n",
    "    freqs[i] = forward_one_gen(freqs[i-1], s)"
   ]
  },
  {
   "cell_type": "code",
   "execution_count": 14,
   "id": "917e858e",
   "metadata": {},
   "outputs": [
    {
     "data": {
      "image/png": "[encoded data removed]",
      "text/plain": [
       "<Figure size 640x480 with 1 Axes>"
      ]
     },
     "metadata": {},
     "output_type": "display_data"
    }
   ],
   "source": [
    "plt.plot(freqs)\n",
    "plt.show()"
   ]
  },
  {
   "cell_type": "markdown",
   "id": "0cfc1120",
   "metadata": {},
   "source": [
    "uh oh!\n",
    "this also highlights another problem with notebooks - how would I figure out what was wrong here? Print out the value of every variable? Seems extremely difficult if I have thousands of lines of code across multiple files...\n",
    "\n",
    "that said, my PI (CS major in college) does 90% of his coding in notebooks so it's certainly doable."
   ]
  },
  {
   "cell_type": "markdown",
   "id": "3d05cf53",
   "metadata": {},
   "source": [
    "2. some sort of actual editor.\n",
    "-I use pycharm for a few reasons:\n",
    "variable viewer (viewing numpy arrays well!!!) + inline plots can be useful + notebook like ability to run code after your code has completed\n",
    "debugger good, we'll talk more about how to make your code run in the defensive programming lecture but sometimes print statements aren't good enough. very useful to be able to step through individual lines of code.\n",
    "refactoring/renaming across a project is quite nice - I'm going to have to rename basically everything from \"genic\" to \"additive\" before I can publish my paper, I can do that. Even just finding within a project has been very useful - you copy code from one file to another, forget what the inputs to the code are exactly, just search it. (example maybe?)\n",
    "plenty of alternatives exist - VSCode, emacs/vim if you actually know how to use computers, Spyder, etc."
   ]
  },
  {
   "cell_type": "markdown",
   "id": "338db438",
   "metadata": {},
   "source": [
    "useful things in base python (15 minutes)?\n",
    "-decorators"
   ]
  },
  {
   "cell_type": "markdown",
   "id": "695dd935",
   "metadata": {},
   "source": [
    "###Advanced Introductory Python\n",
    "\n",
    "strings! they're a tuple of characters"
   ]
  },
  {
   "cell_type": "code",
   "execution_count": 15,
   "id": "0209d362",
   "metadata": {},
   "outputs": [
    {
     "name": "stdout",
     "output_type": "stream",
     "text": [
      "?\n"
     ]
    }
   ],
   "source": [
    "test_str = \"mutable?\"\n",
    "print(test_str[-1])"
   ]
  },
  {
   "cell_type": "code",
   "execution_count": 16,
   "id": "a9767473",
   "metadata": {},
   "outputs": [
    {
     "ename": "TypeError",
     "evalue": "'str' object does not support item assignment",
     "output_type": "error",
     "traceback": [
      "\u001b[1;31m---------------------------------------------------------------------------\u001b[0m",
      "\u001b[1;31mTypeError\u001b[0m                                 Traceback (most recent call last)",
      "Cell \u001b[1;32mIn[16], line 1\u001b[0m\n\u001b[1;32m----> 1\u001b[0m test_str[\u001b[38;5;241m-\u001b[39m\u001b[38;5;241m1\u001b[39m] \u001b[38;5;241m=\u001b[39m \u001b[38;5;124m\"\u001b[39m\u001b[38;5;124m!\u001b[39m\u001b[38;5;124m\"\u001b[39m\n",
      "\u001b[1;31mTypeError\u001b[0m: 'str' object does not support item assignment"
     ]
    }
   ],
   "source": [
    "test_str[-1] = \"!\""
   ]
  },
  {
   "cell_type": "markdown",
   "id": "e924ef16",
   "metadata": {},
   "source": [
    "they support a variety of fun methods"
   ]
  },
  {
   "cell_type": "code",
   "execution_count": 18,
   "id": "57f5dc46",
   "metadata": {},
   "outputs": [
    {
     "name": "stdout",
     "output_type": "stream",
     "text": [
      "MUTABLE?\n",
      "m\n",
      "table?\n"
     ]
    }
   ],
   "source": [
    "tall_test_str = test_str.upper()\n",
    "print(tall_test_str)\n",
    "split_str = test_str.split(\"u\")\n",
    "for split_part in split_str:\n",
    "    print(split_part)"
   ]
  },
  {
   "cell_type": "markdown",
   "id": "9a967b73",
   "metadata": {},
   "source": [
    "what *should* you know about strings? how to format them!"
   ]
  },
  {
   "cell_type": "code",
   "execution_count": 24,
   "id": "c31a85b7",
   "metadata": {},
   "outputs": [
    {
     "name": "stdout",
     "output_type": "stream",
     "text": [
      "frequency at gen. 100 is 0.475. In a population of size 5000, 2375 will have the allele.\n",
      "frequency at gen. 200 is 0.711. In a population of size 5000, 3556 will have the allele.\n",
      "frequency at gen. 300 is 0.870. In a population of size 5000, 4352 will have the allele.\n",
      "frequency at gen. 400 is 0.948. In a population of size 5000, 4741 will have the allele.\n"
     ]
    }
   ],
   "source": [
    "freqs[0] = p_init\n",
    "for i in np.arange(1,num_gens):\n",
    "    freqs[i] = forward_one_gen(freqs[i-1], s)\n",
    "    if not i%100:\n",
    "        print(f\"frequency at gen. {i} is {freqs[i]:.3f}. In a population of size {N}, {freqs[i]*N:.0f} will have the allele.\")"
   ]
  },
  {
   "cell_type": "code",
   "execution_count": null,
   "id": "fe51b129",
   "metadata": {},
   "outputs": [],
   "source": [
    "dictionaries are an ordered (as of Python 3.7, apparently!) collection of things:"
   ]
  },
  {
   "cell_type": "code",
   "execution_count": 30,
   "id": "d458c37e",
   "metadata": {},
   "outputs": [
    {
     "name": "stdout",
     "output_type": "stream",
     "text": [
      "I have 3 apples\n",
      "I have 4 bananas\n",
      "I have 0 papayas\n",
      "got apples!\n",
      "still need pears\n",
      "still need papayas\n"
     ]
    }
   ],
   "source": [
    "fruit_dict = {\"apples\": 3, \"bananas\": 5, \"papayas\": 0}\n",
    "fruit_dict[\"bananas\"] = 4\n",
    "for fruit_key, fruit_num in fruit_dict.items():\n",
    "    print(f\"I have {fruit_num} {fruit_key}\")\n",
    "\n",
    "shopping_list_fruits = [\"apples\", \"pears\", \"papayas\"]\n",
    "for needed_fruit in shopping_list_fruits:\n",
    "    if needed_fruit in fruit_dict and fruit_dict[needed_fruit]>0:\n",
    "        print(f\"got {needed_fruit}!\")\n",
    "    else:\n",
    "        print(f\"still need {needed_fruit}\")"
   ]
  },
  {
   "cell_type": "markdown",
   "id": "f98548d5",
   "metadata": {},
   "source": [
    "when would we use dictionaries?\n",
    "\n",
    "somewhat silly case: at some point you will think to yourself, \"gee I'd like to dynamically name this set of variables.\"\n",
    "you can't. that's what a dictionary is for! you can dynamically name dictionary keys and store the corresponding value.\n",
    "\n",
    "less silly: dictionaries are great for saving data/parameters. *show example*"
   ]
  },
  {
   "cell_type": "code",
   "execution_count": 57,
   "id": "9fe0933e",
   "metadata": {},
   "outputs": [
    {
     "name": "stdout",
     "output_type": "stream",
     "text": [
      "I'm depickled rick!\n"
     ]
    }
   ],
   "source": [
    "import pickle\n",
    "\n",
    "name = \"rick\"\n",
    "filename = \"where_am_i_saving_this.pickle\"\n",
    "\n",
    "with open(filename, \"wb\") as file:\n",
    "    pickle.dump(name, file)\n",
    "    \n",
    "#he turned himself into a pickle 😱😱😱\n",
    "\n",
    "with open(filename, \"rb\") as file:\n",
    "    pickled_name = pickle.load(file)\n",
    "print(f\"I'm depickled {pickled_name}!\")"
   ]
  },
  {
   "cell_type": "markdown",
   "id": "e40983fa",
   "metadata": {},
   "source": [
    "list comprehension: even more pythonic than for loops"
   ]
  },
  {
   "cell_type": "code",
   "execution_count": null,
   "id": "d32b673d",
   "metadata": {},
   "outputs": [],
   "source": [
    "#bad python\n",
    "fruit_beginnings_range = []\n",
    "for i in range(len(shopping_list_fruits)):\n",
    "    fruit_i = shopping_list_fruits[i]\n",
    "    fruit_beginnings_range.append(fruit_i[:2])\n",
    "print(fruit_beginnings_range)"
   ]
  },
  {
   "cell_type": "code",
   "execution_count": null,
   "id": "be556293",
   "metadata": {},
   "outputs": [],
   "source": [
    "#good python\n",
    "fruit_beginnings_for = []\n",
    "for fruit in shopping_list_fruits:\n",
    "    fruit_beginnings_for.append(fruit[:2])\n",
    "print(fruit_beginnings_for)"
   ]
  },
  {
   "cell_type": "code",
   "execution_count": null,
   "id": "1358801f",
   "metadata": {},
   "outputs": [],
   "source": [
    "#best python\n",
    "fruit_beginnings_listcomp = [fruit[:2] for fruit in shopping_list_fruits]\n",
    "print(fruit_beginnings_listcomp)"
   ]
  },
  {
   "cell_type": "markdown",
   "id": "4fa26221",
   "metadata": {},
   "source": [
    "you might think \"ok this is cute but I'm working with numbers, when would I ever use this?\"\n",
    "show examples from my codebase, using \\[.*for.*in.*\\] regex - present_mask and model classification."
   ]
  },
  {
   "cell_type": "markdown",
   "id": "cce4ee84",
   "metadata": {},
   "source": [
    "control flow\n",
    "\n",
    "not much to say here - was going to talk about match-case (new in Python 3.10!) but turns out it's much more complicated and less useful than I thought. Only addition to control flow I'll mention is the walrus operator:"
   ]
  },
  {
   "cell_type": "code",
   "execution_count": null,
   "id": "ce159fef",
   "metadata": {},
   "outputs": [],
   "source": [
    "big_data = np.random.uniform(0,1,size=(1000,1000))\n",
    "if np.sum(big_data) > 500000:\n",
    "    print(np.sum(big_data))\n",
    "#this computes np.sum(big_data) twice, which can get expensive!\n",
    "    \n",
    "#enter the walrus operator!\n",
    "if (big_sum := np.sum(big_data)) > 500000:\n",
    "    print(big_sum)"
   ]
  },
  {
   "cell_type": "code",
   "execution_count": null,
   "id": "e17e307b",
   "metadata": {},
   "outputs": [],
   "source": [
    "#can MASSIVELY improve code readability - here's an example from the python standard library (copy.py) itself:\n",
    "reductor = dispatch_table.get(cls)\n",
    "if reductor:\n",
    "    rv = reductor(x)\n",
    "else:\n",
    "    reductor = getattr(x, \"__reduce_ex__\", None)\n",
    "    if reductor:\n",
    "        rv = reductor(4)\n",
    "    else:\n",
    "        reductor = getattr(x, \"__reduce__\", None)\n",
    "        if reductor:\n",
    "            rv = reductor()\n",
    "        else:\n",
    "            raise Error(\n",
    "                \"un(deep)copyable object of type %s\" % cls)\n",
    "            \n",
    "#becomes\n",
    "if reductor := dispatch_table.get(cls):\n",
    "    rv = reductor(x)\n",
    "elif reductor := getattr(x, \"__reduce_ex__\", None):\n",
    "    rv = reductor(4)\n",
    "elif reductor := getattr(x, \"__reduce__\", None):\n",
    "    rv = reductor()\n",
    "else:\n",
    "    raise Error(\"un(deep)copyable object of type %s\" % cls)"
   ]
  },
  {
   "cell_type": "markdown",
   "id": "fd1e427d",
   "metadata": {},
   "source": [
    "also, there are some use cases for the walrus that aren't just removing an extra line of indentation:"
   ]
  },
  {
   "cell_type": "code",
   "execution_count": null,
   "id": "0ace80a7",
   "metadata": {},
   "outputs": [],
   "source": [
    "while chunk := file.read(8192):\n",
    "   process(chunk)"
   ]
  },
  {
   "cell_type": "markdown",
   "id": "49af2f88",
   "metadata": {},
   "source": [
    "lastly, we can use the walrus operator to improve list comprehension:"
   ]
  },
  {
   "cell_type": "code",
   "execution_count": 31,
   "id": "ce21c240",
   "metadata": {},
   "outputs": [
    {
     "name": "stdout",
     "output_type": "stream",
     "text": [
      "[[1, 0.0], [2, 0.5], [3, 0.6666666666666666], [4, 0.75], [5, 0.8]]\n"
     ]
    }
   ],
   "source": [
    "what_is_this = [(lambda y: [y, x/y])(x+1) for x in range(5)]\n",
    "print(what_is_this)"
   ]
  },
  {
   "cell_type": "code",
   "execution_count": 32,
   "id": "dc93afeb",
   "metadata": {},
   "outputs": [
    {
     "name": "stdout",
     "output_type": "stream",
     "text": [
      "[[1, 0.0], [2, 0.5], [3, 0.6666666666666666], [4, 0.75], [5, 0.8]]\n"
     ]
    }
   ],
   "source": [
    "#becomes\n",
    "print([[y := x+1, x/y] for x in range(5)])"
   ]
  },
  {
   "cell_type": "markdown",
   "id": "0c160719",
   "metadata": {},
   "source": [
    "decorators: making functions extra functional"
   ]
  },
  {
   "cell_type": "code",
   "execution_count": 46,
   "id": "2e33ae37",
   "metadata": {},
   "outputs": [],
   "source": [
    "def do_twice(func):\n",
    "    def do_twice_wrapper():\n",
    "        func()\n",
    "        func()\n",
    "    return do_twice_wrapper\n",
    "\n",
    "def cheer_bphys():\n",
    "    print(\"woo biophysics\")"
   ]
  },
  {
   "cell_type": "code",
   "execution_count": 47,
   "id": "3ff695fa",
   "metadata": {},
   "outputs": [
    {
     "name": "stdout",
     "output_type": "stream",
     "text": [
      "woo biophysics\n",
      "woo biophysics\n"
     ]
    }
   ],
   "source": [
    "new_func = do_twice(cheer_bphys)"
   ]
  },
  {
   "cell_type": "code",
   "execution_count": 43,
   "id": "1b031bd2",
   "metadata": {},
   "outputs": [
    {
     "name": "stdout",
     "output_type": "stream",
     "text": [
      "woo biophysics\n",
      "woo biophysics\n"
     ]
    }
   ],
   "source": [
    "new_func()"
   ]
  },
  {
   "cell_type": "markdown",
   "id": "d5a3074d",
   "metadata": {},
   "source": [
    "do the decorator!"
   ]
  },
  {
   "cell_type": "code",
   "execution_count": 48,
   "id": "ecc4a654",
   "metadata": {},
   "outputs": [],
   "source": [
    "@do_twice\n",
    "def cheer_anything(thing):\n",
    "    print(f\"woo {thing}\")"
   ]
  },
  {
   "cell_type": "code",
   "execution_count": 49,
   "id": "eadaaa64",
   "metadata": {},
   "outputs": [
    {
     "ename": "TypeError",
     "evalue": "do_twice.<locals>.do_twice_wrapper() takes 0 positional arguments but 1 was given",
     "output_type": "error",
     "traceback": [
      "\u001b[1;31m---------------------------------------------------------------------------\u001b[0m",
      "\u001b[1;31mTypeError\u001b[0m                                 Traceback (most recent call last)",
      "Cell \u001b[1;32mIn[49], line 1\u001b[0m\n\u001b[1;32m----> 1\u001b[0m \u001b[43mcheer_anything\u001b[49m\u001b[43m(\u001b[49m\u001b[38;5;124;43m\"\u001b[39;49m\u001b[38;5;124;43mchemistry\u001b[39;49m\u001b[38;5;124;43m\"\u001b[39;49m\u001b[43m)\u001b[49m\n",
      "\u001b[1;31mTypeError\u001b[0m: do_twice.<locals>.do_twice_wrapper() takes 0 positional arguments but 1 was given"
     ]
    }
   ],
   "source": [
    "cheer_anything(\"chemistry\")"
   ]
  },
  {
   "cell_type": "code",
   "execution_count": 51,
   "id": "925939d8",
   "metadata": {},
   "outputs": [],
   "source": [
    "def do_anything_twice(func):\n",
    "    def do_anything_twice_wrapper(*args, **kwargs):\n",
    "        func(*args, **kwargs)\n",
    "        func(*args, **kwargs)\n",
    "    return do_anything_twice_wrapper\n",
    "\n",
    "@do_anything_twice\n",
    "def cheer_anything(thing):\n",
    "    print(f\"woo {thing}\")"
   ]
  },
  {
   "cell_type": "code",
   "execution_count": 52,
   "id": "d7fec9b3",
   "metadata": {},
   "outputs": [
    {
     "name": "stdout",
     "output_type": "stream",
     "text": [
      "woo chemistry\n",
      "woo chemistry\n"
     ]
    }
   ],
   "source": [
    "cheer_anything(\"chemistry\")"
   ]
  },
  {
   "cell_type": "code",
   "execution_count": null,
   "id": "3984d841",
   "metadata": {},
   "outputs": [],
   "source": [
    "def time_anything(func):\n",
    "    def timer_wrapper(*args, **kwargs):\n",
    "        #start timer\n",
    "        func(*args, **kwargs)\n",
    "        #stop timer\n",
    "    return timer_wrapper"
   ]
  }
 ],
 "metadata": {
  "kernelspec": {
   "display_name": "Python 3 (ipykernel)",
   "language": "python",
   "name": "python3"
  },
  "language_info": {
   "codemirror_mode": {
    "name": "ipython",
    "version": 3
   },
   "file_extension": ".py",
   "mimetype": "text/x-python",
   "name": "python",
   "nbconvert_exporter": "python",
   "pygments_lexer": "ipython3",
   "version": "3.10.10"
  }
 },
 "nbformat": 4,
 "nbformat_minor": 5
}
