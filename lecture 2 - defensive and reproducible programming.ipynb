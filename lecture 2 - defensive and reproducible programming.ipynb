{
 "cells": [
  {
   "cell_type": "markdown",
   "id": "93fb28b4-f2f7-4a76-ac7f-b8a83a0dfec5",
   "metadata": {},
   "source": [
    "### defensive programming"
   ]
  },
  {
   "cell_type": "code",
   "execution_count": null,
   "id": "0682744d-9be7-4158-a060-e279d5be9e31",
   "metadata": {},
   "outputs": [],
   "source": [
    "#run car\n",
    "#add an extra .brake() - what's going on here?\n",
    "#add print statements after accelerate and brakes\n",
    "#debug the thing\n",
    "#mention conditional debugger\n",
    "#add an assert to the odometer - maybe someone adds something to let the car drive backwards. odometer still shouldn't be negative."
   ]
  },
  {
   "cell_type": "markdown",
   "id": "80799f90-619d-4820-aa90-4e0df5f1fbc2",
   "metadata": {},
   "source": [
    "defensive programming things:\n",
    "print statements:\n",
    "how do we figure out how our code doesn't work? we have some expectation of what values variables have, and they don't have those. Need to see what's in the variables!\n",
    "Simplest method is just print(x). This is honestly very good!! Obviously don't have print statements in your final code, but honestly I use a lot of print statements. The alternative is the logging module, but I prefer print statements - much faster, I don't mind having my output spammed with stuff, going into another file and having potentially a log file per python file is a lot of clutter.\n",
    "\n",
    "debugging (10 min)\n",
    "PyCharm's visual debugger is extremely useful!! show operation. set a breakpoint, code will stop running there. then you get:\n",
    "-evaluating expressions. good to see what the values of operations that break your program will be, check array operations, etc.\n",
    "-view numpy arrays!!! extremely useful\n",
    "-program execution control - step over = executes line by line, skipping functions, step into = goes into function calls, step into (my code) is the same but ignoring libraries, step out goes up a level. run to cursor - \"mobile breakpoint\"\n",
    "-conditional breakpoints!! I learned about these when making this, but god these seem very useful - you can have the breakpoint trigger only when something is met, so if there's a loop that breaks towards the end, make it break when the index variable is 99% done, etc."
   ]
  },
  {
   "cell_type": "markdown",
   "id": "41f56242-ede3-4d65-99a3-0327495ba010",
   "metadata": {},
   "source": [
    "asserts:\n",
    "print statements are nice for when things go wrong, how do we do prevent errors before they happen? asserts! \n",
    "https://blog.regehr.org/archives/1091 is the best philosophical resource about asserts I've come across. \n",
    "Key points: \"An assertion is a Boolean expression at a specific point in a program which will be true unless there is a bug in the program.\"\n",
    "Basically, they're a way to reassure yourself that things are as they should be. Sanity checks. I think two main types of asserts are useful in research computing:\n",
    "1. math stuff - if variables, operations, etc. are mathematically constrained, assert that this is the case! e.g. the assert with probabilities summing to 1 in the hmm\n",
    "2. preconditions - at the top of functions, make sure that arrays that will be multiplied have the complementary shapes, etc. no real type checking in Python so this is a useful equivalent. don't literally use this to check types though! Asserts should be pretty sparing - the blog above says empirically 1 in 70 lines of code."
   ]
  },
  {
   "cell_type": "markdown",
   "id": "59611ef3-40a2-4195-878f-eec02e9d53b2",
   "metadata": {},
   "source": [
    "code publishing things:\n",
    "argparse (10 min)\n",
    "sometimes, you cannot run your code inside PyCharm, but must run it from the command line. The two primary instances of this are:\n",
    "-when publishing, people often want a command line tool. idrk why but they do.\n",
    "-for cluster work it's somewhere between much easier and the only way to get jobs to run.\n",
    "you can use sys.argv and make your command something like python science.py 4 10 \"linear\" 500 1e4 \"fast\" 8\n",
    "or use argparse! Python's built in library for, unsurprisingly, parsing command line arguments."
   ]
  },
  {
   "cell_type": "markdown",
   "id": "86aff98d-e2ab-4397-8927-d85474052c11",
   "metadata": {},
   "source": [
    "How argparse works: 3 easy steps.\n",
    "    \n",
    "1. set up ArgumentParser"
   ]
  },
  {
   "cell_type": "code",
   "execution_count": null,
   "id": "a9017de1-4ebe-4d16-b442-cc459247d7a4",
   "metadata": {},
   "outputs": [],
   "source": [
    "import argparse\n",
    "parser = argparse.ArgumentParser()"
   ]
  },
  {
   "cell_type": "markdown",
   "id": "c833a9f1-930e-41a5-8431-75c364732774",
   "metadata": {},
   "source": [
    "2. add arguments"
   ]
  },
  {
   "cell_type": "code",
   "execution_count": null,
   "id": "650b89dd-e224-4ecb-8101-761e4b2970a5",
   "metadata": {},
   "outputs": [],
   "source": [
    "parser.add_argument(\"filename\", type=argparse.FileType(\"rb\"), help=\"input file\")\n",
    "parser.add_argument(\"-n\", \"--number\", type=int, default=5, help=\"an optional integer\")\n",
    "parser.add_argument(\"--print_this_stuff\", nargs=\"*\", help=\"prints all the extra args you put in\")"
   ]
  },
  {
   "cell_type": "markdown",
   "id": "0e197952-ea11-449b-9470-0f0cf9c3e0f5",
   "metadata": {},
   "source": [
    "3. parse args"
   ]
  },
  {
   "cell_type": "code",
   "execution_count": null,
   "id": "0360416c-e28f-48ee-b9f0-7e3274abf799",
   "metadata": {},
   "outputs": [],
   "source": [
    "args = parser.parse_args()\n",
    "\n",
    "#args now has a variable for each argument:\n",
    "print(args.filename)\n",
    "print(args.number)\n",
    "for val in args.print_this_stuff:\n",
    "    print(val)\n",
    "\n",
    "#also the documentation is built-in! -h"
   ]
  },
  {
   "cell_type": "markdown",
   "id": "ef2b83b4-567b-4776-b299-e90b59baf4f3",
   "metadata": {},
   "source": [
    "Because it is a well-written module, argparse can handle whatever stuff you might want out of your inputs. Different types, required/optional arguments, mutually exclusive groups (e.g. \"verbose\" mode vs. \"quiet\" mode) - use group = parser.add_mutually_exclusive_group() and then group.add_argument()"
   ]
  },
  {
   "cell_type": "markdown",
   "id": "ec85bdde",
   "metadata": {},
   "source": [
    "#### how to use git\n",
    "<br/><br/><br/><br/><br/><br/>\n",
    "<br/><br/><br/><br/><br/><br/>\n",
    "<br/><br/><br/><br/><br/><br/>\n",
    "ok I lied I'm not going to teach you anything about git. why? Git has actively impeded my research progress on several occasions. Unless you're in Meren's lab, which is impossible b/c he's leaving I think, projects you are involved in are going to be coded by at most two people. You do not need git if you are the only person coding anything.\n",
    "The one aspect of git I have used as a solo coder is if you want to update stuff on a remote directory/cluster/etc. - it can be nice to make all your local changes than just git pull on the cluster.\n",
    "Ok but what about versioning/reverting/etc.????? Box! Putting all your stuff on box is good in case your computer breaks. Also, thanks to the University of Chicago, we have this wonderful thing called \"version history\" that will *automatically* keep track of basically all the changes you make to something. No need to git pull git update git push whatever."
   ]
  },
  {
   "cell_type": "markdown",
   "id": "217de7d8",
   "metadata": {},
   "source": [
    "### argparse\n",
    "\n",
    "sometimes, you cannot run your code inside PyCharm, but must run it from the command line. The two primary instances of this are:\n",
    "- when publishing, people often want a command line tool. idrk why but they do.\n",
    "- for cluster work it's somewhere between much easier and the only way to get jobs to run.\n",
    "\n",
    "you can use sys.argv and make your command something like python science.py 4 10 \"linear\" 500 1e4 \"fast\" 8\n",
    "\n",
    "or use argparse! Python's built in library for, unsurprisingly, parsing command line arguments."
   ]
  },
  {
   "cell_type": "markdown",
   "id": "e481937e",
   "metadata": {},
   "source": [
    "How argparse works: 3 easy steps.\n",
    "    \n",
    "1. set up ArgumentParser"
   ]
  },
  {
   "cell_type": "code",
   "execution_count": 63,
   "id": "d58fc259",
   "metadata": {},
   "outputs": [],
   "source": [
    "import argparse\n",
    "parser = argparse.ArgumentParser()"
   ]
  },
  {
   "cell_type": "markdown",
   "id": "e367712b",
   "metadata": {},
   "source": [
    "2. add arguments"
   ]
  },
  {
   "cell_type": "code",
   "execution_count": 64,
   "id": "97731b84",
   "metadata": {},
   "outputs": [
    {
     "data": {
      "text/plain": [
       "_StoreAction(option_strings=['--print_this_stuff'], dest='print_this_stuff', nargs='*', const=None, default=None, type=None, choices=None, required=False, help='prints all the extra args you put in', metavar=None)"
      ]
     },
     "execution_count": 64,
     "metadata": {},
     "output_type": "execute_result"
    }
   ],
   "source": [
    "parser.add_argument(\"filename\", type=argparse.FileType(\"rb\"), help=\"input file\")\n",
    "parser.add_argument(\"-n\", \"--number\", type=int, default=5, help=\"an optional integer\")\n",
    "parser.add_argument(\"--print_this_stuff\", nargs=\"*\", help=\"prints all the extra args you put in\")"
   ]
  },
  {
   "cell_type": "markdown",
   "id": "26355f3b",
   "metadata": {},
   "source": [
    "3. parse args"
   ]
  },
  {
   "cell_type": "code",
   "execution_count": null,
   "id": "29985867",
   "metadata": {},
   "outputs": [],
   "source": [
    "args = parser.parse_args()\n",
    "\n",
    "#args now has a variable for each argument:\n",
    "print(args.filename)\n",
    "print(args.number)\n",
    "for val in args.print_this_stuff:\n",
    "    print(val)\n",
    "\n",
    "#also the documentation is built-in! -h"
   ]
  },
  {
   "cell_type": "markdown",
   "id": "86867b51",
   "metadata": {},
   "source": [
    "Because it is a well-written module, argparse can handle whatever stuff you might want out of your inputs. Different types, required/optional arguments, mutually exclusive groups (e.g. \"verbose\" mode vs. \"quiet\" mode) - use group = parser.add_mutually_exclusive_group() and then group.add_argument()"
   ]
  },
  {
   "cell_type": "markdown",
   "id": "3475b69c-535b-4540-af94-e3982c846bbc",
   "metadata": {},
   "source": [
    "### Reproducibility and other good research practices"
   ]
  },
  {
   "cell_type": "markdown",
   "id": "99787dd7",
   "metadata": {},
   "source": [
    "#### snakemake\n",
    "\n",
    "automated workflow creation! no more running 10 python scripts in a row oh wait I forgot I updated the 6th one now I have to rerun everything again oh wait I ran these two out of order so it didn't run on the latest dataset time to rerun everything etc"
   ]
  },
  {
   "cell_type": "code",
   "execution_count": 1,
   "id": "c00e3200-0e58-46f0-9597-56d2b158a821",
   "metadata": {},
   "outputs": [
    {
     "name": "stdout",
     "output_type": "stream",
     "text": [
      "Object `here` not found.\n"
     ]
    }
   ],
   "source": [
    "kinda just go through my current stack here?"
   ]
  },
  {
   "cell_type": "code",
   "execution_count": null,
   "id": "c35abbdf",
   "metadata": {},
   "outputs": [],
   "source": [
    "SAMPLES = [\"A\", \"B\"]\n",
    "\n",
    "\n",
    "rule all:\n",
    "    input:\n",
    "        \"plots/quals.svg\"\n",
    "\n",
    "\n",
    "rule bwa_map:\n",
    "    input:\n",
    "        \"data/genome.fa\",\n",
    "        \"data/samples/{sample}.fastq\"\n",
    "    output:\n",
    "        \"mapped_reads/{sample}.bam\"\n",
    "    shell:\n",
    "        \"bwa mem {input} | samtools view -Sb - > {output}\"\n",
    "\n",
    "\n",
    "rule samtools_sort:\n",
    "    input:\n",
    "        \"mapped_reads/{sample}.bam\"\n",
    "    output:\n",
    "        \"sorted_reads/{sample}.bam\"\n",
    "    shell:\n",
    "        \"samtools sort -T sorted_reads/{wildcards.sample} \"\n",
    "        \"-O bam {input} > {output}\"\n",
    "\n",
    "\n",
    "rule samtools_index:\n",
    "    input:\n",
    "        \"sorted_reads/{sample}.bam\"\n",
    "    output:\n",
    "        \"sorted_reads/{sample}.bam.bai\"\n",
    "    shell:\n",
    "        \"samtools index {input}\"\n",
    "\n",
    "\n",
    "rule bcftools_call:\n",
    "    input:\n",
    "        fa=\"data/genome.fa\",\n",
    "        bam=expand(\"sorted_reads/{sample}.bam\", sample=SAMPLES),\n",
    "        bai=expand(\"sorted_reads/{sample}.bam.bai\", sample=SAMPLES)\n",
    "    output:\n",
    "        \"calls/all.vcf\"\n",
    "    shell:\n",
    "        \"bcftools mpileup -f {input.fa} {input.bam} | \"\n",
    "        \"bcftools call -mv - > {output}\"\n",
    "\n",
    "\n",
    "rule plot_quals:\n",
    "    input:\n",
    "        \"calls/all.vcf\"\n",
    "    output:\n",
    "        \"plots/quals.svg\"\n",
    "    script:\n",
    "        \"scripts/plot-quals.py\""
   ]
  },
  {
   "cell_type": "markdown",
   "id": "c27542b3",
   "metadata": {},
   "source": [
    "![snakemake_dag](https://snakemake.readthedocs.io/en/stable/_images/dag_call.png)"
   ]
  },
  {
   "cell_type": "markdown",
   "id": "c217025e",
   "metadata": {},
   "source": [
    "support for clusters (with special SLURM support!) is built-in as well"
   ]
  }
 ],
 "metadata": {
  "kernelspec": {
   "display_name": "Python 3 (ipykernel)",
   "language": "python",
   "name": "python3"
  },
  "language_info": {
   "codemirror_mode": {
    "name": "ipython",
    "version": 3
   },
   "file_extension": ".py",
   "mimetype": "text/x-python",
   "name": "python",
   "nbconvert_exporter": "python",
   "pygments_lexer": "ipython3",
   "version": "3.10.14"
  }
 },
 "nbformat": 4,
 "nbformat_minor": 5
}
