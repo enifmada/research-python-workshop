{
 "cells": [
  {
   "cell_type": "markdown",
   "id": "50e3e0c6",
   "metadata": {},
   "source": [
    "### How to begin writing Python\n",
    "\n",
    "Download Python. Highly recommend https://docs.anaconda.com/miniconda/ (rather than Anaconda or python.org), it's like 1/10th the space and you can just install packages as needed.\n",
    "\n",
    "##### Where to write Python?\n",
    "\n",
    "Two major options:\n",
    "1. Notebooks. This workshop is making extensive use of Jupyter notebooks. They are easy to set up and straightforward to work with:"
   ]
  },
  {
   "cell_type": "code",
   "execution_count": null,
   "id": "3a29c97a-e835-4f58-944b-56006d15bdc5",
   "metadata": {},
   "outputs": [],
   "source": [
    "a = 3"
   ]
  },
  {
   "cell_type": "code",
   "execution_count": null,
   "id": "3c702d14-3732-4007-b300-d6235f5e9625",
   "metadata": {},
   "outputs": [],
   "source": [
    "print(a)\n",
    "#wow"
   ]
  },
  {
   "cell_type": "markdown",
   "id": "9fa8ce87-d2c0-4d8f-ba04-2ede8a80b6b6",
   "metadata": {},
   "source": [
    "For more useful features of notebooks see lecture 3!\n",
    "\n",
    "I would not recommend notebooks for anything beyond the \"exploration\" phase of a project. Why not?\n",
    "-variables are kept in memory:"
   ]
  },
  {
   "cell_type": "code",
   "execution_count": null,
   "id": "80a2d01e",
   "metadata": {},
   "outputs": [],
   "source": [
    "import numpy as np\n",
    "import matplotlib.pyplot as plt\n",
    "\n",
    "def forward_one_gen(p, s):\n",
    "    return p + s * p * (1 - p)\n",
    "\n",
    "N = 5000\n",
    "s = 0.01\n",
    "num_gens = 500\n",
    "p_init = .25\n",
    "allele_freqs = np.zeros(num_gens)"
   ]
  },
  {
   "cell_type": "code",
   "execution_count": null,
   "id": "87a546cb",
   "metadata": {},
   "outputs": [],
   "source": [
    "allele_freqs[0] = p_init\n",
    "for i in np.arange(1,num_gens):\n",
    "    allele_freqs[i] = forward_one_gen(freqs[i-1], s)"
   ]
  },
  {
   "cell_type": "code",
   "execution_count": null,
   "id": "76dc398b",
   "metadata": {},
   "outputs": [],
   "source": [
    "plt.plot(allele_freqs)\n",
    "plt.show()"
   ]
  },
  {
   "cell_type": "markdown",
   "id": "75a4c133",
   "metadata": {},
   "source": [
    "uh oh!\n",
    "this also highlights another problem with notebooks - how would I figure out what was wrong here? Print out the value of every variable? Seems extremely difficult if I have thousands of lines of code across multiple files...\n",
    "\n",
    "that said, my PI (CS major in college) does 90% of his coding in notebooks so it's certainly doable."
   ]
  },
  {
   "cell_type": "markdown",
   "id": "da3dba39",
   "metadata": {},
   "source": [
    "2. some sort of actual editor.\n",
    "-I use pycharm for a few reasons:\n",
    "\n",
    "\n",
    "- variable viewer (viewing numpy arrays well!!!) + inline plots can be useful + notebook like ability to run code after your code has completed\n",
    "debugger good, we'll talk more about how to make your code run in the defensive programming lecture but sometimes print statements aren't good enough. very useful to be able to step through individual lines of code.\n",
    "- refactoring/renaming across a project is quite nice - I'm had rename basically everything from \"add\" to \"additive\" before I can publish my paper, I can do that. Even just finding within a project has been very useful - you copy code from one file to another, forget what the inputs to the code are exactly, just search it. Demonstrate the Alt + J shortcut thing b/c it's nice.\n",
    "- plenty of alternatives exist - VSCode, emacs/vim if you actually know how to use computers, Spyder, etc."
   ]
  },
  {
   "cell_type": "markdown",
   "id": "c8d03640",
   "metadata": {},
   "source": [
    "### Advanced Introductory Python\n",
    "\n",
    "\n",
    "#### Important data types and what to do with them\n",
    "\n",
    "##### strings! they're a tuple of characters"
   ]
  },
  {
   "cell_type": "code",
   "execution_count": null,
   "id": "e86a3611",
   "metadata": {},
   "outputs": [],
   "source": [
    "test_str = \"mutable?\"\n",
    "print(test_str[-1])"
   ]
  },
  {
   "cell_type": "code",
   "execution_count": null,
   "id": "a57ea0a7",
   "metadata": {},
   "outputs": [],
   "source": [
    "test_str[-1] = \"!\""
   ]
  },
  {
   "cell_type": "markdown",
   "id": "a06e5acc",
   "metadata": {},
   "source": [
    "they support a variety of fun methods"
   ]
  },
  {
   "cell_type": "code",
   "execution_count": null,
   "id": "d9b2d036",
   "metadata": {},
   "outputs": [],
   "source": [
    "tall_test_str = test_str.upper()\n",
    "print(tall_test_str)\n",
    "split_str = test_str.split(\"u\")\n",
    "for split_part in split_str:\n",
    "    print(split_part)"
   ]
  },
  {
   "cell_type": "markdown",
   "id": "aed754b3",
   "metadata": {},
   "source": [
    "what *should* you know about strings? how to format them!"
   ]
  },
  {
   "cell_type": "code",
   "execution_count": null,
   "id": "8111f3f4",
   "metadata": {},
   "outputs": [],
   "source": [
    "freqs[0] = p_init\n",
    "for i in np.arange(1,num_gens):\n",
    "    freqs[i] = forward_one_gen(freqs[i-1], s)\n",
    "    if not i%100:\n",
    "        print(f\"frequency at gen. {i} is {freqs[i]}. In a population of size {N}, {freqs[i]*N:.0f} will have the allele.\")"
   ]
  },
  {
   "cell_type": "markdown",
   "id": "1bc7c4fe-6daf-4b3a-9e57-dc7e359264ce",
   "metadata": {},
   "source": [
    "##### lists and tuples"
   ]
  },
  {
   "cell_type": "code",
   "execution_count": null,
   "id": "535fd76e-0cc7-4151-808c-2957827ba6cf",
   "metadata": {},
   "outputs": [],
   "source": [
    "shopping_list_fruits = [\"apples\", \"pears\", \"papayas\"]\n",
    "print(f\"first item: {shopping_list_fruits[0]}\")\n",
    "print(f\"ending slice: {shopping_list_fruits[-1:]}\")"
   ]
  },
  {
   "cell_type": "markdown",
   "id": "ec981e25-2015-4903-9e6d-d330f8f31cbc",
   "metadata": {},
   "source": [
    "Unlike strings, lists are mutable - you can modify list elements, add items, etc."
   ]
  },
  {
   "cell_type": "code",
   "execution_count": null,
   "id": "e6cdfd1e-d3c6-4bae-a8d8-ae10911e1de4",
   "metadata": {},
   "outputs": [],
   "source": [
    "print(shopping_list_fruits)\n",
    "shopping_list_fruits.append(\"durians\")\n",
    "print(shopping_list_fruits)\n",
    "\n",
    "#hmm maybe not durians...\n",
    "shopping_list_fruits[-1] = \"peaches\"\n",
    "print(shopping_list_fruits)"
   ]
  },
  {
   "cell_type": "markdown",
   "id": "c473e3df-b733-48fd-abb0-b42936ef8a1a",
   "metadata": {},
   "source": [
    "tuples are immutable lists. That's it."
   ]
  },
  {
   "cell_type": "code",
   "execution_count": null,
   "id": "c511855c-5768-4d89-916f-93dfa4cf8260",
   "metadata": {},
   "outputs": [],
   "source": [
    "shopping_tuple_fruits = (\"apples\", \"pears\", \"papayas\")\n",
    "print(shopping_tuple_fruits[0])"
   ]
  },
  {
   "cell_type": "code",
   "execution_count": null,
   "id": "e9319ffe-d229-46a7-967a-3bb5c5d13fa6",
   "metadata": {},
   "outputs": [],
   "source": [
    "shopping_tuple_fruits[-1] = \"durians\""
   ]
  },
  {
   "cell_type": "markdown",
   "id": "25902b5b-3c90-438b-8c9a-365f5b7f4c44",
   "metadata": {},
   "source": [
    "They are most frequently seen in the context of variable unpacking:"
   ]
  },
  {
   "cell_type": "code",
   "execution_count": null,
   "id": "5cd3d3e0-4ae0-4d10-b30a-b0fda81510cc",
   "metadata": {},
   "outputs": [],
   "source": [
    "# example a\n",
    "\n",
    "mylist = (0,10)\n",
    "\n",
    "created_range = range(*mylist) #nope!\n",
    "\n",
    "\n",
    "\n",
    "#example b\n",
    "\n",
    "import numpy as np\n",
    "a = np.zeros((10,5)) # tuple!\n",
    "\n",
    "length, width = a.shape\n",
    "\n",
    "print(length)\n",
    "print(width)"
   ]
  },
  {
   "cell_type": "markdown",
   "id": "1918528a-4c8b-41de-966d-2ee2e558bc96",
   "metadata": {},
   "source": [
    "##### control flow: no longer covering the walrus operator\n",
    "\n",
    "if statements do exactly what you think:"
   ]
  },
  {
   "cell_type": "code",
   "execution_count": null,
   "id": "225e69b8-97b1-48c2-adad-735c28b22022",
   "metadata": {},
   "outputs": [],
   "source": [
    "a = .9008\n",
    "\n",
    "if a > 9000:\n",
    "    print(\"a's over nine THOUSAAAAAAAAAAAAAAAAAND\")\n",
    "elif (a > 0) and (a < .01):\n",
    "    print(\"a is very demure. very mindful.\")\n",
    "else:\n",
    "    print(\"a is uninteresting\")"
   ]
  },
  {
   "cell_type": "markdown",
   "id": "7b4b876e-f6fa-4429-8323-d4a73dcfb766",
   "metadata": {},
   "source": [
    "for loops are extremely useful because they don't just take a variable. also list comprehensions are cool and useful to replace short loops."
   ]
  },
  {
   "cell_type": "code",
   "execution_count": null,
   "id": "bd7d4509",
   "metadata": {},
   "outputs": [],
   "source": [
    "#bad python\n",
    "fruit_beginnings_range = []\n",
    "shopping_list_fruits[1] = \"pears\"\n",
    "print(shopping_list_fruits)\n",
    "for i in range(len(shopping_list_fruits)):\n",
    "    if shopping_list_fruits[i][:2] in fruit_beginnings_range:\n",
    "        print(f\"already have {shopping_list_fruits[i][:2]} in our list!\")\n",
    "        continue\n",
    "    fruit_i = shopping_list_fruits[i]\n",
    "    fruit_beginnings_range.append(fruit_i[:2])\n",
    "print(fruit_beginnings_range)"
   ]
  },
  {
   "cell_type": "code",
   "execution_count": null,
   "id": "c333a3cf",
   "metadata": {},
   "outputs": [],
   "source": [
    "#good python\n",
    "fruit_beginnings_for = []\n",
    "for fruit in shopping_list_fruits:\n",
    "    fruit_beginnings_for.append(fruit[:2])\n",
    "print(fruit_beginnings_for)"
   ]
  },
  {
   "cell_type": "code",
   "execution_count": null,
   "id": "247eec62",
   "metadata": {
    "scrolled": true
   },
   "outputs": [],
   "source": [
    "#best python\n",
    "fruit_beginnings_listcomp = [fruit[:2] for fruit in shopping_list_fruits]\n",
    "print(fruit_beginnings_listcomp)"
   ]
  },
  {
   "cell_type": "markdown",
   "id": "9ec725d0-bdd3-4f61-a051-506f1f6098a7",
   "metadata": {},
   "source": [
    "you might think \"ok this is cute but I'm working with numbers, when would I ever use this?\"\n",
    "show examples from my codebase, using \\[.*for.*in.*\\] regex - present_mask and model classification."
   ]
  },
  {
   "cell_type": "markdown",
   "id": "3e15269b-2f11-4b45-bd6f-283f665af5e0",
   "metadata": {},
   "source": [
    "##### dictionaries\n",
    "\n",
    "dictionaries are an ordered (as of Python 3.7, apparently!) collection of things:"
   ]
  },
  {
   "cell_type": "code",
   "execution_count": null,
   "id": "33001456",
   "metadata": {},
   "outputs": [],
   "source": [
    "fruit_dict = {\"apples\": 3, \"bananas\": 5, \"papayas\": 0}\n",
    "for fruit_key, fruit_num in fruit_dict.items():\n",
    "    print(f\"I have {fruit_num} {fruit_key}\")\n",
    "fruit_dict[\"bananas\"] = 4\n",
    "\n",
    "fruit_basket = []\n",
    "for needed_fruit in shopping_list_fruits:\n",
    "    if needed_fruit in fruit_dict and fruit_dict[needed_fruit]>0:\n",
    "        print(f\"got {needed_fruit}!\")\n",
    "    else:\n",
    "        print(f\"still need {needed_fruit}\")"
   ]
  },
  {
   "cell_type": "markdown",
   "id": "9cb34605",
   "metadata": {},
   "source": [
    "when would we use dictionaries?\n",
    "\n",
    "somewhat silly case: at some point you will think to yourself, \"gee I'd like to dynamically name this set of variables.\"\n",
    "you can't. that's what a dictionary is for! you can dynamically name dictionary keys and store the corresponding value.\n",
    "\n",
    "\n",
    "less silly case: they're very useful for storing a set of parameters of a simulation. We'll cover (imo) the proper way to import/export these parameters in lecture 2 but here's an example of what I mean:"
   ]
  },
  {
   "cell_type": "markdown",
   "id": "29c460bb-eadf-42ff-9a66-73372da01a46",
   "metadata": {},
   "source": [
    "#### functions\n",
    "\n",
    "two ways of looking at functions:\n",
    "1. functions do something (often to an input).\n",
    "2. functions generalize a particular block of code.\n",
    "\n",
    "Here is an example function:"
   ]
  },
  {
   "cell_type": "code",
   "execution_count": null,
   "id": "b1dabc60-2944-4db1-9c4e-33fd81affb2a",
   "metadata": {},
   "outputs": [],
   "source": [
    "shopping_list_vegs = [\"kale\", \"tomatoes\", \"peas\"]\n",
    "\n",
    "veg_basket = {\"kale\": 3, \"broccoli\": 2, \"peas\": 0}\n",
    "\n",
    "vegs_to_get = []\n",
    "for needed_veg in shopping_list_vegs:\n",
    "    if needed_veg in veg_basket and veg_basket[needed_veg]>0:\n",
    "        print(f\"got {needed_veg}!\")\n",
    "    else:\n",
    "        vegs_to_get.append(needed_veg)\n",
    "        print(f\"still need {needed_veg}\")\n",
    "\n",
    "print(vegs_to_get)\n",
    "#hey wait this looks similar... annoying to keep rewriting all the variable names just for a different list!"
   ]
  },
  {
   "cell_type": "code",
   "execution_count": null,
   "id": "c0e2d2cc-9741-409c-b75e-88c7e7520fe6",
   "metadata": {},
   "outputs": [],
   "source": [
    "def get_actual_shopping_list(shopping_list, basket_dict):\n",
    "    true_list = []\n",
    "    for needed_item in shopping_list:\n",
    "        if needed_item in basket_dict and basket_dict[needed_item]>0:\n",
    "            pass\n",
    "        else:\n",
    "            true_list.append(needed_item)\n",
    "            print(f\"still need {needed_item}\")\n",
    "    return true_list\n",
    "\n",
    "reduced_veg_list = get_actual_shopping_list(shopping_list_vegs, veg_basket)\n",
    "print(reduced_veg_list)\n",
    "\n",
    "reduced_fruit_list = get_actual_shopping_list(shopping_list_fruits, fruit_dict)\n",
    "print(reduced_fruit_list)"
   ]
  },
  {
   "cell_type": "markdown",
   "id": "31d4db9d-ed78-4ea4-91b6-f797f8d0fb1c",
   "metadata": {},
   "source": [
    "Additional feature - keyword vs. positional arguments:"
   ]
  },
  {
   "cell_type": "code",
   "execution_count": null,
   "id": "796c9e94-642e-485b-9553-b97933551f6d",
   "metadata": {},
   "outputs": [],
   "source": [
    "def get_actual_shopping_list(shopping_list, basket_dict, item_thresh=0):\n",
    "    true_list = []\n",
    "    for needed_item in shopping_list:\n",
    "        if needed_item in basket_dict and basket_dict[needed_item]>item_thresh:\n",
    "            print(f\"got {basket_dict[needed_item]} of {needed_item}!\")\n",
    "        else:\n",
    "            true_list.append(needed_item)\n",
    "            print(f\"still need {needed_item}\")\n",
    "    return true_list"
   ]
  },
  {
   "cell_type": "code",
   "execution_count": null,
   "id": "01f3b4f0-261c-4533-b894-886a23154e52",
   "metadata": {},
   "outputs": [],
   "source": [
    "get_actual_shopping_list(shopping_list_vegs, veg_basket)\n",
    "print('-------')\n",
    "get_actual_shopping_list(shopping_list_vegs, veg_basket, item_thresh=4)\n",
    "print('-------')\n",
    "get_actual_shopping_list(shopping_list_vegs, veg_basket, 4)\n",
    "print('-------')\n",
    "get_actual_shopping_list(shopping_list_vegs, item_thresh=4, veg_basket)"
   ]
  },
  {
   "cell_type": "markdown",
   "id": "f42ccd8f-397f-4818-b490-e70a2e48fc9c",
   "metadata": {},
   "source": [
    "##### *args and **kwargs - when you want to make sure you're not forgetting something"
   ]
  },
  {
   "cell_type": "code",
   "execution_count": null,
   "id": "bf8ac948-2103-486f-a644-5efec2ab9f83",
   "metadata": {},
   "outputs": [],
   "source": [
    "def sum_all_arguments(arg1, arg2, arg3, arg4):\n",
    "    return arg1 + arg2 + arg3 + arg4\n",
    "\n",
    "#what if we want to sum 5 things??"
   ]
  },
  {
   "cell_type": "code",
   "execution_count": null,
   "id": "a7b59514-bac3-4bb9-ad31-6584cff9133c",
   "metadata": {},
   "outputs": [],
   "source": [
    "def really_sum_all_arguments(*args):\n",
    "    result = 0\n",
    "    for val in args: #this is a tuple not a list btw\n",
    "        result += val\n",
    "    return result\n",
    "\n",
    "\n",
    "print(really_sum_all_arguments(1,2,3,4))"
   ]
  },
  {
   "cell_type": "markdown",
   "id": "2a8edada-b855-4d4a-8086-e030b1a5ed01",
   "metadata": {},
   "source": [
    "kwargs are similar but for keyword arguments instead of positional:"
   ]
  },
  {
   "cell_type": "code",
   "execution_count": null,
   "id": "2975563f-c4ff-4910-96c4-2a191191d738",
   "metadata": {},
   "outputs": [],
   "source": [
    "def really_concatenate_all_arguments(**kwargs):\n",
    "    result = \"\"\n",
    "    for key in kwargs:\n",
    "        result += kwargs[key]\n",
    "    return result\n",
    "\n",
    "print(really_concatenate_all_arguments(zeroth=\"woo\", first=\"bio\"))"
   ]
  },
  {
   "cell_type": "markdown",
   "id": "be554100",
   "metadata": {},
   "source": [
    "##### Decorators: making functions extra functional"
   ]
  },
  {
   "cell_type": "code",
   "execution_count": null,
   "id": "2d75b9f6",
   "metadata": {},
   "outputs": [],
   "source": [
    "def do_twice(func):\n",
    "    def do_twice_wrapper():\n",
    "        func()\n",
    "        func()\n",
    "    return do_twice_wrapper\n",
    "\n",
    "@do_twice\n",
    "def cheer_bphys():\n",
    "    print(\"woo biophysics\")"
   ]
  },
  {
   "cell_type": "code",
   "execution_count": null,
   "id": "2f62985a",
   "metadata": {},
   "outputs": [],
   "source": [
    "new_func = do_twice(cheer_bphys)\n",
    "new_func()"
   ]
  },
  {
   "cell_type": "code",
   "execution_count": null,
   "id": "d4573a4b",
   "metadata": {},
   "outputs": [],
   "source": [
    "cheer_bphys()"
   ]
  },
  {
   "cell_type": "markdown",
   "id": "4c6f78ed",
   "metadata": {},
   "source": [
    "do the decorator!"
   ]
  },
  {
   "cell_type": "code",
   "execution_count": null,
   "id": "defc50e8",
   "metadata": {},
   "outputs": [],
   "source": [
    "@do_twice\n",
    "def cheer_anything(thing):\n",
    "    print(f\"woo {thing}\")"
   ]
  },
  {
   "cell_type": "code",
   "execution_count": null,
   "id": "ce8f4853",
   "metadata": {},
   "outputs": [],
   "source": [
    "cheer_anything(\"chemistry\")"
   ]
  },
  {
   "cell_type": "code",
   "execution_count": null,
   "id": "07664fb0",
   "metadata": {},
   "outputs": [],
   "source": [
    "def do_anything_twice(func):\n",
    "    def do_anything_twice_wrapper(*args, **kwargs):\n",
    "        func(*args, **kwargs)\n",
    "        func(*args, **kwargs)\n",
    "    return do_anything_twice_wrapper\n",
    "\n",
    "@do_anything_twice\n",
    "def cheer_anything(thing):\n",
    "    print(f\"woo {thing}\")"
   ]
  },
  {
   "cell_type": "code",
   "execution_count": null,
   "id": "7e6d43b1",
   "metadata": {},
   "outputs": [],
   "source": [
    "cheer_anything(\"physics\")"
   ]
  },
  {
   "cell_type": "code",
   "execution_count": null,
   "id": "435bc704",
   "metadata": {},
   "outputs": [],
   "source": [
    "def time_anything(func):\n",
    "    def timer_wrapper(*args, **kwargs):\n",
    "        #start timer\n",
    "        fake_time = 0 \n",
    "        value = func(*args, **kwargs)\n",
    "        #stop timer\n",
    "        fake_time = 5\n",
    "        return value, fake_time\n",
    "    return timer_wrapper\n",
    "\n",
    "\n",
    "@time_anything\n",
    "def some_slow_function(return_val):\n",
    "    return return_val\n",
    "\n",
    "print(some_slow_function(10))"
   ]
  },
  {
   "cell_type": "code",
   "execution_count": null,
   "id": "0633ce54-4f15-48d2-8bd8-a9f312fbba94",
   "metadata": {},
   "outputs": [],
   "source": []
  }
 ],
 "metadata": {
  "kernelspec": {
   "display_name": "Python 3 (ipykernel)",
   "language": "python",
   "name": "python3"
  },
  "language_info": {
   "codemirror_mode": {
    "name": "ipython",
    "version": 3
   },
   "file_extension": ".py",
   "mimetype": "text/x-python",
   "name": "python",
   "nbconvert_exporter": "python",
   "pygments_lexer": "ipython3",
   "version": "3.10.14"
  }
 },
 "nbformat": 4,
 "nbformat_minor": 5
}
