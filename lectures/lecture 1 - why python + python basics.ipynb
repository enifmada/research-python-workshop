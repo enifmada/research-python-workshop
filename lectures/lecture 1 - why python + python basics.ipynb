{
 "cells": [
  {
   "cell_type": "markdown",
   "id": "50e3e0c6",
   "metadata": {},
   "source": [
    "### How to begin writing Python\n",
    "\n",
    "Download Python. Highly recommend https://docs.anaconda.com/miniconda/ (rather than Anaconda or python.org), it's like 1/10th the space and you can just install packages as needed.\n",
    "\n",
    "##### Where to write Python?\n",
    "\n",
    "Two major options:\n",
    "1. Notebooks. This workshop is making extensive use of Jupyter notebooks. They are easy to set up and straightforward to work with:"
   ]
  },
  {
   "cell_type": "code",
   "execution_count": 94,
   "id": "3a29c97a-e835-4f58-944b-56006d15bdc5",
   "metadata": {},
   "outputs": [],
   "source": [
    "a = 3"
   ]
  },
  {
   "cell_type": "code",
   "execution_count": 95,
   "id": "3c702d14-3732-4007-b300-d6235f5e9625",
   "metadata": {},
   "outputs": [
    {
     "name": "stdout",
     "output_type": "stream",
     "text": [
      "3\n"
     ]
    }
   ],
   "source": [
    "print(a)\n",
    "#wow"
   ]
  },
  {
   "cell_type": "markdown",
   "id": "9fa8ce87-d2c0-4d8f-ba04-2ede8a80b6b6",
   "metadata": {},
   "source": [
    "For more useful features of notebooks see lecture 3!\n",
    "\n",
    "I would not recommend notebooks for anything beyond the \"exploration\" phase of a project. Why not?\n",
    "-variables are kept in memory:"
   ]
  },
  {
   "cell_type": "code",
   "execution_count": 99,
   "id": "80a2d01e",
   "metadata": {},
   "outputs": [],
   "source": [
    "import numpy as np\n",
    "import matplotlib.pyplot as plt\n",
    "\n",
    "def forward_one_gen(p, s):\n",
    "    return p + s * p * (1 - p)\n",
    "\n",
    "N = 10000\n",
    "s = 0.01\n",
    "num_gens = 500\n",
    "p_init = .25\n",
    "allele_freqs = np.zeros(num_gens)"
   ]
  },
  {
   "cell_type": "code",
   "execution_count": 102,
   "id": "87a546cb",
   "metadata": {},
   "outputs": [],
   "source": [
    "allele_freqs[0] = p_init\n",
    "for i in np.arange(1,num_gens):\n",
    "    allele_freqs[i] = forward_one_gen(allele_freqs[i-1], s)"
   ]
  },
  {
   "cell_type": "code",
   "execution_count": 103,
   "id": "76dc398b",
   "metadata": {},
   "outputs": [
    {
     "data": {
      "image/png": "[encoded data removed]",
      "text/plain": [
       "<Figure size 640x480 with 1 Axes>"
      ]
     },
     "metadata": {},
     "output_type": "display_data"
    }
   ],
   "source": [
    "plt.plot(allele_freqs)\n",
    "plt.show()"
   ]
  },
  {
   "cell_type": "markdown",
   "id": "75a4c133",
   "metadata": {},
   "source": [
    "uh oh!\n",
    "this also highlights another problem with notebooks - how would I figure out what was wrong here? Print out the value of every variable? Seems extremely difficult if I have thousands of lines of code across multiple files...\n",
    "\n",
    "that said, my PI (CS major in college) does 90% of his coding in notebooks so it's certainly doable."
   ]
  },
  {
   "cell_type": "markdown",
   "id": "da3dba39",
   "metadata": {},
   "source": [
    "2. some sort of actual editor.\n",
    "-I use pycharm for a few reasons:\n",
    "\n",
    "- variable viewer (viewing numpy arrays well!!!) + inline plots can be useful + notebook like ability to run code after your code has completed\n",
    "debugger good, we'll talk more about how to make your code run in the defensive programming lecture but sometimes print statements aren't good enough. very useful to be able to step through individual lines of code.\n",
    "- refactoring/renaming across a project is quite nice - I had  to rename basically everything from \"add\" to \"additive\" before I can publish my paper, I can do that. Even just finding within a project has been very useful - you copy code from one file to another, forget what the inputs to the code are exactly, just search it. Demonstrate the Alt + J shortcut thing b/c it's nice.\n",
    "- plenty of alternatives exist - VSCode, emacs/vim if you actually know how to use computers, Spyder, etc."
   ]
  },
  {
   "cell_type": "markdown",
   "id": "c8d03640",
   "metadata": {},
   "source": [
    "### Advanced Introductory Python\n",
    "\n",
    "\n",
    "#### Important data types and what to do with them\n",
    "\n",
    "##### strings! they're a tuple of characters"
   ]
  },
  {
   "cell_type": "code",
   "execution_count": 104,
   "id": "e86a3611",
   "metadata": {},
   "outputs": [
    {
     "name": "stdout",
     "output_type": "stream",
     "text": [
      "?\n"
     ]
    }
   ],
   "source": [
    "test_str = \"mutable?\"\n",
    "print(test_str[-1])"
   ]
  },
  {
   "cell_type": "code",
   "execution_count": 105,
   "id": "a57ea0a7",
   "metadata": {},
   "outputs": [
    {
     "ename": "TypeError",
     "evalue": "'str' object does not support item assignment",
     "output_type": "error",
     "traceback": [
      "\u001b[0;31m---------------------------------------------------------------------------\u001b[0m",
      "\u001b[0;31mTypeError\u001b[0m                                 Traceback (most recent call last)",
      "Cell \u001b[0;32mIn[105], line 1\u001b[0m\n\u001b[0;32m----> 1\u001b[0m test_str[\u001b[38;5;241m-\u001b[39m\u001b[38;5;241m1\u001b[39m] \u001b[38;5;241m=\u001b[39m \u001b[38;5;124m\"\u001b[39m\u001b[38;5;124m!\u001b[39m\u001b[38;5;124m\"\u001b[39m\n",
      "\u001b[0;31mTypeError\u001b[0m: 'str' object does not support item assignment"
     ]
    }
   ],
   "source": [
    "test_str[-1] = \"!\""
   ]
  },
  {
   "cell_type": "markdown",
   "id": "a06e5acc",
   "metadata": {},
   "source": [
    "they support a variety of fun methods"
   ]
  },
  {
   "cell_type": "code",
   "execution_count": 106,
   "id": "d9b2d036",
   "metadata": {},
   "outputs": [
    {
     "name": "stdout",
     "output_type": "stream",
     "text": [
      "MUTABLE?\n",
      "m\n",
      "table?\n"
     ]
    }
   ],
   "source": [
    "tall_test_str = test_str.upper()\n",
    "print(tall_test_str)\n",
    "split_str = test_str.split(\"u\")\n",
    "for split_part in split_str:\n",
    "    print(split_part)"
   ]
  },
  {
   "cell_type": "markdown",
   "id": "aed754b3",
   "metadata": {},
   "source": [
    "what *should* you know about strings? how to format them!"
   ]
  },
  {
   "cell_type": "code",
   "execution_count": 107,
   "id": "8111f3f4",
   "metadata": {},
   "outputs": [
    {
     "name": "stdout",
     "output_type": "stream",
     "text": [
      "frequency at gen. 100 is 0.4750105595980145. In a population of size 10000, 4750 will have the allele.\n",
      "frequency at gen. 200 is 0.7111395384968464. In a population of size 10000, 7111 will have the allele.\n",
      "frequency at gen. 300 is 0.8703345726168399. In a population of size 10000, 8703 will have the allele.\n",
      "frequency at gen. 400 is 0.9482448194196231. In a population of size 10000, 9482 will have the allele.\n"
     ]
    }
   ],
   "source": [
    "freqs[0] = p_init\n",
    "for i in np.arange(1,num_gens):\n",
    "    freqs[i] = forward_one_gen(freqs[i-1], s)\n",
    "    if not i%100:\n",
    "        print(f\"frequency at gen. {i} is {freqs[i]}. In a population of size {N}, {freqs[i]*N:.0f} will have the allele.\")"
   ]
  },
  {
   "cell_type": "markdown",
   "id": "1bc7c4fe-6daf-4b3a-9e57-dc7e359264ce",
   "metadata": {},
   "source": [
    "##### lists and tuples"
   ]
  },
  {
   "cell_type": "code",
   "execution_count": 108,
   "id": "535fd76e-0cc7-4151-808c-2957827ba6cf",
   "metadata": {},
   "outputs": [
    {
     "name": "stdout",
     "output_type": "stream",
     "text": [
      "first item: apples\n",
      "ending slice: ['pears', 'papayas']\n"
     ]
    }
   ],
   "source": [
    "shopping_list_fruits = [\"apples\", \"pears\", \"papayas\"]\n",
    "print(f\"first item: {shopping_list_fruits[0]}\")\n",
    "print(f\"ending slice: {shopping_list_fruits[-2:]}\")"
   ]
  },
  {
   "cell_type": "markdown",
   "id": "ec981e25-2015-4903-9e6d-d330f8f31cbc",
   "metadata": {},
   "source": [
    "Unlike strings, lists are mutable - you can modify list elements, add items, etc."
   ]
  },
  {
   "cell_type": "code",
   "execution_count": 109,
   "id": "e6cdfd1e-d3c6-4bae-a8d8-ae10911e1de4",
   "metadata": {},
   "outputs": [
    {
     "name": "stdout",
     "output_type": "stream",
     "text": [
      "['apples', 'pears', 'papayas']\n",
      "['apples', 'pears', 'papayas', 'durians']\n",
      "['apples', 'pears', 'papayas', 'peaches']\n"
     ]
    }
   ],
   "source": [
    "print(shopping_list_fruits)\n",
    "shopping_list_fruits.append(\"durians\")\n",
    "print(shopping_list_fruits)\n",
    "\n",
    "#hmm maybe not durians...\n",
    "shopping_list_fruits[-1] = \"peaches\"\n",
    "print(shopping_list_fruits)"
   ]
  },
  {
   "cell_type": "markdown",
   "id": "c473e3df-b733-48fd-abb0-b42936ef8a1a",
   "metadata": {},
   "source": [
    "tuples are immutable lists. That's it."
   ]
  },
  {
   "cell_type": "code",
   "execution_count": 110,
   "id": "c511855c-5768-4d89-916f-93dfa4cf8260",
   "metadata": {},
   "outputs": [
    {
     "name": "stdout",
     "output_type": "stream",
     "text": [
      "apples\n"
     ]
    }
   ],
   "source": [
    "shopping_tuple_fruits = (\"apples\", \"pears\", \"papayas\")\n",
    "print(shopping_tuple_fruits[0])"
   ]
  },
  {
   "cell_type": "code",
   "execution_count": 111,
   "id": "e9319ffe-d229-46a7-967a-3bb5c5d13fa6",
   "metadata": {},
   "outputs": [
    {
     "ename": "TypeError",
     "evalue": "'tuple' object does not support item assignment",
     "output_type": "error",
     "traceback": [
      "\u001b[0;31m---------------------------------------------------------------------------\u001b[0m",
      "\u001b[0;31mTypeError\u001b[0m                                 Traceback (most recent call last)",
      "Cell \u001b[0;32mIn[111], line 1\u001b[0m\n\u001b[0;32m----> 1\u001b[0m shopping_tuple_fruits[\u001b[38;5;241m-\u001b[39m\u001b[38;5;241m1\u001b[39m] \u001b[38;5;241m=\u001b[39m \u001b[38;5;124m\"\u001b[39m\u001b[38;5;124mdurians\u001b[39m\u001b[38;5;124m\"\u001b[39m\n",
      "\u001b[0;31mTypeError\u001b[0m: 'tuple' object does not support item assignment"
     ]
    }
   ],
   "source": [
    "shopping_tuple_fruits[-1] = \"durians\""
   ]
  },
  {
   "cell_type": "markdown",
   "id": "25902b5b-3c90-438b-8c9a-365f5b7f4c44",
   "metadata": {},
   "source": [
    "They are most frequently seen in the context of variable unpacking:"
   ]
  },
  {
   "cell_type": "code",
   "execution_count": 113,
   "id": "7745f8b7-80fe-48ed-91bf-2512b432b44e",
   "metadata": {},
   "outputs": [
    {
     "name": "stdout",
     "output_type": "stream",
     "text": [
      "range(0, 10)\n",
      "range(0, 10)\n"
     ]
    }
   ],
   "source": [
    "# example a\n",
    "\n",
    "created_range_explicit = range(0,10)\n",
    "\n",
    "mytuple = (0,10)\n",
    "#uncreated_range_tuple = range(mytuple) #no\n",
    "created_range_tuple = range(*mytuple) #yes!\n",
    "\n",
    "mylist = [0,10]\n",
    "created_range_list = range(*mylist) #also yes\n",
    "\n",
    "\n",
    "print(created_range_list)\n",
    "print(created_range_tuple)"
   ]
  },
  {
   "cell_type": "code",
   "execution_count": 114,
   "id": "9d30da79-e76c-4fcf-8afa-8a7f97728e5c",
   "metadata": {},
   "outputs": [
    {
     "name": "stdout",
     "output_type": "stream",
     "text": [
      "(10, 5)\n",
      "10\n",
      "5\n"
     ]
    }
   ],
   "source": [
    "#example b\n",
    "\n",
    "import numpy as np\n",
    "a = np.zeros((10,5)) # tuple!\n",
    "\n",
    "print(a.shape)\n",
    "\n",
    "length, width = a.shape\n",
    "\n",
    "print(length)\n",
    "print(width)"
   ]
  },
  {
   "cell_type": "markdown",
   "id": "1918528a-4c8b-41de-966d-2ee2e558bc96",
   "metadata": {},
   "source": [
    "##### control flow: no longer covering the walrus operator\n",
    "\n",
    "if statements do exactly what you think:"
   ]
  },
  {
   "cell_type": "code",
   "execution_count": 117,
   "id": "225e69b8-97b1-48c2-adad-735c28b22022",
   "metadata": {},
   "outputs": [
    {
     "name": "stdout",
     "output_type": "stream",
     "text": [
      "a is very demure. very mindful.\n"
     ]
    }
   ],
   "source": [
    "a = .009008\n",
    "\n",
    "if a > 9000:\n",
    "    print(\"a is over nine THOUSAAAAAAAAAAAAAAAAAND\")\n",
    "elif (a > 0) and (a < .01):\n",
    "    print(\"a is very demure. very mindful.\")\n",
    "else:\n",
    "    print(\"a is uninteresting\")"
   ]
  },
  {
   "cell_type": "markdown",
   "id": "7b4b876e-f6fa-4429-8323-d4a73dcfb766",
   "metadata": {},
   "source": [
    "for loops are extremely useful because they don't just take a variable. also list comprehensions are cool and useful to replace short loops."
   ]
  },
  {
   "cell_type": "code",
   "execution_count": 118,
   "id": "7c408b34-5e8b-4e3a-8256-22e1f91ec688",
   "metadata": {},
   "outputs": [
    {
     "name": "stdout",
     "output_type": "stream",
     "text": [
      "['apples', 'pears', 'papayas', 'peaches']\n"
     ]
    }
   ],
   "source": [
    "print(shopping_list_fruits)"
   ]
  },
  {
   "cell_type": "code",
   "execution_count": 119,
   "id": "ee274758-403f-413a-bcb8-5fca1b8c348c",
   "metadata": {},
   "outputs": [
    {
     "name": "stdout",
     "output_type": "stream",
     "text": [
      "['ap', 'pe', 'pa', 'pe']\n"
     ]
    }
   ],
   "source": [
    "#bad python\n",
    "fruit_beginnings_range = []\n",
    "for i in range(len(shopping_list_fruits)):\n",
    "    fruit_i = shopping_list_fruits[i]\n",
    "    fruit_beginnings_range.append(fruit_i[:2])\n",
    "print(fruit_beginnings_range)"
   ]
  },
  {
   "cell_type": "code",
   "execution_count": 120,
   "id": "c333a3cf",
   "metadata": {},
   "outputs": [
    {
     "name": "stdout",
     "output_type": "stream",
     "text": [
      "['ap', 'pe', 'pa', 'pe']\n"
     ]
    }
   ],
   "source": [
    "#good python\n",
    "fruit_beginnings_for = []\n",
    "for fruit in shopping_list_fruits:\n",
    "    fruit_beginnings_for.append(fruit[:2])\n",
    "print(fruit_beginnings_for)"
   ]
  },
  {
   "cell_type": "code",
   "execution_count": 121,
   "id": "247eec62",
   "metadata": {
    "scrolled": true
   },
   "outputs": [
    {
     "name": "stdout",
     "output_type": "stream",
     "text": [
      "['ap', 'pe', 'pa', 'pe']\n"
     ]
    }
   ],
   "source": [
    "#best python\n",
    "fruit_beginnings_listcomp = [fruit[:2] for fruit in shopping_list_fruits]\n",
    "print(fruit_beginnings_listcomp)"
   ]
  },
  {
   "cell_type": "markdown",
   "id": "f2eb6456-ec86-4e7c-a1da-3e723a39bb4b",
   "metadata": {},
   "source": [
    "##### additional control flow tools - continue, break\n",
    "\n",
    "what if we don't want duplicates? option 1:"
   ]
  },
  {
   "cell_type": "code",
   "execution_count": 122,
   "id": "d9d9c2f9-f6a2-4e25-8a79-ff7b3470a5b0",
   "metadata": {},
   "outputs": [
    {
     "name": "stdout",
     "output_type": "stream",
     "text": [
      "already have pe in our list!\n",
      "['ap', 'pe', 'pa']\n"
     ]
    }
   ],
   "source": [
    "#also bad python\n",
    "fruit_beginnings_range = []\n",
    "for i in range(len(shopping_list_fruits)):\n",
    "    if shopping_list_fruits[i][:2] in fruit_beginnings_range:\n",
    "        print(f\"already have {shopping_list_fruits[i][:2]} in our list!\")\n",
    "        continue\n",
    "    fruit_i = shopping_list_fruits[i]\n",
    "    fruit_beginnings_range.append(fruit_i[:2])\n",
    "print(fruit_beginnings_range)"
   ]
  },
  {
   "cell_type": "markdown",
   "id": "28cb3cc6-1bc4-45dc-afb7-030146001ac0",
   "metadata": {},
   "source": [
    "option 2 - set comprehension!"
   ]
  },
  {
   "cell_type": "code",
   "execution_count": 123,
   "id": "3cdee8e7-5092-4ed2-9ff7-f124090f511b",
   "metadata": {},
   "outputs": [
    {
     "name": "stdout",
     "output_type": "stream",
     "text": [
      "{'pe', 'pa', 'ap'}\n"
     ]
    }
   ],
   "source": [
    "fruit_beginnings_setcomp = {fruit[:2] for fruit in shopping_list_fruits}\n",
    "print(fruit_beginnings_setcomp)"
   ]
  },
  {
   "cell_type": "code",
   "execution_count": 124,
   "id": "1660d689-218c-42bd-8566-959ab3ecad5b",
   "metadata": {},
   "outputs": [
    {
     "name": "stdout",
     "output_type": "stream",
     "text": [
      "I am allergic to papayas!! Someone has sabotaged my list.\n",
      "['ap', 'pe']\n"
     ]
    }
   ],
   "source": [
    "fruit_beginnings_range = []\n",
    "fruit_allergies = [\"papayas\", \"bananas\"]\n",
    "for fruit in shopping_list_fruits:\n",
    "    if fruit in fruit_allergies:\n",
    "        print(f\"I am allergic to {fruit}!! Someone has sabotaged my list.\")\n",
    "        break\n",
    "    fruit_beginnings_range.append(fruit[:2])\n",
    "print(fruit_beginnings_range)"
   ]
  },
  {
   "cell_type": "markdown",
   "id": "9ec725d0-bdd3-4f61-a051-506f1f6098a7",
   "metadata": {},
   "source": [
    "you might think \"ok this is cute but I'm working with numbers, when would I ever use list comprehensions?\"\n",
    "show examples from my codebase, using \\[.\\*for.\\*in.\\*\\] regex - string manipulations in snakemake files."
   ]
  },
  {
   "cell_type": "markdown",
   "id": "3e15269b-2f11-4b45-bd6f-283f665af5e0",
   "metadata": {},
   "source": [
    "##### dictionaries\n",
    "\n",
    "dictionaries are a collection of things:"
   ]
  },
  {
   "cell_type": "code",
   "execution_count": 126,
   "id": "33001456",
   "metadata": {},
   "outputs": [
    {
     "name": "stdout",
     "output_type": "stream",
     "text": [
      "I have 3 apples\n",
      "I have 5 bananas\n",
      "I have 0 papayas\n",
      "got apples!\n",
      "still need pears\n",
      "still need papayas\n",
      "still need peaches\n",
      "['pears', 'papayas', 'peaches']\n"
     ]
    }
   ],
   "source": [
    "fruit_dict = {\"apples\": 3, \"bananas\": 5, \"papayas\": 0}\n",
    "\n",
    "#iterating over keys\n",
    "for fruit_key, fruit_num in fruit_dict.items():\n",
    "    print(f\"I have {fruit_num} {fruit_key}\")\n",
    "\n",
    "#value assignment\n",
    "fruit_dict[\"bananas\"] = 4\n",
    "\n",
    "fruit_basket = []\n",
    "for needed_fruit in shopping_list_fruits:\n",
    "    if needed_fruit in fruit_dict and fruit_dict[needed_fruit]>0:\n",
    "        print(f\"got {needed_fruit}!\")\n",
    "    else:\n",
    "        print(f\"still need {needed_fruit}\")\n",
    "        fruit_basket.append(needed_fruit)\n",
    "print(fruit_basket)"
   ]
  },
  {
   "cell_type": "markdown",
   "id": "9cb34605",
   "metadata": {},
   "source": [
    "when would we use dictionaries?\n",
    "\n",
    "somewhat silly case: at some point you will think to yourself, \"gee I'd like to dynamically name this set of variables.\"\n",
    "you can't. that's what a dictionary is for! you can dynamically name dictionary keys and store the corresponding value.\n",
    "\n",
    "less silly case: named optional arguments for functions - see below."
   ]
  },
  {
   "cell_type": "markdown",
   "id": "29c460bb-eadf-42ff-9a66-73372da01a46",
   "metadata": {},
   "source": [
    "#### functions\n",
    "\n",
    "two ways of looking at functions:\n",
    "1. functions do something (often to an input).\n",
    "2. functions generalize a particular block of code.\n",
    "\n",
    "Here is an example function:"
   ]
  },
  {
   "cell_type": "code",
   "execution_count": 127,
   "id": "b1dabc60-2944-4db1-9c4e-33fd81affb2a",
   "metadata": {},
   "outputs": [
    {
     "name": "stdout",
     "output_type": "stream",
     "text": [
      "got kale!\n",
      "still need tomatoes\n",
      "still need peas\n",
      "['tomatoes', 'peas']\n"
     ]
    }
   ],
   "source": [
    "shopping_list_vegs = [\"kale\", \"tomatoes\", \"peas\"]\n",
    "\n",
    "veg_basket = {\"kale\": 3, \"broccoli\": 2, \"peas\": 0}\n",
    "\n",
    "vegs_to_get = []\n",
    "for needed_veg in shopping_list_vegs:\n",
    "    if needed_veg in veg_basket and veg_basket[needed_veg]>0:\n",
    "        print(f\"got {needed_veg}!\")\n",
    "    else:\n",
    "        vegs_to_get.append(needed_veg)\n",
    "        print(f\"still need {needed_veg}\")\n",
    "\n",
    "print(vegs_to_get)\n",
    "#hey wait this looks similar... annoying to keep rewriting all the variable names just for a different list!"
   ]
  },
  {
   "cell_type": "code",
   "execution_count": 128,
   "id": "c0e2d2cc-9741-409c-b75e-88c7e7520fe6",
   "metadata": {},
   "outputs": [
    {
     "name": "stdout",
     "output_type": "stream",
     "text": [
      "got kale!\n",
      "still need tomatoes\n",
      "still need peas\n",
      "['tomatoes', 'peas']\n",
      "got apples!\n",
      "still need pears\n",
      "still need papayas\n",
      "still need peaches\n",
      "['pears', 'papayas', 'peaches']\n"
     ]
    }
   ],
   "source": [
    "def get_actual_shopping_list(shopping_list, basket_dict):\n",
    "    true_list = []\n",
    "    for needed_item in shopping_list:\n",
    "        if needed_item in basket_dict and basket_dict[needed_item]>0:\n",
    "            print(f\"got {needed_item}!\")\n",
    "        else:\n",
    "            true_list.append(needed_item)\n",
    "            print(f\"still need {needed_item}\")\n",
    "    return true_list\n",
    "\n",
    "reduced_veg_list = get_actual_shopping_list(shopping_list_vegs, veg_basket)\n",
    "print(reduced_veg_list)\n",
    "\n",
    "reduced_fruit_list = get_actual_shopping_list(shopping_list_fruits, fruit_dict)\n",
    "print(reduced_fruit_list)"
   ]
  },
  {
   "cell_type": "markdown",
   "id": "31d4db9d-ed78-4ea4-91b6-f797f8d0fb1c",
   "metadata": {},
   "source": [
    "Additional feature - keyword vs. positional arguments:"
   ]
  },
  {
   "cell_type": "code",
   "execution_count": 129,
   "id": "796c9e94-642e-485b-9553-b97933551f6d",
   "metadata": {},
   "outputs": [],
   "source": [
    "def get_actual_shopping_list(shopping_list, basket_dict, item_thresh=0):\n",
    "    true_list = []\n",
    "    for needed_item in shopping_list:\n",
    "        if needed_item in basket_dict and basket_dict[needed_item]>item_thresh:\n",
    "            print(f\"got {basket_dict[needed_item]} of {needed_item}!\")\n",
    "        else:\n",
    "            true_list.append(needed_item)\n",
    "            print(f\"still need {needed_item}\")\n",
    "    return true_list"
   ]
  },
  {
   "cell_type": "code",
   "execution_count": 131,
   "id": "01f3b4f0-261c-4533-b894-886a23154e52",
   "metadata": {},
   "outputs": [
    {
     "ename": "SyntaxError",
     "evalue": "positional argument follows keyword argument (4025622557.py, line 7)",
     "output_type": "error",
     "traceback": [
      "\u001b[0;36m  Cell \u001b[0;32mIn[131], line 7\u001b[0;36m\u001b[0m\n\u001b[0;31m    get_actual_shopping_list(shopping_list_vegs, item_thresh=4, veg_basket)\u001b[0m\n\u001b[0m                                                                          ^\u001b[0m\n\u001b[0;31mSyntaxError\u001b[0m\u001b[0;31m:\u001b[0m positional argument follows keyword argument\n"
     ]
    }
   ],
   "source": [
    "get_actual_shopping_list(shopping_list_vegs, veg_basket)\n",
    "print('-------')\n",
    "get_actual_shopping_list(shopping_list_vegs, veg_basket, item_thresh=4)\n",
    "print('-------')\n",
    "get_actual_shopping_list(shopping_list_vegs, veg_basket, 4)\n",
    "print('-------')\n",
    "get_actual_shopping_list(shopping_list_vegs, item_thresh=4, veg_basket)"
   ]
  },
  {
   "cell_type": "code",
   "execution_count": 92,
   "id": "f81f26da-caae-4c53-a639-e91a895278c9",
   "metadata": {},
   "outputs": [
    {
     "name": "stdout",
     "output_type": "stream",
     "text": [
      "need some more kale\n",
      "still need tomatoes\n",
      "need some more peas\n",
      "{'kale': 1, 'tomatoes': 4, 'peas': 4}\n"
     ]
    }
   ],
   "source": [
    "def get_needed_shopping_quantities(shopping_list, basket_dict, item_thresh=0):\n",
    "    true_basket = {}\n",
    "    for needed_item in shopping_list:\n",
    "        if needed_item in basket_dict:\n",
    "            if basket_dict[needed_item]>=item_thresh:\n",
    "                print(f\"got {basket_dict[needed_item]} of {needed_item}!\")\n",
    "            else:\n",
    "                print(f\"need some more {needed_item}\")\n",
    "                true_basket[needed_item] = item_thresh - basket_dict[needed_item]\n",
    "        else:\n",
    "            true_basket[needed_item] = item_thresh\n",
    "            print(f\"still need {needed_item}\")\n",
    "    return true_basket\n",
    "\n",
    "print(get_needed_shopping_quantities(shopping_list_vegs, veg_basket, item_thresh=4))"
   ]
  },
  {
   "cell_type": "markdown",
   "id": "f42ccd8f-397f-4818-b490-e70a2e48fc9c",
   "metadata": {},
   "source": [
    "##### *args and **kwargs - when you want to make sure you're not forgetting something"
   ]
  },
  {
   "cell_type": "code",
   "execution_count": null,
   "id": "bf8ac948-2103-486f-a644-5efec2ab9f83",
   "metadata": {},
   "outputs": [],
   "source": [
    "def sum_all_arguments(arg1, arg2, arg3, arg4):\n",
    "    return arg1 + arg2 + arg3 + arg4\n",
    "\n",
    "#what if we want to sum 5 things??"
   ]
  },
  {
   "cell_type": "code",
   "execution_count": 136,
   "id": "a7b59514-bac3-4bb9-ad31-6584cff9133c",
   "metadata": {},
   "outputs": [
    {
     "ename": "TypeError",
     "evalue": "really_sum_all_arguments() got an unexpected keyword argument 'val'",
     "output_type": "error",
     "traceback": [
      "\u001b[0;31m---------------------------------------------------------------------------\u001b[0m",
      "\u001b[0;31mTypeError\u001b[0m                                 Traceback (most recent call last)",
      "Cell \u001b[0;32mIn[136], line 8\u001b[0m\n\u001b[1;32m      4\u001b[0m         result \u001b[38;5;241m+\u001b[39m\u001b[38;5;241m=\u001b[39m val\n\u001b[1;32m      5\u001b[0m     \u001b[38;5;28;01mreturn\u001b[39;00m result\n\u001b[0;32m----> 8\u001b[0m \u001b[38;5;28mprint\u001b[39m(really_sum_all_arguments(\u001b[38;5;241m1\u001b[39m,\u001b[38;5;241m2\u001b[39m,\u001b[38;5;241m3\u001b[39m,\u001b[38;5;241m4\u001b[39m,\u001b[38;5;241m6\u001b[39m,val\u001b[38;5;241m=\u001b[39m\u001b[38;5;241m7\u001b[39m))\n",
      "\u001b[0;31mTypeError\u001b[0m: really_sum_all_arguments() got an unexpected keyword argument 'val'"
     ]
    }
   ],
   "source": [
    "def really_sum_all_arguments(*args):\n",
    "    result = 0\n",
    "    for val in args: #this is a tuple not a list btw\n",
    "        result += val\n",
    "    return result\n",
    "\n",
    "\n",
    "print(really_sum_all_arguments(1,2,3,4,6,val=7))"
   ]
  },
  {
   "cell_type": "markdown",
   "id": "2a8edada-b855-4d4a-8086-e030b1a5ed01",
   "metadata": {},
   "source": [
    "kwargs are similar but for keyword arguments instead of positional:"
   ]
  },
  {
   "cell_type": "code",
   "execution_count": null,
   "id": "2975563f-c4ff-4910-96c4-2a191191d738",
   "metadata": {},
   "outputs": [],
   "source": [
    "def really_concatenate_all_arguments(**kwargs):\n",
    "    result = \"\"\n",
    "    for key in kwargs:\n",
    "        result += kwargs[key]\n",
    "    return result\n",
    "\n",
    "print(really_concatenate_all_arguments(zeroth=\"woo\", first=\"bio\"))"
   ]
  },
  {
   "cell_type": "markdown",
   "id": "d3f64217-81d8-4d1a-969e-742eba207b7d",
   "metadata": {},
   "source": [
    "#### Additional keywords that are worth knowing about"
   ]
  },
  {
   "cell_type": "markdown",
   "id": "4dad8dfe-2fb6-4c7a-8fbc-0124c1426230",
   "metadata": {},
   "source": [
    "##### with\n",
    "\n",
    "built-in context manager for file IO operations, more or less! For more details, see https://web.archive.org/web/20180310054708/http://effbot.org/zone/python-with-statement.htm"
   ]
  },
  {
   "cell_type": "code",
   "execution_count": 135,
   "id": "9f77c2f5-6fb6-440e-90f4-df1d63e8e314",
   "metadata": {},
   "outputs": [
    {
     "ename": "TypeError",
     "evalue": "'tuple' object does not support item assignment",
     "output_type": "error",
     "traceback": [
      "\u001b[0;31m---------------------------------------------------------------------------\u001b[0m",
      "\u001b[0;31mTypeError\u001b[0m                                 Traceback (most recent call last)",
      "Cell \u001b[0;32mIn[135], line 8\u001b[0m\n\u001b[1;32m      6\u001b[0m file_obj\u001b[38;5;241m.\u001b[39mwrite(\u001b[38;5;124m\"\u001b[39m\u001b[38;5;124mhelp im not even in a context manager!!!!!\u001b[39m\u001b[38;5;124m\"\u001b[39m)\n\u001b[1;32m      7\u001b[0m crash_tuple \u001b[38;5;241m=\u001b[39m (\u001b[38;5;241m0\u001b[39m,\u001b[38;5;241m1\u001b[39m)\n\u001b[0;32m----> 8\u001b[0m crash_tuple[\u001b[38;5;241m1\u001b[39m] \u001b[38;5;241m=\u001b[39m \u001b[38;5;241m0\u001b[39m\n\u001b[1;32m      9\u001b[0m \u001b[38;5;66;03m#what happens to the file? who knows\u001b[39;00m\n\u001b[1;32m     10\u001b[0m file_obj\u001b[38;5;241m.\u001b[39mclose()\n",
      "\u001b[0;31mTypeError\u001b[0m: 'tuple' object does not support item assignment"
     ]
    }
   ],
   "source": [
    "with open(\"test_file.txt\", \"w\") as f:\n",
    "    f.write(\"help im stuck in a text file\")\n",
    "\n",
    "#alternative:\n",
    "file_obj = open(\"test_file_old.txt\", mode=\"w\")\n",
    "file_obj.write(\"help im not even in a context manager!!!!!\")\n",
    "crash_tuple = (0,1)\n",
    "crash_tuple[1] = 0\n",
    "#what happens to the file? who knows\n",
    "file_obj.close()"
   ]
  },
  {
   "cell_type": "markdown",
   "id": "30ebe84b-ae76-424a-aaf5-6c21c5620962",
   "metadata": {},
   "source": [
    "##### raise\n",
    "\n",
    "intentionally throw an error. This is overall less useful than assert (which we will cover next lecture) but you might see it somewhere."
   ]
  },
  {
   "cell_type": "code",
   "execution_count": null,
   "id": "f60d348c-5803-4454-ac3b-6b910f6e41d8",
   "metadata": {},
   "outputs": [],
   "source": [
    "def ensure_string(input_val):\n",
    "    if isinstance(input_val, str):\n",
    "        return input_val\n",
    "    else:\n",
    "        raise TypeError(\"not a string!\")\n",
    "\n",
    "print(ensure_string(\"stringo\"))\n",
    "print(ensure_string(1337))"
   ]
  },
  {
   "cell_type": "markdown",
   "id": "73bf2eae-ca84-45e8-a84b-83e20e4fa0cd",
   "metadata": {},
   "source": [
    "There are a LOT of different error classes in Python, most common ones you'll see are probably ValueError and TypeError"
   ]
  },
  {
   "cell_type": "markdown",
   "id": "e3f15026-707f-409b-8d83-a65fce779dfe",
   "metadata": {},
   "source": [
    "##### try, except, finally\n",
    "\n",
    "I would honestly recommend against using these for research code but they are worth knowing about.\n",
    "\n",
    "How do they work?"
   ]
  },
  {
   "cell_type": "code",
   "execution_count": null,
   "id": "800d44de-2866-40a2-813e-f40cc97a8cf9",
   "metadata": {},
   "outputs": [],
   "source": [
    "def extremely_complex_function(input_val):\n",
    "    return input_val\n",
    "\n",
    "#REALLY VERY BAD DO NOT DO THIS EVEN OUTSIDE OF RESEARCH\n",
    "try:\n",
    "    a = extremely_complex_function(5810)\n",
    "    b = extremely_complex_function(1)\n",
    "    result = a / b\n",
    "except:\n",
    "    print(\"something went wrong...\")\n",
    "    result = 0\n",
    "finally:\n",
    "    print(result)"
   ]
  },
  {
   "cell_type": "code",
   "execution_count": null,
   "id": "d853fc00-cbc3-4229-8a67-e39d74b06a37",
   "metadata": {},
   "outputs": [],
   "source": [
    "#this is what you \"should\" do but it's not really what you want in research code imo\n",
    "try:\n",
    "    a = extremely_complex_function(5810)\n",
    "    b = extremely_complex_function(0)\n",
    "    result = a / b\n",
    "except ZeroDivisionError:\n",
    "    print(\"division by zero occurred!\")\n",
    "    result = 0\n",
    "except:\n",
    "    print(\"something REALLY went wrong wowwie\")\n",
    "    result = -1\n",
    "finally:\n",
    "    print(result)"
   ]
  },
  {
   "cell_type": "markdown",
   "id": "e392fc1d-7aca-4592-862a-b0b20e362155",
   "metadata": {},
   "source": [
    "Why are they bad for research?\n",
    "\n",
    "We want errors!! See next lecture for how to write code to (hopefully) prevent them but if there is an error I want my program to explode."
   ]
  }
 ],
 "metadata": {
  "kernelspec": {
   "display_name": "Python 3 (ipykernel)",
   "language": "python",
   "name": "python3"
  },
  "language_info": {
   "codemirror_mode": {
    "name": "ipython",
    "version": 3
   },
   "file_extension": ".py",
   "mimetype": "text/x-python",
   "name": "python",
   "nbconvert_exporter": "python",
   "pygments_lexer": "ipython3",
   "version": "3.12.2"
  }
 },
 "nbformat": 4,
 "nbformat_minor": 5
}
