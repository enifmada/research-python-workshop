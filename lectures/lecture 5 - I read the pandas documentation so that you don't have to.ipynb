{
 "cells": [
  {
   "cell_type": "markdown",
   "id": "4efc4cf8",
   "metadata": {},
   "source": [
    "## Pandas with some seaborn\n",
    "\n",
    "#### Topics covered:\n",
    "\n",
    "\n",
    "- the dataframe: basic properties and manipulations\n",
    "- IO\n",
    "- intermediate dataframe manipulation\n",
    "- visualization with Seaborn\n",
    "- my opinion of Pandas has actually improved significantly since last year :o"
   ]
  },
  {
   "cell_type": "code",
   "execution_count": null,
   "id": "37cb2d4b",
   "metadata": {},
   "outputs": [],
   "source": [
    "import pandas as pd\n",
    "import numpy as np\n",
    "import matplotlib.pyplot as plt\n",
    "import seaborn as sns"
   ]
  },
  {
   "cell_type": "code",
   "execution_count": null,
   "id": "d11462ef",
   "metadata": {},
   "outputs": [],
   "source": [
    "pet_data = pd.DataFrame(\n",
    "    {\n",
    "        \"animal\": \"cat dog cat fish dog cat cat\".split(),\n",
    "        \"size\": list(\"SSMMMLL\"),\n",
    "        \"weight\": [8, 10, 11, 1, 20, 12, 12],\n",
    "        \"adult\": [False] * 5 + [True] * 2,\n",
    "    }\n",
    ")"
   ]
  },
  {
   "cell_type": "code",
   "execution_count": null,
   "id": "94cdce14",
   "metadata": {},
   "outputs": [],
   "source": [
    "pet_data"
   ]
  },
  {
   "cell_type": "code",
   "execution_count": null,
   "id": "1ee31fd8",
   "metadata": {},
   "outputs": [],
   "source": [
    "pet_data.head()"
   ]
  },
  {
   "cell_type": "code",
   "execution_count": null,
   "id": "7c82eb8b",
   "metadata": {},
   "outputs": [],
   "source": [
    "pet_data.describe()"
   ]
  },
  {
   "cell_type": "markdown",
   "id": "0484f48f",
   "metadata": {},
   "source": [
    "#### accessing data: loc vs. iloc"
   ]
  },
  {
   "cell_type": "code",
   "execution_count": null,
   "id": "4b3b472b-1b0f-4c2d-8247-c1fc2cb70437",
   "metadata": {},
   "outputs": [],
   "source": [
    "pet_sub_data = pet_data.iloc[2:4, :2]\n",
    "pet_sub_data"
   ]
  },
  {
   "cell_type": "markdown",
   "id": "8ab4e0f9-e0a2-47a6-8b77-3c360dfa0514",
   "metadata": {},
   "source": [
    "note index does not reset - can be confusing, and lead to further problems!\n",
    "For example, using df.loc[] with a number will assume you are referring to the actual index values rather than 0,1,2..."
   ]
  },
  {
   "cell_type": "code",
   "execution_count": null,
   "id": "4b4464b5-7f5e-45cd-8d15-e48587bb1381",
   "metadata": {},
   "outputs": [],
   "source": [
    "pet_sub_data_reset = pet_data.iloc[2:4, :2].reset_index(drop=True)\n",
    "pet_sub_data_reset"
   ]
  },
  {
   "cell_type": "code",
   "execution_count": null,
   "id": "5e9b69fd-3995-47a9-8fd2-95657a740ee7",
   "metadata": {},
   "outputs": [],
   "source": [
    "pet_sub_data.iloc[1]"
   ]
  },
  {
   "cell_type": "code",
   "execution_count": null,
   "id": "e617fd2d",
   "metadata": {},
   "outputs": [],
   "source": [
    "pet_data.loc[2:4, [\"animal\", \"size\"]]\n",
    "\n",
    "#why is the slice suddenly inclusive jfc pandas"
   ]
  },
  {
   "cell_type": "code",
   "execution_count": null,
   "id": "70a6181b",
   "metadata": {},
   "outputs": [],
   "source": [
    "pet_data.loc[pet_data[\"weight\"] > 10, [\"animal\", \"weight\", \"adult\"]]"
   ]
  },
  {
   "cell_type": "markdown",
   "id": "c256420c-403c-40d2-aa8d-6b0fdd4a9cc5",
   "metadata": {},
   "source": [
    "### IO with Pandas"
   ]
  },
  {
   "cell_type": "code",
   "execution_count": null,
   "id": "204a4d0d",
   "metadata": {},
   "outputs": [],
   "source": [
    "tennis_data = pd.read_csv(\"tennis_example.csv\")"
   ]
  },
  {
   "cell_type": "code",
   "execution_count": null,
   "id": "c946f397",
   "metadata": {},
   "outputs": [],
   "source": [
    "tennis_data"
   ]
  },
  {
   "cell_type": "code",
   "execution_count": null,
   "id": "2c4c1530",
   "metadata": {},
   "outputs": [],
   "source": [
    "tennis_data.dtypes"
   ]
  },
  {
   "cell_type": "code",
   "execution_count": null,
   "id": "102ccdb1",
   "metadata": {},
   "outputs": [],
   "source": [
    "tennis_data[\"Date\"] = pd.to_datetime(tennis_data[\"Date\"], format=\"%d/%m/%y\")"
   ]
  },
  {
   "cell_type": "code",
   "execution_count": null,
   "id": "6b24af20",
   "metadata": {},
   "outputs": [],
   "source": [
    "tennis_data"
   ]
  },
  {
   "cell_type": "markdown",
   "id": "f9e1eaf9",
   "metadata": {},
   "source": [
    "- if your data is large, please do not use CSVs. They are slow and large and don't save your data types. There are lots of file formats you can use instead, the most common seems to be parquet.\n",
    "- DataFrame.to_latex may be of use - for example, I have to generate a fair number of confusion tables for my work. I can generate them in Numpy, add column and index labels when instantiating as a df, then export with to_latex. Extremely extremely situationally useful.\n",
    "- read_csv can read directly from a Google sheet :o"
   ]
  },
  {
   "cell_type": "markdown",
   "id": "a3a37b94",
   "metadata": {},
   "source": [
    "### intermediate data manipulation"
   ]
  },
  {
   "cell_type": "code",
   "execution_count": null,
   "id": "0e61b554",
   "metadata": {},
   "outputs": [],
   "source": [
    "survey_data = pd.read_csv(\"https://docs.google.com/spreadsheets/d/1j9SmPqO514jTJ1IECrQikXRZ89dEEhQ96SzZoZi7njI/export?format=csv\")\n",
    "survey_data = survey_data.drop([\"Email Address\", \"What is your name?\"], axis=1)\n",
    "survey_data[\"Timestamp\"] = pd.to_datetime(survey_data[\"Timestamp\"])"
   ]
  },
  {
   "cell_type": "code",
   "execution_count": null,
   "id": "728cd881",
   "metadata": {},
   "outputs": [],
   "source": [
    "survey_data"
   ]
  },
  {
   "cell_type": "code",
   "execution_count": null,
   "id": "042fa9f7",
   "metadata": {},
   "outputs": [],
   "source": [
    "cols = {}\n",
    "for col in survey_data.columns:\n",
    "    cols[col] = col.split(\" \")[-1]\n",
    "survey_data = survey_data.rename(columns=cols)"
   ]
  },
  {
   "cell_type": "code",
   "execution_count": null,
   "id": "e8ef8dad",
   "metadata": {},
   "outputs": [],
   "source": [
    "survey_data"
   ]
  },
  {
   "cell_type": "code",
   "execution_count": null,
   "id": "a672bbf7",
   "metadata": {},
   "outputs": [],
   "source": [
    "survey_data[\"early\"] = True\n",
    "survey_data.loc[survey_data[\"Timestamp\"] > pd.to_datetime(\"8/26/23\"), \"early\"] = False"
   ]
  },
  {
   "cell_type": "code",
   "execution_count": null,
   "id": "c6ae9480-5a75-472d-b36c-a93c96a23ae1",
   "metadata": {},
   "outputs": [],
   "source": [
    "survey_data"
   ]
  },
  {
   "cell_type": "markdown",
   "id": "a851253a-17a0-4981-aad8-a3bd2e143fdc",
   "metadata": {},
   "source": [
    "### Group by: the split-apply-combine paradigm"
   ]
  },
  {
   "cell_type": "code",
   "execution_count": null,
   "id": "6adcb5c7",
   "metadata": {},
   "outputs": [],
   "source": [
    "survey_transformed = survey_data.groupby(\"early\")[survey_data.columns[1:-2]].agg([\"mean\", \"min\"])\n",
    "survey_transformed #              split                                     combine    apply"
   ]
  },
  {
   "cell_type": "code",
   "execution_count": null,
   "id": "bbf00e65",
   "metadata": {},
   "outputs": [],
   "source": [
    "survey_transformed.T.plot(kind=\"bar\")\n",
    "plt.show()"
   ]
  },
  {
   "cell_type": "markdown",
   "id": "2c2b66a1",
   "metadata": {},
   "source": [
    "also, this transformed data is a MultiIndex now! Pandas's way of representing higher dimensional data."
   ]
  },
  {
   "cell_type": "code",
   "execution_count": null,
   "id": "7c8e770b-b8ca-406a-8875-e7c136e640e8",
   "metadata": {},
   "outputs": [],
   "source": [
    "survey_transformed"
   ]
  },
  {
   "cell_type": "code",
   "execution_count": null,
   "id": "3c670f95-7940-4743-a585-900b9e85f50e",
   "metadata": {},
   "outputs": [],
   "source": [
    "survey_transformed.stack(level=-1)"
   ]
  },
  {
   "cell_type": "code",
   "execution_count": null,
   "id": "e4ef18ed-0bd3-4fcf-bb72-5e4ba2fee964",
   "metadata": {},
   "outputs": [],
   "source": [
    "survey_transformed.stack().stack()"
   ]
  },
  {
   "cell_type": "code",
   "execution_count": null,
   "id": "8b227f99-15db-4197-8f6e-0cbf623154fc",
   "metadata": {},
   "outputs": [],
   "source": [
    "survey_transformed"
   ]
  },
  {
   "cell_type": "code",
   "execution_count": null,
   "id": "82b893e5",
   "metadata": {},
   "outputs": [],
   "source": [
    "islice = pd.IndexSlice\n",
    "survey_transformed.loc[:, (islice[\"[PyCharm]\":\"[Numba]\"], \"mean\")]"
   ]
  },
  {
   "cell_type": "markdown",
   "id": "be5abb67",
   "metadata": {},
   "source": [
    "an alternative for higher-dimensional data: xarray\n",
    "\n",
    "x.sum('time') would be nice in numpy!!\n",
    "\n",
    "WARNING: created by geophysicists\n",
    "\n",
    "\n",
    "\n",
    "\n",
    "an alternative for speed: polars\n",
    "\n",
    "(though Pandas 3.0 will be MUCH faster thanks to PyArrow)\n",
    "\n",
    "note: I wrote this a year ago and it is still not out so uh\n",
    "\n",
    "also - Pandas is still MUCH faster than Numpy for non-numeric data. Like, ~10x, depending on what you're doing."
   ]
  },
  {
   "cell_type": "markdown",
   "id": "7757f57a",
   "metadata": {},
   "source": [
    "### a few seaborn things\n",
    "\n",
    "\n",
    "Seaborn is built around a few different meta-plot-types, each with their own subtypes:\n",
    "![seaborn_plot_types](https://seaborn.pydata.org/_images/function_overview_8_0.png)"
   ]
  },
  {
   "cell_type": "code",
   "execution_count": null,
   "id": "91561fb9",
   "metadata": {},
   "outputs": [],
   "source": [
    "sns.lmplot(data=survey_data, x=\"[PyCharm]\", y=\"[argparse]\", hue=\"early\")\n",
    "plt.show()"
   ]
  },
  {
   "cell_type": "code",
   "execution_count": null,
   "id": "2af4e770",
   "metadata": {},
   "outputs": [],
   "source": [
    "penguins = sns.load_dataset(\"penguins\")\n",
    "penguins"
   ]
  },
  {
   "cell_type": "code",
   "execution_count": null,
   "id": "f7d96a8f",
   "metadata": {},
   "outputs": [],
   "source": [
    "sns.pairplot(penguins, hue=\"species\")\n",
    "plt.show()"
   ]
  },
  {
   "cell_type": "markdown",
   "id": "622df5c0-226c-4f7a-bf37-e1b433b15b2b",
   "metadata": {},
   "source": [
    "Seaborn interacts nicely with matplotlib - you can put seaborn plots into existing matplotlib figures, etc:"
   ]
  },
  {
   "cell_type": "code",
   "execution_count": null,
   "id": "f6872de5",
   "metadata": {},
   "outputs": [],
   "source": [
    "f, axs = plt.subplots(1, 2, figsize=(8, 4), gridspec_kw=dict(width_ratios=[4, 3]), layout=\"constrained\")\n",
    "sns.scatterplot(data=penguins, x=\"flipper_length_mm\", y=\"bill_length_mm\", hue=\"species\", ax=axs[0])\n",
    "sns.histplot(data=penguins, x=\"species\", hue=\"species\", shrink=.8, alpha=.8, legend=False, ax=axs[1])\n",
    "plt.show()"
   ]
  },
  {
   "cell_type": "markdown",
   "id": "c5388992-1409-49b8-bae8-4845f9c4b8f3",
   "metadata": {},
   "source": [
    "Also for many modifications you want, you don't have to get into the weeds of matplotlib!"
   ]
  },
  {
   "cell_type": "code",
   "execution_count": null,
   "id": "1f0d7e92",
   "metadata": {},
   "outputs": [],
   "source": [
    "peng_plot = sns.relplot(\n",
    "    data=penguins,\n",
    "    x=\"bill_length_mm\", y=\"bill_depth_mm\", hue=\"body_mass_g\")\n",
    "peng_plot.set_axis_labels(\"Bill length (mm)\", \"Bill depth (mm)\", labelpad=10)\n",
    "peng_plot.legend.set_title(\"Body mass (g)\")\n",
    "peng_plot.figure.set_size_inches(6.5, 4.5)\n",
    "peng_plot.ax.margins(.15)\n",
    "peng_plot.despine(trim=True)\n",
    "plt.show()"
   ]
  },
  {
   "cell_type": "markdown",
   "id": "35122054",
   "metadata": {},
   "source": [
    "many more examples can be found at https://seaborn.pydata.org/examples/index.html"
   ]
  }
 ],
 "metadata": {
  "kernelspec": {
   "display_name": "Python 3 (ipykernel)",
   "language": "python",
   "name": "python3"
  },
  "language_info": {
   "codemirror_mode": {
    "name": "ipython",
    "version": 3
   },
   "file_extension": ".py",
   "mimetype": "text/x-python",
   "name": "python",
   "nbconvert_exporter": "python",
   "pygments_lexer": "ipython3",
   "version": "3.12.2"
  }
 },
 "nbformat": 4,
 "nbformat_minor": 5
}
