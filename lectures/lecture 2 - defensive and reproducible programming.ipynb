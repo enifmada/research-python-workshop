{
 "cells": [
  {
   "cell_type": "markdown",
   "id": "93fb28b4-f2f7-4a76-ac7f-b8a83a0dfec5",
   "metadata": {},
   "source": [
    "### defensive programming"
   ]
  },
  {
   "cell_type": "code",
   "execution_count": 1,
   "id": "0682744d-9be7-4158-a060-e279d5be9e31",
   "metadata": {},
   "outputs": [],
   "source": [
    "#run train\n",
    "#add an extra .brake() - what's going on here?"
   ]
  },
  {
   "cell_type": "markdown",
   "id": "80799f90-619d-4820-aa90-4e0df5f1fbc2",
   "metadata": {},
   "source": [
    "#### print statements:\n",
    "how do we figure out how our code doesn't work? we have some expectation of what values variables have, and they don't have those. Need to see what's in the variables!\n",
    "Simplest method is just print(x). This is honestly very good!! Obviously don't have print statements in your final code, but honestly I use a lot of print statements. The alternative is the logging module, but I prefer print statements - much faster, I don't mind having my output spammed with stuff, going into another file and having potentially a log file per python file is a lot of clutter.\n",
    "\n",
    "#### intro to debugging\n",
    "PyCharm's visual debugger is extremely useful!! show operation. set a breakpoint, code will stop running there. then you get:\n",
    "- evaluating expressions. good to see what the values of operations that break your program will be, check array operations, etc.\n",
    "- view numpy arrays!!! extremely useful\n",
    "- program execution control - step over = executes line by line, skipping functions, step into = goes into function calls, step into (my code) is the same but ignoring libraries, step out goes up a level. run to cursor - \"mobile breakpoint\"\n",
    "- conditional breakpoints!! I learned about these when making this, but god these seem very useful - you can have the breakpoint trigger only when something is met, so if there's a loop that breaks towards the end, make it break when the index variable is 99% done, etc."
   ]
  },
  {
   "cell_type": "code",
   "execution_count": 2,
   "id": "2f67f27d-0e88-4859-bf3c-8d5360bcf4ae",
   "metadata": {},
   "outputs": [],
   "source": [
    "#add print statements after accelerate and brakes\n",
    "#debug the thing\n",
    "#mention conditional debugger"
   ]
  },
  {
   "cell_type": "markdown",
   "id": "41f56242-ede3-4d65-99a3-0327495ba010",
   "metadata": {},
   "source": [
    "#### asserts:\n",
    "print statements are nice for when things go wrong, how do we do prevent errors before they happen? asserts! \n",
    "https://blog.regehr.org/archives/1091 is the best philosophical resource about asserts I've come across. \n",
    "Key points: \"An assertion is a Boolean expression at a specific point in a program which will be true unless there is a bug in the program.\"\n",
    "Basically, they're a way to reassure yourself that things are as they should be. Sanity checks. I think two main types of asserts are useful in research computing:\n",
    "1. math stuff - if variables, operations, etc. are mathematically constrained, assert that this is the case! e.g. asserting probabilities sum to 1. \n",
    "2. preconditions - at the top of functions, make sure that arrays that will be multiplied have the complementary shapes, etc. no real type checking in Python so this is a useful equivalent. don't literally use this to check types though! Asserts should be pretty sparing - the blog above says empirically 1 in 70 lines of code."
   ]
  },
  {
   "cell_type": "code",
   "execution_count": 3,
   "id": "a170623b-8b39-4312-876f-537e9423a2fc",
   "metadata": {},
   "outputs": [],
   "source": [
    "#add an assert to the odometer - maybe someone adds something to let the train drive backwards. odometer still shouldn't be negative."
   ]
  },
  {
   "cell_type": "markdown",
   "id": "59611ef3-40a2-4195-878f-eec02e9d53b2",
   "metadata": {},
   "source": [
    "## Coding for not just you: reproducibility and accessibility\n",
    "### argparse\n",
    "sometimes, you cannot run your code inside PyCharm, but must run it from the command line. The two primary instances of this are:\n",
    "- when publishing, people often want a command line tool. idrk why but they do.\n",
    "- for cluster work it's somewhere between much easier and the only way to get jobs to run.\n",
    "\n",
    "you can use sys.argv and make your command something like python science.py 4 10 \"linear\" 500 1e4 \"fast\" 8\n",
    "or use argparse! Python's built in library for, unsurprisingly, parsing command line arguments."
   ]
  },
  {
   "cell_type": "markdown",
   "id": "86aff98d-e2ab-4397-8927-d85474052c11",
   "metadata": {},
   "source": [
    "How argparse works: 3 easy steps.\n",
    "    \n",
    "1. set up ArgumentParser"
   ]
  },
  {
   "cell_type": "code",
   "execution_count": null,
   "id": "a9017de1-4ebe-4d16-b442-cc459247d7a4",
   "metadata": {},
   "outputs": [],
   "source": [
    "import argparse\n",
    "parser = argparse.ArgumentParser()"
   ]
  },
  {
   "cell_type": "markdown",
   "id": "c833a9f1-930e-41a5-8431-75c364732774",
   "metadata": {},
   "source": [
    "2. add arguments"
   ]
  },
  {
   "cell_type": "code",
   "execution_count": null,
   "id": "650b89dd-e224-4ecb-8101-761e4b2970a5",
   "metadata": {},
   "outputs": [],
   "source": [
    "parser.add_argument(\"filename\", type=argparse.FileType(\"rb\"), help=\"input file\")\n",
    "parser.add_argument(\"-n\", \"--number\", type=int, default=5, help=\"an optional integer\")\n",
    "parser.add_argument(\"--print_this_stuff\", nargs=\"*\", help=\"prints all the extra args you put in\")"
   ]
  },
  {
   "cell_type": "markdown",
   "id": "0e197952-ea11-449b-9470-0f0cf9c3e0f5",
   "metadata": {},
   "source": [
    "3. parse args"
   ]
  },
  {
   "cell_type": "code",
   "execution_count": null,
   "id": "0360416c-e28f-48ee-b9f0-7e3274abf799",
   "metadata": {},
   "outputs": [],
   "source": [
    "args = parser.parse_args()\n",
    "\n",
    "#args now has a variable for each argument:\n",
    "print(args.filename)\n",
    "print(args.number)\n",
    "for val in args.print_this_stuff:\n",
    "    print(val)\n",
    "\n",
    "#also the documentation is built-in! -h"
   ]
  },
  {
   "cell_type": "markdown",
   "id": "ef2b83b4-567b-4776-b299-e90b59baf4f3",
   "metadata": {},
   "source": [
    "Because it is a well-written module, argparse can handle whatever stuff you might want out of your inputs. Different types, required/optional arguments, mutually exclusive groups (e.g. \"verbose\" mode vs. \"quiet\" mode) - use group = parser.add_mutually_exclusive_group() and then group.add_argument()"
   ]
  },
  {
   "cell_type": "markdown",
   "id": "f01da04e-9c04-4c4b-8103-2d470b44cf3a",
   "metadata": {},
   "source": [
    "### a brief introduction to environments\n",
    "\n",
    "Python is highly dependent on packages (numpy, scipy, matplotlib, keras, scikit-learn, scikit-allele, whatever actual biologists use...). That's great! However, we need to keep track of all of these packages. Otherwise there are some issues, such as:\n",
    "- how do people know what packages your project uses? Or what version?\n",
    "- What if you were to HYPOTHETICALLY update all of your packages because you're publishing your paper and then PURELY HYPOTHETICALLY nothing is compatible anymore and your code doesn't work?\n",
    "\n",
    "Environments are not the solution to these questions but they are the key component to all solutions.\n",
    "\n",
    "Each environment is basically a fresh version of Python. You can put in just the set of packages you need to do something and no more. And then you can start another environment for a different project, etc. How do we set up environments? There are 3 basic commands that are used and that's pretty much it.\n",
    "\n",
    "1. conda create --name <env> (python=3.x) (packages you want)\n",
    "2. conda activate name\n",
    "3. conda deactivate\n",
    "\n",
    "From there, install packages you need using the command `conda install package-name`. That's pretty much it!"
   ]
  },
  {
   "cell_type": "markdown",
   "id": "501759e2-072f-41b5-8660-7194b33ab4de",
   "metadata": {},
   "source": [
    "### my transformation into a software engineer\n",
    "\n",
    "so for my first project I didn't use git or anything. No environments. No code testing. Nothing. All of my code was on my UChicago Box (still recommend, you can get more granular version history than git). Then we had to upload it like good scientists and it was a disaster. \n",
    "\n",
    "So: **maintain a GitHub + pyproject.toml and occasionally push changes to it**. Do this more frequently if you have collaborators. More advanced Github stuff below, but that's not needed for every project. See https://github.com/steinrue/EMSel for a fairly simple pyproject.toml you can copy.\n",
    "\n",
    "Also, I don't actually know how to use git properly. Like, doing commits on the command line and stuff. Instead, I use Github Desktop! Highly recommend a GUI for modern git usage."
   ]
  },
  {
   "cell_type": "markdown",
   "id": "99787dd7",
   "metadata": {},
   "source": [
    "#### my transformation into a software engineer II: electric snakemake\n",
    "\n",
    "automated workflow creation! no more running 10 python scripts in a row oh wait I forgot I updated the 6th one now I have to rerun everything again oh wait I ran these two out of order so it didn't run on the latest dataset time to rerun everything etc"
   ]
  },
  {
   "cell_type": "markdown",
   "id": "14a45936-055b-472c-86ce-5a7da4ad85ba",
   "metadata": {},
   "source": [
    "99% of rules for snakemake look like this:"
   ]
  },
  {
   "cell_type": "code",
   "execution_count": null,
   "id": "24bdb8e0-4753-4521-a1fd-c632b86823f4",
   "metadata": {},
   "outputs": [],
   "source": [
    "rule bwa_map:\n",
    "    input:\n",
    "        \"data/genome.fa\",\n",
    "        \"data/samples/{sample}.fastq\"\n",
    "    output:\n",
    "        \"mapped_reads/{sample}.bam\"\n",
    "    shell:\n",
    "        \"bwa mem {input} | samtools view -Sb - > {output}\""
   ]
  },
  {
   "cell_type": "markdown",
   "id": "3a2e639d-d9f3-4484-8d5d-3a7b616ce308",
   "metadata": {},
   "source": [
    "A snakemake workflow consists of multiple rules that interact. Snakemake infers the relations between your rules and builds a DAG of dependencies:\n",
    "![snakemake-dag](https://snakemake.readthedocs.io/en/stable/_images/dag_call.png)"
   ]
  },
  {
   "cell_type": "markdown",
   "id": "c217025e",
   "metadata": {},
   "source": [
    "support for clusters (with special SLURM support!) is built-in as well - snakemake 8 made everything seem super complicated (what is \"snakemake-executor-plugin-cluster-generic\") but https://github.com/jdblischak/smk-simple-slurm is an **incredible** resource"
   ]
  },
  {
   "cell_type": "markdown",
   "id": "29bed98e-a1b4-4a02-b1bb-6ff106973c08",
   "metadata": {},
   "source": [
    "lastly, **INPUT AS JSON OUTPUT AS CSV/PDF/DATAFRAME**"
   ]
  },
  {
   "cell_type": "markdown",
   "id": "bad7ee9b-172b-4447-9861-300c1fd09d2b",
   "metadata": {},
   "source": [
    "### Optional optimization 1: a better GitHub setup\n",
    "\n",
    "All of my setup is heavily adapted from the project setup cookiecutter at https://learn.scientific-python.org/development/\n",
    "\n",
    "Github actions! Environment specification! Tests! Linters! All of this is by far the easiest to set up at the beginning of a project (or grad school) so let's go through it now."
   ]
  },
  {
   "cell_type": "markdown",
   "id": "c60c168b-825e-44ac-b602-1dd91881febd",
   "metadata": {},
   "source": [
    "### Optional optimization 2: tests\n",
    "\n",
    "Tests are good! Tests are a little bit harder in a research context than a pure software development context. \"Test-driven development\" doesn't make sense - we are driven by research questions. Instead, I use tests to make sure that core computational functionality doesn't change, more or less."
   ]
  },
  {
   "cell_type": "markdown",
   "id": "b486eca2-2811-433e-8ac8-0142349abf04",
   "metadata": {},
   "source": [
    "### Optional optimization 3: containers\n",
    "\n",
    "How do you make sure your code runs the same everywhere? Simply build a little operating system around your code so that it always runs in the same environment! This is called \"containerization\". The most common containerization platform is Docker. It is not too hard to set up but almost certainly overkill for research."
   ]
  }
 ],
 "metadata": {
  "kernelspec": {
   "display_name": "Python 3 (ipykernel)",
   "language": "python",
   "name": "python3"
  },
  "language_info": {
   "codemirror_mode": {
    "name": "ipython",
    "version": 3
   },
   "file_extension": ".py",
   "mimetype": "text/x-python",
   "name": "python",
   "nbconvert_exporter": "python",
   "pygments_lexer": "ipython3",
   "version": "3.12.2"
  }
 },
 "nbformat": 4,
 "nbformat_minor": 5
}
