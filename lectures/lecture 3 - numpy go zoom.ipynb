{
 "cells": [
  {
   "cell_type": "markdown",
   "id": "d4883f47",
   "metadata": {},
   "source": [
    "## Lecture 3 - making code go fast feat. NumPy"
   ]
  },
  {
   "cell_type": "markdown",
   "id": "5b93a1c3",
   "metadata": {},
   "source": [
    "### Intro to Numpy\n",
    "\n",
    "Numpy is built around the **ndarray**, which you can think of as a matrix of arbitrary dimension.\n",
    "\n",
    "![ndarray instantiation](https://miro.medium.com/v2/resize:fit:1200/1*sxnhgeSptW8Jfol8XUyP-Q.png)"
   ]
  },
  {
   "cell_type": "code",
   "execution_count": 99,
   "id": "946ffbfb",
   "metadata": {},
   "outputs": [],
   "source": [
    "import numpy as np"
   ]
  },
  {
   "cell_type": "markdown",
   "id": "7663f0ed",
   "metadata": {},
   "source": [
    "Most common ways of instantiating numpy arrays:\n",
    "- np.array(list)\n",
    "- np.zeros((shape object))\n",
    "- np.arange(start, stop, step)\n",
    "    \n",
    "Properties of arrays:\n",
    "- array.shape: returns a tuple with the relevant information. E.g. generate_binary_numbers(5).shape = (32, 5)\n",
    "- array.ndim: len(array.shape).\n",
    "- array.size: np.product(array.shape)"
   ]
  },
  {
   "cell_type": "markdown",
   "id": "2e1316b5",
   "metadata": {},
   "source": [
    "#### Accessing elements of arrays: array slicing\n",
    "\n",
    "Basic slicing works the same way as on Python lists, just across multiple dimensions, potentially. For example:"
   ]
  },
  {
   "cell_type": "code",
   "execution_count": 100,
   "id": "eb643212",
   "metadata": {},
   "outputs": [
    {
     "name": "stdout",
     "output_type": "stream",
     "text": [
      "[[ 0  1  2  3  4]\n",
      " [ 5  6  7  8  9]\n",
      " [10 11 12 13 14]\n",
      " [15 16 17 18 19]\n",
      " [20 21 22 23 24]]\n"
     ]
    }
   ],
   "source": [
    "a = np.arange(25).reshape(5,5)\n",
    "print(a)"
   ]
  },
  {
   "cell_type": "code",
   "execution_count": 101,
   "id": "1304af54",
   "metadata": {},
   "outputs": [
    {
     "data": {
      "text/plain": [
       "array([[ 5,  6],\n",
       "       [10, 11],\n",
       "       [15, 16]])"
      ]
     },
     "execution_count": 101,
     "metadata": {},
     "output_type": "execute_result"
    }
   ],
   "source": [
    "a[1:4, 0:2]"
   ]
  },
  {
   "cell_type": "code",
   "execution_count": 103,
   "id": "4acb3ec7-432b-410a-bcc7-fc3028e3b0d7",
   "metadata": {},
   "outputs": [
    {
     "data": {
      "text/plain": [
       "array([[11, 13],\n",
       "       [16, 18]])"
      ]
     },
     "execution_count": 103,
     "metadata": {},
     "output_type": "execute_result"
    }
   ],
   "source": [
    "a[2:4, 1::2]"
   ]
  },
  {
   "cell_type": "markdown",
   "id": "bbd3a51f",
   "metadata": {},
   "source": [
    "###### mini-exercises (3 hands)\n",
    "\n",
    "What is the output of a[3:, :3]?\n",
    "\n",
    "How about a[2:4, 1::2]?"
   ]
  },
  {
   "cell_type": "markdown",
   "id": "49e4640f",
   "metadata": {},
   "source": [
    "#### advanced indexing\n",
    "\n",
    "Numpy is much cooler than base Python. Specifically, you can index a numpy array with *a numpy array*. This is called \"advanced indexing\". A simple example:"
   ]
  },
  {
   "cell_type": "code",
   "execution_count": 104,
   "id": "aca98631",
   "metadata": {},
   "outputs": [
    {
     "name": "stdout",
     "output_type": "stream",
     "text": [
      "[  0   1   4   9  16  25  36  49  64  81 100 121 144 169 196 225 256 289\n",
      " 324 361 400 441 484 529 576 625 676 729 784 841]\n"
     ]
    }
   ],
   "source": [
    "zip_code_index = np.array([6,0,6,3,7])\n",
    "b = np.arange(30)**2\n",
    "print(b)"
   ]
  },
  {
   "cell_type": "markdown",
   "id": "64ba1270",
   "metadata": {},
   "source": [
    "What do I get here? (3 hands)"
   ]
  },
  {
   "cell_type": "code",
   "execution_count": 105,
   "id": "729ea74e",
   "metadata": {},
   "outputs": [
    {
     "data": {
      "text/plain": [
       "array([36,  0, 36,  9, 49])"
      ]
     },
     "execution_count": 105,
     "metadata": {},
     "output_type": "execute_result"
    }
   ],
   "source": [
    "b[zip_code_index]"
   ]
  },
  {
   "cell_type": "markdown",
   "id": "8601614e",
   "metadata": {},
   "source": [
    "This can get somewhat wild - what do I get as the output of these two cells?"
   ]
  },
  {
   "cell_type": "code",
   "execution_count": 106,
   "id": "d7853800",
   "metadata": {},
   "outputs": [
    {
     "data": {
      "text/plain": [
       "array([[  0,   1,   4,   9,  16],\n",
       "       [ 25,  36,  49,  64,  81],\n",
       "       [100, 121, 144, 169, 196],\n",
       "       [225, 256, 289, 324, 361],\n",
       "       [400, 441, 484, 529, 576]])"
      ]
     },
     "execution_count": 106,
     "metadata": {},
     "output_type": "execute_result"
    }
   ],
   "source": [
    "b[a]"
   ]
  },
  {
   "cell_type": "code",
   "execution_count": 107,
   "id": "21bd5dc7",
   "metadata": {},
   "outputs": [
    {
     "data": {
      "text/plain": [
       "array([[ 0,  1,  2,  3,  4],\n",
       "       [ 5,  6,  7,  8,  9],\n",
       "       [20, 21, 22, 23, 24]])"
      ]
     },
     "execution_count": 107,
     "metadata": {},
     "output_type": "execute_result"
    }
   ],
   "source": [
    "a[b[:3]]"
   ]
  },
  {
   "cell_type": "markdown",
   "id": "cfc33391",
   "metadata": {},
   "source": [
    "Note that even though b is a one dimensional array, we can slice it two-dimensionally!!"
   ]
  },
  {
   "cell_type": "markdown",
   "id": "0fdbbefe",
   "metadata": {},
   "source": [
    "##### Advanced slicing: use case\n",
    "\n",
    "Boolean arrays can be easily generated in numpy:"
   ]
  },
  {
   "cell_type": "code",
   "execution_count": 108,
   "id": "66648f7a",
   "metadata": {},
   "outputs": [
    {
     "data": {
      "text/plain": [
       "array([[False, False, False, False, False],\n",
       "       [False, False, False, False, False],\n",
       "       [False, False, False,  True,  True],\n",
       "       [ True,  True,  True,  True,  True],\n",
       "       [ True,  True,  True,  True,  True]])"
      ]
     },
     "execution_count": 108,
     "metadata": {},
     "output_type": "execute_result"
    }
   ],
   "source": [
    "a > 12"
   ]
  },
  {
   "cell_type": "markdown",
   "id": "bddb71f4",
   "metadata": {},
   "source": [
    "and can be used to index arrays (most commonly the array itself):"
   ]
  },
  {
   "cell_type": "code",
   "execution_count": 109,
   "id": "94bbbd9c",
   "metadata": {},
   "outputs": [
    {
     "data": {
      "text/plain": [
       "array([[  0,   1,   2,   3,   4],\n",
       "       [  5,   6,   7,   8,   9],\n",
       "       [ 10,  11,  12, 100, 100],\n",
       "       [100, 100, 100, 100, 100],\n",
       "       [100, 100, 100, 100, 100]])"
      ]
     },
     "execution_count": 109,
     "metadata": {},
     "output_type": "execute_result"
    }
   ],
   "source": [
    "a[a > 12] = 100\n",
    "a"
   ]
  },
  {
   "cell_type": "markdown",
   "id": "948186f3",
   "metadata": {},
   "source": [
    "Operations on arrays\n",
    "\n",
    "We just saw one example - we set some values in an array to an integer. Other examples:"
   ]
  },
  {
   "cell_type": "code",
   "execution_count": 110,
   "id": "7b2493a8",
   "metadata": {},
   "outputs": [
    {
     "data": {
      "text/plain": [
       "array([[0, 0, 0, 0, 0],\n",
       "       [1, 1, 1, 1, 1],\n",
       "       [2, 2, 2, 2, 2],\n",
       "       [3, 3, 3, 3, 3],\n",
       "       [4, 4, 4, 4, 4]])"
      ]
     },
     "execution_count": 110,
     "metadata": {},
     "output_type": "execute_result"
    }
   ],
   "source": [
    "c = np.repeat(np.arange(5),5).reshape(5,5)\n",
    "c"
   ]
  },
  {
   "cell_type": "code",
   "execution_count": 111,
   "id": "9920790d",
   "metadata": {},
   "outputs": [
    {
     "data": {
      "text/plain": [
       "array([[  0,   1,   2,   3,   4],\n",
       "       [  5,   6,   7,   8,   9],\n",
       "       [ 10,  11,  12, 100, 100],\n",
       "       [100, 100, 100, 100, 100],\n",
       "       [100, 100, 100, 100, 100]])"
      ]
     },
     "execution_count": 111,
     "metadata": {},
     "output_type": "execute_result"
    }
   ],
   "source": [
    "a"
   ]
  },
  {
   "cell_type": "code",
   "execution_count": 114,
   "id": "08c623d7",
   "metadata": {},
   "outputs": [
    {
     "data": {
      "text/plain": [
       "array([[  0,   0,   0,   0,   0],\n",
       "       [  5,   6,   7,   8,   9],\n",
       "       [ 20,  22,  24, 200, 200],\n",
       "       [300, 300, 300, 300, 300],\n",
       "       [400, 400, 400, 400, 400]])"
      ]
     },
     "execution_count": 114,
     "metadata": {},
     "output_type": "execute_result"
    }
   ],
   "source": [
    "a * c"
   ]
  },
  {
   "cell_type": "code",
   "execution_count": 115,
   "id": "ae30b96b",
   "metadata": {},
   "outputs": [
    {
     "data": {
      "text/plain": [
       "array([[  0,   1,   2,   3,   4],\n",
       "       [  6,   7,   8,   9,  10],\n",
       "       [ 12,  13,  14, 102, 102],\n",
       "       [103, 103, 103, 103, 103],\n",
       "       [104, 104, 104, 104, 104]])"
      ]
     },
     "execution_count": 115,
     "metadata": {},
     "output_type": "execute_result"
    }
   ],
   "source": [
    "a + c"
   ]
  },
  {
   "cell_type": "markdown",
   "id": "b30275e1",
   "metadata": {},
   "source": [
    "Operations are *all* element-wise unless otherwise specified (e.g. for \"normal\" matrix multiplication, use @). Because things are elementwise, arrays of the same shape can be operated on as you would expect. But what about something like"
   ]
  },
  {
   "cell_type": "code",
   "execution_count": 116,
   "id": "df936bb8",
   "metadata": {},
   "outputs": [
    {
     "data": {
      "text/plain": [
       "array([[  0,   2,   4,   6,   8],\n",
       "       [  5,   7,   9,  11,  13],\n",
       "       [ 10,  12,  14, 103, 104],\n",
       "       [100, 101, 102, 103, 104],\n",
       "       [100, 101, 102, 103, 104]])"
      ]
     },
     "execution_count": 116,
     "metadata": {},
     "output_type": "execute_result"
    }
   ],
   "source": [
    "a + c[:, 0]"
   ]
  },
  {
   "cell_type": "markdown",
   "id": "bb8532d9",
   "metadata": {},
   "source": [
    "What happened here?"
   ]
  },
  {
   "cell_type": "markdown",
   "id": "19ecfd3c-0daa-464b-a877-c51ea409b6d4",
   "metadata": {},
   "source": [
    "#### Broadcasting\n",
    "\n",
    "Broadcasting is numpy's process of attempting to \"morph\" two arrays into having the same shape so that element-wise operations can be applied. I thought this was more black magic and I just sort of... tried transposing arrays, reshaping things, etc. until something worked, until about two years ago. Now I more or less understand broadcasting, and it's actually pretty simple!\n",
    "\n",
    "###### Broadcasting intuition: 0-d and 1-d.\n",
    "Scalars (0-dimensional arrays) can broadcast with anything.\n",
    "![scalar broadcasting](https://numpy.org/doc/stable/_images/broadcasting_1.png)"
   ]
  },
  {
   "cell_type": "code",
   "execution_count": 117,
   "id": "e7ba52af-660a-4014-b58e-a3ee13604664",
   "metadata": {},
   "outputs": [
    {
     "data": {
      "text/plain": [
       "array([[  5,   6,   7,   8,   9],\n",
       "       [ 10,  11,  12,  13,  14],\n",
       "       [ 15,  16,  17, 105, 105],\n",
       "       [105, 105, 105, 105, 105],\n",
       "       [105, 105, 105, 105, 105]])"
      ]
     },
     "execution_count": 117,
     "metadata": {},
     "output_type": "execute_result"
    }
   ],
   "source": [
    "a + 5 #works"
   ]
  },
  {
   "cell_type": "code",
   "execution_count": 118,
   "id": "e0e7a2df-8ace-4961-b98e-34e651b3a289",
   "metadata": {},
   "outputs": [
    {
     "data": {
      "text/plain": [
       "array([5, 6, 7, 8, 9])"
      ]
     },
     "execution_count": 118,
     "metadata": {},
     "output_type": "execute_result"
    }
   ],
   "source": [
    "a[0, :] + 5 #works"
   ]
  },
  {
   "cell_type": "code",
   "execution_count": 125,
   "id": "9ddf5412-aa3f-43c2-aadd-bd5f3cdab4d1",
   "metadata": {},
   "outputs": [
    {
     "data": {
      "text/plain": [
       "[0, 1, 2, 3, 1, 2, 3, 4]"
      ]
     },
     "execution_count": 125,
     "metadata": {},
     "output_type": "execute_result"
    }
   ],
   "source": [
    "[0,1,2,3] + [1,2,3,4]"
   ]
  },
  {
   "cell_type": "code",
   "execution_count": 128,
   "id": "5c509235-99ed-457a-9200-40dd3fbe66c4",
   "metadata": {},
   "outputs": [
    {
     "data": {
      "text/plain": [
       "(3, 1)"
      ]
     },
     "execution_count": 128,
     "metadata": {},
     "output_type": "execute_result"
    }
   ],
   "source": [
    "np.array([[0],[1],[3]]).shape"
   ]
  },
  {
   "cell_type": "markdown",
   "id": "db46f8c1-cdcf-4c1a-adf8-50f5a8ec4011",
   "metadata": {},
   "source": [
    "What about 1-d arrays? If array f has shape (m,) and array g has shape (n,), when will f + g be a valid operation in NumPy?\n",
    "\n",
    "\n",
    "\n",
    "\n",
    "NOTE: what about m|n or n|m? This is, for good reason, NOT valid! No way of knowing what to do unambiguously. For example, if f = [1,2,3] and g = [1,2,3,4,5,6], is f + g broadcasted properly as\n",
    "\n",
    "[1,2,3,1,2,3]\n",
    "\\+\n",
    "[1,2,3,4,5,6]\n",
    "\n",
    "or\n",
    "\n",
    "[1,1,2,2,3,3]\n",
    "\\+\n",
    "[1,2,3,4,5,6]?"
   ]
  },
  {
   "cell_type": "markdown",
   "id": "42ccc88f-129b-408c-84c0-87f91185825a",
   "metadata": {},
   "source": [
    "###### General broadcasting rules\n",
    "\n",
    "For two ndarrays, broadcasting more or less follows the 1-d rules for each dimension. How can you tell if two arrays are broadcastable against each other?\n",
    "\n",
    "1. Right-align the shape of both arrays\n",
    "2. For each dimension, ensure that the size matches or equals one.\n",
    "\n",
    "So:\n",
    "\n",
    "![ndarray example](numpy_code_snippet.png)\n",
    "\n",
    "For all dimensions with size 1, numpy will then \"stretch\" this dimension to make it have the same shape as non-1 sizes of the same dimension before doing the operation. Here is a picture depicting this process:\n",
    "\n",
    "![ndarray broadcasting](https://numpy.org/doc/stable/_images/broadcasting_2.png)\n",
    "\n",
    "As a numerical example, if you have matrices d with d.shape = (8,3,1,8) and e with e.shape = (3,5,1), d + e will not throw an error and will have shape (8,3,5,8).\n",
    "\n",
    "So, from the earlier code, a + c[:, 0] worked because a has shape (5,5) and c[:, 0] has shape (5,) -> (1,5), which can be broadcasted to (5,5)."
   ]
  },
  {
   "cell_type": "markdown",
   "id": "53b56774",
   "metadata": {},
   "source": [
    "###### mini exercises:\n",
    "\n",
    "For each of the following, determine whether the two arrays have compatible dimensions, and if they do, what the dimensions of the resulting array after a binary operation are.\n",
    "\n",
    "1. f.shape = (5,1,3,2), g.shape = (1,3)\n",
    "2. f.shape = (5,1,3,2), h.shape = (1,3,1)\n",
    "3. f.shape = (5,1,3,2), i.shape = (1,3,1,1)\n",
    "4. f.shape = (5,1,3,2), j.shape = (1,3,1,1,1)\n",
    "5. f.shape = (5,1,3,2), k.shape = (1,3,1,1,1,1)"
   ]
  },
  {
   "cell_type": "markdown",
   "id": "1ab8c8a6",
   "metadata": {},
   "source": [
    "Everything else in numpy is just functions. Numpy (+ scipy) has functions for everything you could ever want, seriously. As an example, I was calculating p-values by fitting points to a null distribution, and using the definition of a p-value as 1-cdf. Some of my p-values were very very small, so they were being returned as 0, which caused their log to be bad, etc. \n",
    "\n",
    "Turns out every (continuous) distribution in scipy.stats can return log(1-cdf) with more precision than manually computing the log of 1 minus the cdf. wild."
   ]
  },
  {
   "cell_type": "markdown",
   "id": "5de51c5b",
   "metadata": {},
   "source": [
    "Lastly, the axis keyword is important and a little confusing - basically applies a numpy function along a \"direction\":"
   ]
  },
  {
   "cell_type": "code",
   "execution_count": 132,
   "id": "97b92c25",
   "metadata": {},
   "outputs": [
    {
     "name": "stdout",
     "output_type": "stream",
     "text": [
      "[[ 0  1  2  3  4]\n",
      " [ 5  6  7  8  9]\n",
      " [10 11 12 13 14]]\n",
      "105\n",
      "[15 18 21 24 27]\n",
      "[10 35 60]\n"
     ]
    }
   ],
   "source": [
    "d = np.arange(15).reshape(3,5)\n",
    "print(d)\n",
    "print(np.sum(d))\n",
    "print(np.sum(d, axis=0))\n",
    "print(np.sum(d, axis=1))"
   ]
  },
  {
   "cell_type": "markdown",
   "id": "0f2b9474",
   "metadata": {},
   "source": [
    "Oftentimes, you know what the shape of the resulting array you want is but not what axis that corresponds to - for example, you know you want to average something over time within 100 different experiments, is that axis=0? 1?\n",
    "My preferred way to remember this is that axis=i will delete the ith value from the shape.\n",
    "d.shape = (3,5) -> axis=0 makes the shape (5,), axis=1 makes the shape (3,)"
   ]
  },
  {
   "cell_type": "markdown",
   "id": "48029326",
   "metadata": {},
   "source": [
    "<center><h1>how to make the code fast</h1></center>\n",
    "\n",
    "<br/>"
   ]
  },
  {
   "cell_type": "markdown",
   "id": "31ba4d11",
   "metadata": {},
   "source": [
    "### The golden rule of code optimization\n",
    "\n",
    "<br/><br/><br/><br/><br/><br/><br/><br/><br/><br/><br/><br/><br/><br/><br/><br/><br/><br/>\n",
    "\n",
    "\n",
    "\n",
    "\n",
    "\n",
    "\n",
    "# DON'T DO IT\n",
    "\n",
    "\n",
    "<br/><br/>\n",
    "<br/><br/>\n",
    "<br/><br/>\n",
    "<br/><br/>\n",
    "<br/><br/>\n",
    "\n",
    "\n",
    "\n",
    "## yet\n",
    "\n",
    "\n",
    "\n",
    "\n",
    "\n",
    "### make sure your code does _exactly_ what you want and does so _correctly_ before even thinking about making it fast.\n",
    "\n",
    "### Then:\n",
    "- vectorize\n",
    "- reduce function calls + other cleverness\n",
    "- present an offering to our savior, Numba, and hope they smile favorably upon your code"
   ]
  },
  {
   "cell_type": "markdown",
   "id": "3cc22746",
   "metadata": {},
   "source": [
    "**working example**: Fun with binary sequences of length n - adapted from Maryn Carlson's code"
   ]
  },
  {
   "cell_type": "code",
   "execution_count": 133,
   "id": "0c05c056",
   "metadata": {},
   "outputs": [],
   "source": [
    "import numpy as np\n",
    "def binary_digits(n):\n",
    "    if n == 1:\n",
    "        return [[0], [1]]\n",
    "    return [[*row, i] for row in binary_digits(n-1) for i in range(2)]"
   ]
  },
  {
   "cell_type": "code",
   "execution_count": 134,
   "id": "ea14dbda",
   "metadata": {},
   "outputs": [
    {
     "data": {
      "text/plain": [
       "[[0, 0, 0],\n",
       " [0, 0, 1],\n",
       " [0, 1, 0],\n",
       " [0, 1, 1],\n",
       " [1, 0, 0],\n",
       " [1, 0, 1],\n",
       " [1, 1, 0],\n",
       " [1, 1, 1]]"
      ]
     },
     "execution_count": 134,
     "metadata": {},
     "output_type": "execute_result"
    }
   ],
   "source": [
    "bin_mat_small = binary_digits(3)\n",
    "bin_mat_small"
   ]
  },
  {
   "cell_type": "code",
   "execution_count": 135,
   "id": "c8b76d83",
   "metadata": {},
   "outputs": [],
   "source": [
    "bin_mat_11 = binary_digits(11)"
   ]
  },
  {
   "cell_type": "markdown",
   "id": "3f60fb6f",
   "metadata": {},
   "source": [
    "Problem: count the number of values that equal 1 in both row i and j of a binary matrix of size n.\n",
    "\n",
    "Expected output: B := a (2^n, 2^n) matrix where B_ij = # of values equal to 1 in both row i and row j of binary_digits(n)"
   ]
  },
  {
   "cell_type": "code",
   "execution_count": 138,
   "id": "1ec44447",
   "metadata": {},
   "outputs": [],
   "source": [
    "def create_counts_matrix_purepython(binMat):\n",
    "    nstates = len(binMat)\n",
    "    n = len(binMat[0])\n",
    "    counts = []\n",
    "\n",
    "    for i in range (nstates):\n",
    "        counts.append([])\n",
    "        for j in range(nstates):\n",
    "            cell_val = 0\n",
    "            for row_idx in range(n):\n",
    "                if binMat[i][row_idx] == 1 and binMat[j][row_idx] == 1:\n",
    "                    cell_val += 1\n",
    "            counts[i].append(cell_val)\n",
    "    return counts"
   ]
  },
  {
   "cell_type": "code",
   "execution_count": 140,
   "id": "7f767182",
   "metadata": {},
   "outputs": [
    {
     "data": {
      "text/plain": [
       "[[0, 0, 0, 0, 0, 0, 0, 0],\n",
       " [0, 1, 0, 1, 0, 1, 0, 1],\n",
       " [0, 0, 1, 1, 0, 0, 1, 1],\n",
       " [0, 1, 1, 2, 0, 1, 1, 2],\n",
       " [0, 0, 0, 0, 1, 1, 1, 1],\n",
       " [0, 1, 0, 1, 1, 2, 1, 2],\n",
       " [0, 0, 1, 1, 1, 1, 2, 2],\n",
       " [0, 1, 1, 2, 1, 2, 2, 3]]"
      ]
     },
     "execution_count": 140,
     "metadata": {},
     "output_type": "execute_result"
    }
   ],
   "source": [
    "create_counts_matrix_purepython(bin_mat_small)"
   ]
  },
  {
   "cell_type": "code",
   "execution_count": 142,
   "id": "5db50112",
   "metadata": {},
   "outputs": [],
   "source": [
    "test_result = create_counts_matrix_purepython(bin_mat_11)"
   ]
  },
  {
   "cell_type": "markdown",
   "id": "f3a9ea24",
   "metadata": {},
   "source": [
    "### profiling - \"this took a while, but how long, exactly?\""
   ]
  },
  {
   "cell_type": "code",
   "execution_count": 143,
   "id": "77e01435",
   "metadata": {},
   "outputs": [
    {
     "name": "stdout",
     "output_type": "stream",
     "text": [
      "2.21 s ± 5.23 ms per loop (mean ± std. dev. of 3 runs, 1 loop each)\n"
     ]
    }
   ],
   "source": [
    "%%timeit -r 3 -n 1\n",
    "create_counts_matrix_purepython(bin_mat_11)"
   ]
  },
  {
   "cell_type": "markdown",
   "id": "eecde4af",
   "metadata": {},
   "source": [
    "##### tqdm aside:"
   ]
  },
  {
   "cell_type": "code",
   "execution_count": 144,
   "id": "6f8b80d6",
   "metadata": {},
   "outputs": [],
   "source": [
    "from tqdm.notebook import tqdm\n",
    "def create_counts_matrix_tqdm(binMat):\n",
    "    nstates = len(binMat)\n",
    "    n = len(binMat[0])\n",
    "    counts = []\n",
    "\n",
    "    for i in tqdm(range(nstates)):\n",
    "        counts.append([])\n",
    "        for j in range(nstates):\n",
    "            cell_val = 0\n",
    "            for row_idx in range(n):\n",
    "                if binMat[i][row_idx] == 1 and binMat[j][row_idx] == 1:\n",
    "                    cell_val += 1\n",
    "            counts[i].append(cell_val)\n",
    "    return counts"
   ]
  },
  {
   "cell_type": "code",
   "execution_count": 145,
   "id": "5716eacd",
   "metadata": {},
   "outputs": [
    {
     "data": {
      "application/vnd.jupyter.widget-view+json": {
       "model_id": "566c437268864627a5008455f249ee8d",
       "version_major": 2,
       "version_minor": 0
      },
      "text/plain": [
       "  0%|          | 0/2048 [00:00<?, ?it/s]"
      ]
     },
     "metadata": {},
     "output_type": "display_data"
    }
   ],
   "source": [
    "_ = create_counts_matrix_tqdm(bin_mat_11)"
   ]
  },
  {
   "cell_type": "code",
   "execution_count": 146,
   "id": "d080dc3e",
   "metadata": {},
   "outputs": [
    {
     "name": "stdout",
     "output_type": "stream",
     "text": [
      "The line_profiler extension is already loaded. To reload it, use:\n",
      "  %reload_ext line_profiler\n"
     ]
    }
   ],
   "source": [
    "%load_ext line_profiler"
   ]
  },
  {
   "cell_type": "code",
   "execution_count": 147,
   "id": "08bea90e",
   "metadata": {},
   "outputs": [
    {
     "data": {
      "text/plain": [
       "Timer unit: 1e-09 s\n",
       "\n",
       "Total time: 23.6361 s\n",
       "File: /var/folders/fr/xd48pkns7m1dqpzds0bm2vl80000gn/T/ipykernel_10640/2795158026.py\n",
       "Function: create_counts_matrix_purepython at line 1\n",
       "\n",
       "Line #      Hits         Time  Per Hit   % Time  Line Contents\n",
       "==============================================================\n",
       "     1                                           def create_counts_matrix_purepython(binMat):\n",
       "     2         1       1000.0   1000.0      0.0      nstates = len(binMat)\n",
       "     3         1       2000.0   2000.0      0.0      n = len(binMat[0])\n",
       "     4         1          0.0      0.0      0.0      counts = []\n",
       "     5                                           \n",
       "     6      2049     476000.0    232.3      0.0      for i in range (nstates):\n",
       "     7      2048     436000.0    212.9      0.0          counts.append([])\n",
       "     8   4196352  857233000.0    204.3      3.6          for j in range(nstates):\n",
       "     9   4194304  799222000.0    190.5      3.4              cell_val = 0\n",
       "    10  50331648 9655212000.0    191.8     40.8              for row_idx in range(n):\n",
       "    11  46137344 9269306000.0    200.9     39.2                  if binMat[i][row_idx] == 1 and binMat[j][row_idx] == 1:\n",
       "    12  11534336 2257695000.0    195.7      9.6                      cell_val += 1\n",
       "    13   4194304  796478000.0    189.9      3.4              counts[i].append(cell_val)\n",
       "    14         1       2000.0   2000.0      0.0      return counts"
      ]
     },
     "metadata": {},
     "output_type": "display_data"
    }
   ],
   "source": [
    "%lprun -f create_counts_matrix_purepython create_counts_matrix_purepython(bin_mat_11)"
   ]
  },
  {
   "cell_type": "markdown",
   "id": "2dfd5bcb",
   "metadata": {},
   "source": [
    "alternatives: cProfile + snakeviz, scalene (I can't read it but it's apparently good)\n",
    "\n",
    "https://coderzcolumn.com/tutorials/python/snakeviz-visualize-profiling-results-in-python is a good intro to snakeviz\n",
    "\n",
    "https://codesolid.com/how-do-i-profile-python-code/ is a good all-around article"
   ]
  },
  {
   "cell_type": "markdown",
   "id": "bb3ff3a4",
   "metadata": {},
   "source": [
    "### level 1: vectorization\n",
    "\n",
    "Vectorization just means converting for loops to numpy operations. As a quick example, the formula for the allele frequency in the n+1st generation under selection is $$p' = p + sp(1-p)/2$$. Two ways to compute a vector of allele frequencies in generation n+1 given a vector of allele frequencies in generation n and a selection coefficient are:"
   ]
  },
  {
   "cell_type": "code",
   "execution_count": null,
   "id": "3823a589",
   "metadata": {},
   "outputs": [],
   "source": [
    "import numpy as np\n",
    "p = np.random.default_rng(5).uniform(size=100)\n",
    "s = 0.01\n",
    "p_prime = np.zeros_like(p)\n",
    "for i in range(p.shape[0]):\n",
    "    p_prime[i] = p[i] + s*p[i]*(1-p[i])/2\n",
    "    \n",
    "    \n",
    "p_prime = p + s*p*(1-p)"
   ]
  },
  {
   "cell_type": "markdown",
   "id": "034e5b40",
   "metadata": {},
   "source": [
    "The second is faster, easier to understand, and closer to the formula above in appearance.\n",
    "\n",
    "Now, let's apply this to create_counts_matrix:"
   ]
  },
  {
   "cell_type": "code",
   "execution_count": 148,
   "id": "142d0d4f",
   "metadata": {},
   "outputs": [],
   "source": [
    "def create_counts_matrix_purepython(binMat):\n",
    "    nstates = len(binMat)\n",
    "    n = len(binMat[0])\n",
    "    counts = []\n",
    "\n",
    "    for i in range (nstates):\n",
    "        counts.append([])\n",
    "        for j in range(nstates):\n",
    "            cell_val = 0\n",
    "            for row_idx in range(n):\n",
    "                if binMat[i][row_idx] == 1 and binMat[j][row_idx] == 1:\n",
    "                    cell_val += 1\n",
    "            counts[i].append(cell_val)\n",
    "    return counts"
   ]
  },
  {
   "cell_type": "code",
   "execution_count": 149,
   "id": "0445fa65",
   "metadata": {},
   "outputs": [],
   "source": [
    "def create_counts_matrix_level1(binMat):\n",
    "    nstates, n = binMat.shape\n",
    "    counts = np.zeros((nstates, nstates), dtype=np.int8)\n",
    "\n",
    "    for i in range(nstates):\n",
    "        for j in range(nstates):\n",
    "            prod = binMat[i,:]*binMat[j,:]\n",
    "            num_double_ones  = np.sum (prod == 1)\n",
    "            counts[i, j] = num_double_ones\n",
    "    return counts"
   ]
  },
  {
   "cell_type": "code",
   "execution_count": 150,
   "id": "854eca8e",
   "metadata": {},
   "outputs": [],
   "source": [
    "bin_arr_11 = np.array(bin_mat_11)"
   ]
  },
  {
   "cell_type": "code",
   "execution_count": 151,
   "id": "e1828f9a",
   "metadata": {},
   "outputs": [
    {
     "name": "stdout",
     "output_type": "stream",
     "text": [
      "13 s ± 48 ms per loop (mean ± std. dev. of 2 runs, 1 loop each)\n"
     ]
    }
   ],
   "source": [
    "%%timeit -r 2 -n 1\n",
    "create_counts_matrix_level1(bin_arr_11)"
   ]
  },
  {
   "cell_type": "code",
   "execution_count": 152,
   "id": "16371c5b",
   "metadata": {},
   "outputs": [
    {
     "data": {
      "text/plain": [
       "Timer unit: 1e-09 s\n",
       "\n",
       "Total time: 28.5326 s\n",
       "File: /var/folders/fr/xd48pkns7m1dqpzds0bm2vl80000gn/T/ipykernel_10640/377914284.py\n",
       "Function: create_counts_matrix_level1 at line 1\n",
       "\n",
       "Line #      Hits         Time  Per Hit   % Time  Line Contents\n",
       "==============================================================\n",
       "     1                                           def create_counts_matrix_level1(binMat):\n",
       "     2         1       1000.0   1000.0      0.0      nstates, n = binMat.shape\n",
       "     3         1     315000.0 315000.0      0.0      counts = np.zeros((nstates, nstates), dtype=np.int8)\n",
       "     4                                           \n",
       "     5      2049     414000.0    202.0      0.0      for i in range(nstates):\n",
       "     6   4196352  855929000.0    204.0      3.0          for j in range(nstates):\n",
       "     7   4194304 2923494000.0    697.0     10.2              prod = binMat[i,:]*binMat[j,:]\n",
       "     8   4194304     2.36e+10   5617.7     82.6              num_double_ones  = np.sum (prod == 1)\n",
       "     9   4194304 1190303000.0    283.8      4.2              counts[i, j] = num_double_ones\n",
       "    10         1       1000.0   1000.0      0.0      return counts"
      ]
     },
     "metadata": {},
     "output_type": "display_data"
    }
   ],
   "source": [
    "%lprun -f create_counts_matrix_level1 create_counts_matrix_level1(bin_arr_11)"
   ]
  },
  {
   "cell_type": "markdown",
   "id": "193d7a1e",
   "metadata": {},
   "source": [
    "### level 2: reduce calls + cleverness\n",
    "\n",
    "Calling numpy functions is VERY expensive!!\n",
    "We are calling a numpy function 2048*2048 times - this is not good!\n",
    "How do we reduce the number of function calls? What if we could remove that line from the for loop? "
   ]
  },
  {
   "cell_type": "code",
   "execution_count": 153,
   "id": "cdb35a34",
   "metadata": {},
   "outputs": [],
   "source": [
    "def create_counts_matrix_level2(binMat):\n",
    "    nstates, n = binMat.shape\n",
    "    counts = np.zeros((nstates, nstates), dtype=np.int8)\n",
    "\n",
    "    for i in range (nstates):\n",
    "        temp_prod = np.zeros_like(binMat)\n",
    "        for j in range(nstates):\n",
    "            temp_prod[j, :] = binMat[i,:]*binMat[j,:]\n",
    "        num_double_ones  = np.sum(temp_prod == 1, axis=1)\n",
    "        counts[i, :] = num_double_ones\n",
    "    return counts"
   ]
  },
  {
   "cell_type": "code",
   "execution_count": 154,
   "id": "affa77fc",
   "metadata": {},
   "outputs": [
    {
     "name": "stdout",
     "output_type": "stream",
     "text": [
      "2.56 s ± 9 ms per loop (mean ± std. dev. of 3 runs, 2 loops each)\n"
     ]
    }
   ],
   "source": [
    "%%timeit -r 3 -n 2\n",
    "create_counts_matrix_level2(bin_arr_11)"
   ]
  },
  {
   "cell_type": "code",
   "execution_count": 155,
   "id": "f7db1626",
   "metadata": {},
   "outputs": [
    {
     "data": {
      "text/plain": [
       "Timer unit: 1e-09 s\n",
       "\n",
       "Total time: 4.33593 s\n",
       "File: /var/folders/fr/xd48pkns7m1dqpzds0bm2vl80000gn/T/ipykernel_10640/4177989341.py\n",
       "Function: create_counts_matrix_level2 at line 1\n",
       "\n",
       "Line #      Hits         Time  Per Hit   % Time  Line Contents\n",
       "==============================================================\n",
       "     1                                           def create_counts_matrix_level2(binMat):\n",
       "     2         1       1000.0   1000.0      0.0      nstates, n = binMat.shape\n",
       "     3         1     427000.0 427000.0      0.0      counts = np.zeros((nstates, nstates), dtype=np.int8)\n",
       "     4                                           \n",
       "     5      2049     427000.0    208.4      0.0      for i in range (nstates):\n",
       "     6      2048   15541000.0   7588.4      0.4          temp_prod = np.zeros_like(binMat)\n",
       "     7   4196352  844666000.0    201.3     19.5          for j in range(nstates):\n",
       "     8   4194304 3398529000.0    810.3     78.4              temp_prod[j, :] = binMat[i,:]*binMat[j,:]\n",
       "     9      2048   74562000.0  36407.2      1.7          num_double_ones  = np.sum(temp_prod == 1, axis=1)\n",
       "    10      2048    1771000.0    864.7      0.0          counts[i, :] = num_double_ones\n",
       "    11         1       1000.0   1000.0      0.0      return counts"
      ]
     },
     "metadata": {},
     "output_type": "display_data"
    }
   ],
   "source": [
    "%lprun -f create_counts_matrix_level2 create_counts_matrix_level2(bin_arr_11)"
   ]
  },
  {
   "cell_type": "code",
   "execution_count": 156,
   "id": "eac221c3",
   "metadata": {},
   "outputs": [],
   "source": [
    "def create_counts_matrix_level2_2(binMat):\n",
    "    nstates, n = binMat.shape\n",
    "    counts = np.zeros((nstates, nstates), dtype=np.int8)\n",
    "\n",
    "    for i in range (nstates) :\n",
    "        plus = binMat[i,:]*binMat #broadcasting!!\n",
    "        num_double_ones  = np.sum(plus == 1, axis=1)\n",
    "        counts[i, :] = num_double_ones\n",
    "    return counts"
   ]
  },
  {
   "cell_type": "code",
   "execution_count": 157,
   "id": "9bfbf16c",
   "metadata": {},
   "outputs": [
    {
     "name": "stdout",
     "output_type": "stream",
     "text": [
      "89.6 ms ± 16.6 ms per loop (mean ± std. dev. of 7 runs, 10 loops each)\n"
     ]
    }
   ],
   "source": [
    "%%timeit -n 10\n",
    "create_counts_matrix_level2_2(bin_arr_11)"
   ]
  },
  {
   "cell_type": "code",
   "execution_count": 158,
   "id": "1b8560e8",
   "metadata": {},
   "outputs": [
    {
     "data": {
      "text/plain": [
       "Timer unit: 1e-09 s\n",
       "\n",
       "Total time: 0.128524 s\n",
       "File: /var/folders/fr/xd48pkns7m1dqpzds0bm2vl80000gn/T/ipykernel_10640/2143965526.py\n",
       "Function: create_counts_matrix_level2_2 at line 1\n",
       "\n",
       "Line #      Hits         Time  Per Hit   % Time  Line Contents\n",
       "==============================================================\n",
       "     1                                           def create_counts_matrix_level2_2(binMat):\n",
       "     2         1       1000.0   1000.0      0.0      nstates, n = binMat.shape\n",
       "     3         1     206000.0 206000.0      0.2      counts = np.zeros((nstates, nstates), dtype=np.int8)\n",
       "     4                                           \n",
       "     5      2049     421000.0    205.5      0.3      for i in range (nstates) :\n",
       "     6      2048   29427000.0  14368.7     22.9          plus = binMat[i,:]*binMat #broadcasting!!\n",
       "     7      2048   96750000.0  47241.2     75.3          num_double_ones  = np.sum(plus == 1, axis=1)\n",
       "     8      2048    1719000.0    839.4      1.3          counts[i, :] = num_double_ones\n",
       "     9         1          0.0      0.0      0.0      return counts"
      ]
     },
     "metadata": {},
     "output_type": "display_data"
    }
   ],
   "source": [
    "%lprun -f create_counts_matrix_level2_2 create_counts_matrix_level2_2(bin_arr_11)"
   ]
  },
  {
   "cell_type": "code",
   "execution_count": 159,
   "id": "455cccd4",
   "metadata": {},
   "outputs": [],
   "source": [
    "def create_counts_matrix_level2_3(binMat):\n",
    "    return np.einsum(\"ij, kj -> ik\", binMat, binMat)"
   ]
  },
  {
   "cell_type": "code",
   "execution_count": 160,
   "id": "4f7a9b53",
   "metadata": {},
   "outputs": [
    {
     "data": {
      "text/plain": [
       "True"
      ]
     },
     "execution_count": 160,
     "metadata": {},
     "output_type": "execute_result"
    }
   ],
   "source": [
    "np.all(create_counts_matrix_level2_3(bin_mat_11) == create_counts_matrix_level2_2(bin_arr_11))"
   ]
  },
  {
   "cell_type": "code",
   "execution_count": 161,
   "id": "acaa3f3d",
   "metadata": {},
   "outputs": [
    {
     "name": "stdout",
     "output_type": "stream",
     "text": [
      "20.4 ms ± 388 μs per loop (mean ± std. dev. of 7 runs, 50 loops each)\n"
     ]
    }
   ],
   "source": [
    "%%timeit -n 50\n",
    "create_counts_matrix_level2_3(bin_arr_11)"
   ]
  },
  {
   "cell_type": "code",
   "execution_count": 162,
   "id": "3d4631d4-48aa-4686-b5d3-7578cfaba83e",
   "metadata": {},
   "outputs": [
    {
     "data": {
      "text/plain": [
       "Timer unit: 1e-09 s\n",
       "\n",
       "Total time: 0.021041 s\n",
       "File: /var/folders/fr/xd48pkns7m1dqpzds0bm2vl80000gn/T/ipykernel_10640/4215511792.py\n",
       "Function: create_counts_matrix_level2_3 at line 1\n",
       "\n",
       "Line #      Hits         Time  Per Hit   % Time  Line Contents\n",
       "==============================================================\n",
       "     1                                           def create_counts_matrix_level2_3(binMat):\n",
       "     2         1   21041000.0  2.1e+07    100.0      return np.einsum(\"ij, kj -> ik\", binMat, binMat)"
      ]
     },
     "metadata": {},
     "output_type": "display_data"
    }
   ],
   "source": [
    "%lprun -f create_counts_matrix_level2_3 create_counts_matrix_level2_3(bin_arr_11)"
   ]
  },
  {
   "cell_type": "markdown",
   "id": "38cf0bed",
   "metadata": {},
   "source": [
    "### level 3: praise Numba\n",
    "\n",
    "numba is straight up black magic\n",
    "\n",
    "like all good black magic, it's a bit finnicky:\n",
    "- don't use numba for certain stuff (non-numerical data, randomness)\n",
    "- doesn't produce even remotely useful error messages."
   ]
  },
  {
   "cell_type": "code",
   "execution_count": 163,
   "id": "5e244c95",
   "metadata": {},
   "outputs": [],
   "source": [
    "from numba import njit"
   ]
  },
  {
   "cell_type": "code",
   "execution_count": 164,
   "id": "82b44cab",
   "metadata": {},
   "outputs": [],
   "source": [
    "def create_counts_matrix_purepython(binMat):\n",
    "    nstates, n = binMat.shape\n",
    "    counts = []\n",
    "    for i in range (nstates):\n",
    "        counts.append([])\n",
    "        for j in range(nstates):\n",
    "            cell_val = 0\n",
    "            for row_idx in range(n):\n",
    "                if binMat[i, row_idx] == 1 and binMat[j, row_idx] == 1:\n",
    "                    cell_val += 1\n",
    "            counts[i].append(cell_val)\n",
    "    return counts"
   ]
  },
  {
   "cell_type": "code",
   "execution_count": 165,
   "id": "50eca9fd",
   "metadata": {},
   "outputs": [],
   "source": [
    "@njit(cache=True)\n",
    "def create_counts_matrix_numba(binMat):\n",
    "    nstates, n = binMat.shape\n",
    "    counts = np.zeros((nstates, nstates), dtype=np.int8)\n",
    "\n",
    "    for i in range (nstates) :\n",
    "        for j in range(nstates):\n",
    "            cell_val = 0\n",
    "            for row_idx in range(n):\n",
    "                if binMat[i, row_idx] == 1 and binMat[j, row_idx] == 1:\n",
    "                    cell_val += 1\n",
    "            counts[i, j] = cell_val\n",
    "    return counts"
   ]
  },
  {
   "cell_type": "code",
   "execution_count": 166,
   "id": "07a3a8cf",
   "metadata": {},
   "outputs": [],
   "source": [
    "_ = create_counts_matrix_numba(bin_arr_11)"
   ]
  },
  {
   "cell_type": "code",
   "execution_count": 167,
   "id": "d1a63ad1",
   "metadata": {},
   "outputs": [
    {
     "name": "stdout",
     "output_type": "stream",
     "text": [
      "28.4 ms ± 306 μs per loop (mean ± std. dev. of 7 runs, 50 loops each)\n"
     ]
    }
   ],
   "source": [
    "%%timeit -n 50\n",
    "create_counts_matrix_numba(bin_arr_11)"
   ]
  },
  {
   "cell_type": "code",
   "execution_count": 168,
   "id": "0ee2143f",
   "metadata": {},
   "outputs": [
    {
     "name": "stderr",
     "output_type": "stream",
     "text": [
      "/Users/adamfine/miniconda3/lib/python3.12/site-packages/line_profiler/ipython_extension.py:97: UserWarning: Adding a function with a `.__wrapped__` attribute. You may want to profile the wrapped function by adding `create_counts_matrix_numba.__wrapped__` instead.\n",
      "  profile = LineProfiler(*funcs)\n"
     ]
    },
    {
     "data": {
      "text/plain": [
       "Timer unit: 1e-09 s\n",
       "\n",
       "Total time: 0 s\n",
       "File: /var/folders/fr/xd48pkns7m1dqpzds0bm2vl80000gn/T/ipykernel_10640/1808351567.py\n",
       "Function: create_counts_matrix_numba at line 1\n",
       "\n",
       "Line #      Hits         Time  Per Hit   % Time  Line Contents\n",
       "==============================================================\n",
       "     1                                           @njit(cache=True)\n",
       "     2                                           def create_counts_matrix_numba(binMat):\n",
       "     3                                               nstates, n = binMat.shape\n",
       "     4                                               counts = np.zeros((nstates, nstates), dtype=np.int8)\n",
       "     5                                           \n",
       "     6                                               for i in range (nstates) :\n",
       "     7                                                   for j in range(nstates):\n",
       "     8                                                       cell_val = 0\n",
       "     9                                                       for row_idx in range(n):\n",
       "    10                                                           if binMat[i, row_idx] == 1 and binMat[j, row_idx] == 1:\n",
       "    11                                                               cell_val += 1\n",
       "    12                                                       counts[i, j] = cell_val\n",
       "    13                                               return counts"
      ]
     },
     "metadata": {},
     "output_type": "display_data"
    }
   ],
   "source": [
    "%lprun -f create_counts_matrix_numba create_counts_matrix_numba(bin_arr_11)"
   ]
  },
  {
   "cell_type": "code",
   "execution_count": 169,
   "id": "12cc7e26",
   "metadata": {},
   "outputs": [],
   "source": [
    "@njit(cache=True)\n",
    "def create_counts_matrix_numba_2(binMat):\n",
    "    nstates, n = binMat.shape\n",
    "    counts = np.zeros((nstates, nstates), dtype=np.int8)\n",
    "    for i in range (nstates) :\n",
    "        for j in range(i, nstates):\n",
    "            cell_val = 0\n",
    "            for row_idx in range(n):\n",
    "                if binMat[i, row_idx] == 1 and binMat[j, row_idx] == 1:\n",
    "                    cell_val += 1\n",
    "            counts[j, i] = counts[i, j] = cell_val\n",
    "    return counts"
   ]
  },
  {
   "cell_type": "code",
   "execution_count": 170,
   "id": "03e4f4e0",
   "metadata": {},
   "outputs": [],
   "source": [
    "_ = create_counts_matrix_numba_2(bin_arr_11)"
   ]
  },
  {
   "cell_type": "code",
   "execution_count": 171,
   "id": "54c33bdd",
   "metadata": {},
   "outputs": [
    {
     "name": "stdout",
     "output_type": "stream",
     "text": [
      "15.2 ms ± 234 μs per loop (mean ± std. dev. of 7 runs, 50 loops each)\n"
     ]
    }
   ],
   "source": [
    "%%timeit -n 50\n",
    "create_counts_matrix_numba_2(bin_arr_11)"
   ]
  },
  {
   "cell_type": "code",
   "execution_count": 172,
   "id": "5afdf17b",
   "metadata": {},
   "outputs": [],
   "source": [
    "@njit(cache=True)\n",
    "def create_counts_matrix_numba_3(binMat):\n",
    "    nstates, n = binMat.shape\n",
    "    counts = np.zeros((nstates, nstates), dtype=np.int8)\n",
    "    for i in range (nstates) :\n",
    "        for j in range(i, nstates):\n",
    "            cell_val = 0\n",
    "            for row_idx in range(n):\n",
    "                if binMat[i, row_idx]*binMat[j, row_idx] == 1:\n",
    "                    cell_val += 1\n",
    "            counts[j, i] = counts[i, j] = cell_val\n",
    "    return counts"
   ]
  },
  {
   "cell_type": "code",
   "execution_count": 175,
   "id": "dde7ec59",
   "metadata": {},
   "outputs": [
    {
     "data": {
      "text/plain": [
       "array([[ 0,  0,  0, ...,  0,  0,  0],\n",
       "       [ 0,  1,  0, ...,  1,  0,  1],\n",
       "       [ 0,  0,  1, ...,  0,  1,  1],\n",
       "       ...,\n",
       "       [ 0,  1,  0, ..., 10,  9, 10],\n",
       "       [ 0,  0,  1, ...,  9, 10, 10],\n",
       "       [ 0,  1,  1, ..., 10, 10, 11]], dtype=int8)"
      ]
     },
     "execution_count": 175,
     "metadata": {},
     "output_type": "execute_result"
    }
   ],
   "source": [
    "create_counts_matrix_numba_3(bin_arr_11)"
   ]
  },
  {
   "cell_type": "code",
   "execution_count": 174,
   "id": "00e5cc9b",
   "metadata": {},
   "outputs": [
    {
     "name": "stdout",
     "output_type": "stream",
     "text": [
      "7.61 ms ± 193 μs per loop (mean ± std. dev. of 7 runs, 50 loops each)\n"
     ]
    }
   ],
   "source": [
    "%%timeit -n 50\n",
    "create_counts_matrix_numba_3(bin_arr_11)"
   ]
  },
  {
   "cell_type": "markdown",
   "id": "fdfbe79f",
   "metadata": {},
   "source": [
    "#### what have we learned\n",
    "\n",
    "- <h4>write code that works first!</h4>\n",
    "- if it's slow, use a profiler (e.g. line_profiler, cProfile + snakeviz) to figure out how slow it is and where it's slow\n",
    "- vectorize, rewrite to minimize function calls, @njit"
   ]
  }
 ],
 "metadata": {
  "kernelspec": {
   "display_name": "Python 3 (ipykernel)",
   "language": "python",
   "name": "python3"
  },
  "language_info": {
   "codemirror_mode": {
    "name": "ipython",
    "version": 3
   },
   "file_extension": ".py",
   "mimetype": "text/x-python",
   "name": "python",
   "nbconvert_exporter": "python",
   "pygments_lexer": "ipython3",
   "version": "3.12.2"
  }
 },
 "nbformat": 4,
 "nbformat_minor": 5
}
