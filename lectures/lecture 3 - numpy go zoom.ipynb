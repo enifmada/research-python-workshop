{
 "cells": [
  {
   "cell_type": "markdown",
   "id": "d4883f47",
   "metadata": {},
   "source": [
    "## Lecture 3 - making code go fast feat. NumPy"
   ]
  },
  {
   "cell_type": "markdown",
   "id": "5b93a1c3",
   "metadata": {},
   "source": [
    "### Intro to Numpy\n",
    "\n",
    "Numpy is built around the **ndarray**, which you can think of as a matrix of arbitrary dimension.\n",
    "\n",
    "![ndarray instantiation](https://miro.medium.com/v2/resize:fit:1200/1*sxnhgeSptW8Jfol8XUyP-Q.png)"
   ]
  },
  {
   "cell_type": "code",
   "execution_count": null,
   "id": "946ffbfb",
   "metadata": {},
   "outputs": [],
   "source": [
    "import numpy as np"
   ]
  },
  {
   "cell_type": "markdown",
   "id": "7663f0ed",
   "metadata": {},
   "source": [
    "Most common ways of instantiating numpy arrays:\n",
    "- np.array(list)\n",
    "- np.zeros((shape object))\n",
    "- np.arange(start, stop, step)\n",
    "    \n",
    "Properties of arrays:\n",
    "- array.shape: returns a tuple with the relevant information. E.g. generate_binary_numbers(5).shape = (32, 5)\n",
    "- array.ndim: len(array.shape).\n",
    "- array.size: np.product(array.shape)"
   ]
  },
  {
   "cell_type": "markdown",
   "id": "2e1316b5",
   "metadata": {},
   "source": [
    "#### Accessing elements of arrays: array slicing\n",
    "\n",
    "Basic slicing works the same way as on Python lists, just across multiple dimensions, potentially. For example:"
   ]
  },
  {
   "cell_type": "code",
   "execution_count": null,
   "id": "eb643212",
   "metadata": {},
   "outputs": [],
   "source": [
    "a = np.arange(25).reshape(5,5)\n",
    "print(a)"
   ]
  },
  {
   "cell_type": "code",
   "execution_count": null,
   "id": "1304af54",
   "metadata": {},
   "outputs": [],
   "source": [
    "a[1:4, 0:2]"
   ]
  },
  {
   "cell_type": "markdown",
   "id": "bbd3a51f",
   "metadata": {},
   "source": [
    "###### mini-exercises (3 hands)\n",
    "\n",
    "What is the output of a[3:, :3]?\n",
    "\n",
    "How about a[2:4, 1::2]?"
   ]
  },
  {
   "cell_type": "markdown",
   "id": "49e4640f",
   "metadata": {},
   "source": [
    "#### advanced indexing\n",
    "\n",
    "Numpy is much cooler than base Python. Specifically, you can index a numpy array with *a numpy array*. This is called \"advanced indexing\". A simple example:"
   ]
  },
  {
   "cell_type": "code",
   "execution_count": null,
   "id": "aca98631",
   "metadata": {},
   "outputs": [],
   "source": [
    "zip_code_index = np.array([6,0,6,3,7])\n",
    "b = np.arange(30)**2\n",
    "print(b)"
   ]
  },
  {
   "cell_type": "markdown",
   "id": "64ba1270",
   "metadata": {},
   "source": [
    "What do I get here? (3 hands)"
   ]
  },
  {
   "cell_type": "code",
   "execution_count": null,
   "id": "729ea74e",
   "metadata": {},
   "outputs": [],
   "source": [
    "b[zip_code_index]"
   ]
  },
  {
   "cell_type": "markdown",
   "id": "8601614e",
   "metadata": {},
   "source": [
    "This can get somewhat wild - what do I get as the output of these two cells?"
   ]
  },
  {
   "cell_type": "code",
   "execution_count": null,
   "id": "d7853800",
   "metadata": {},
   "outputs": [],
   "source": [
    "b[a]"
   ]
  },
  {
   "cell_type": "code",
   "execution_count": null,
   "id": "21bd5dc7",
   "metadata": {},
   "outputs": [],
   "source": [
    "a[b[:3]]"
   ]
  },
  {
   "cell_type": "markdown",
   "id": "cfc33391",
   "metadata": {},
   "source": [
    "Note that even though b is a one dimensional array, we can slice it two-dimensionally!!"
   ]
  },
  {
   "cell_type": "markdown",
   "id": "0fdbbefe",
   "metadata": {},
   "source": [
    "##### Advanced slicing: use case\n",
    "\n",
    "Boolean arrays can be easily generated in numpy:"
   ]
  },
  {
   "cell_type": "code",
   "execution_count": null,
   "id": "66648f7a",
   "metadata": {},
   "outputs": [],
   "source": [
    "a > 12"
   ]
  },
  {
   "cell_type": "markdown",
   "id": "bddb71f4",
   "metadata": {},
   "source": [
    "and can be used to index arrays (most commonly the array itself):"
   ]
  },
  {
   "cell_type": "code",
   "execution_count": null,
   "id": "94bbbd9c",
   "metadata": {},
   "outputs": [],
   "source": [
    "a[a > 12] = 100\n",
    "a"
   ]
  },
  {
   "cell_type": "markdown",
   "id": "948186f3",
   "metadata": {},
   "source": [
    "Operations on arrays\n",
    "\n",
    "We just saw one example - we set some values in an array to an integer. Other examples:"
   ]
  },
  {
   "cell_type": "code",
   "execution_count": null,
   "id": "7b2493a8",
   "metadata": {},
   "outputs": [],
   "source": [
    "c = np.repeat(np.arange(5),5).reshape(5,5)\n",
    "c"
   ]
  },
  {
   "cell_type": "code",
   "execution_count": null,
   "id": "9920790d",
   "metadata": {},
   "outputs": [],
   "source": [
    "a"
   ]
  },
  {
   "cell_type": "code",
   "execution_count": null,
   "id": "08c623d7",
   "metadata": {},
   "outputs": [],
   "source": [
    "a * c"
   ]
  },
  {
   "cell_type": "code",
   "execution_count": null,
   "id": "ae30b96b",
   "metadata": {},
   "outputs": [],
   "source": [
    "a + c"
   ]
  },
  {
   "cell_type": "markdown",
   "id": "b30275e1",
   "metadata": {},
   "source": [
    "Operations are *all* element-wise unless otherwise specified (e.g. for \"normal\" matrix multiplication, use @). Because things are elementwise, arrays of the same shape can be operated on as you would expect. But what about something like"
   ]
  },
  {
   "cell_type": "code",
   "execution_count": null,
   "id": "df936bb8",
   "metadata": {},
   "outputs": [],
   "source": [
    "a + c[:, 0]"
   ]
  },
  {
   "cell_type": "markdown",
   "id": "bb8532d9",
   "metadata": {},
   "source": [
    "What happened here?"
   ]
  },
  {
   "cell_type": "markdown",
   "id": "3b81ccf0",
   "metadata": {},
   "source": [
    "#### Broadcasting\n",
    "\n",
    "Broadcasting is numpy's process of attempting to \"morph\" two arrays into having the same shape so that element-wise operations can be applied. (I thought this was more black magic and I just sort of... tried transposing arrays, reshaping things, etc. until something worked, until about two months ago. Now I more or less understand broadcasting, and it's actually pretty simple.)\n",
    "\n",
    "Broadcasting works as follows:\n",
    "\n",
    "Numpy _prepends_ arrays with dimensions of size 1 as necessary until they have the same number of dimensions, then compares dimensions starting from the rightmost element of a shape tuple, and deems two arrays compatible if, for each dimension:\n",
    "1. both arrays have the same size\n",
    "2. one (or both) arrays have size 1.\n",
    "\n",
    "For all dimensions with size 1, numpy will then \"stretch\" this dimension to make it have the same shape as non-1 sizes of the same dimension before doing the operation. Here is a picture depicting this process:\n",
    "\n",
    "![ndarray broadcasting](https://numpy.org/doc/stable/_images/broadcasting_2.png)\n",
    "\n",
    "As a numerical example, if you have matrices d with d.shape = (8,3,1,8) and e with e.shape = (3,5,1), d + e will not throw an error and will have shape (8,3,5,8).\n",
    "\n",
    "So, from the earlier code, a + c[:, 0] worked because a has shape (5,5) and c[:, 0] has shape (5,) -> (1,5), which can be broadcasted to (5,5)."
   ]
  },
  {
   "cell_type": "markdown",
   "id": "53b56774",
   "metadata": {},
   "source": [
    "###### mini exercises:\n",
    "\n",
    "For each of the following, determine whether the two arrays have compatible dimensions, and if they do, what the dimensions of the resulting array after a binary operation are.\n",
    "\n",
    "1. f.shape = (5,1,3,2), g.shape = (1,3)\n",
    "2. f.shape = (5,1,3,2), h.shape = (1,3,1)\n",
    "3. f.shape = (5,1,3,2), i.shape = (1,3,1,1)\n",
    "4. f.shape = (5,1,3,2), j.shape = (1,3,1,1,1)\n",
    "5. f.shape = (5,1,3,2), k.shape = (1,3,1,1,1,1)"
   ]
  },
  {
   "cell_type": "markdown",
   "id": "1ab8c8a6",
   "metadata": {},
   "source": [
    "Everything else in numpy is just functions. Numpy (+ scipy) has functions for everything you could ever want, seriously. As an example, I was calculating p-values by fitting points to a null distribution, and using the definition of a p-value as 1-cdf. Some of my p-values were very very small, so they were being returned as 0, which caused their log to be bad, etc. \n",
    "\n",
    "Turns out every (continuous) distribution in scipy.stats can return log(1-cdf) with more precision than manually computing the log of 1 minus the cdf. wild."
   ]
  },
  {
   "cell_type": "markdown",
   "id": "5de51c5b",
   "metadata": {},
   "source": [
    "Lastly, the axis keyword is important and a little confusing - basically applies a numpy function along a \"direction\":"
   ]
  },
  {
   "cell_type": "code",
   "execution_count": null,
   "id": "97b92c25",
   "metadata": {},
   "outputs": [],
   "source": [
    "d = np.arange(15).reshape(3,5)\n",
    "print(d)\n",
    "print(np.sum(d))\n",
    "print(np.sum(d, axis=0))\n",
    "print(np.sum(d, axis=1))"
   ]
  },
  {
   "cell_type": "markdown",
   "id": "0f2b9474",
   "metadata": {},
   "source": [
    "Oftentimes, you know what the shape of the resulting array you want is but not what axis that corresponds to - for example, you know you want to average something over time within 100 different experiments, is that axis=0? 1?\n",
    "My preferred way to remember this is that axis=i will delete the ith value from the shape.\n",
    "d.shape = (3,5) -> axis=0 makes the shape (5,), axis=1 makes the shape (3,)"
   ]
  },
  {
   "cell_type": "markdown",
   "id": "48029326",
   "metadata": {},
   "source": [
    "<center><h1>how to make the code fast</h1></center>\n",
    "\n",
    "<br/>"
   ]
  },
  {
   "cell_type": "markdown",
   "id": "31ba4d11",
   "metadata": {},
   "source": [
    "### The golden rule of code optimization\n",
    "\n",
    "<br/><br/><br/><br/><br/><br/><br/><br/><br/><br/><br/><br/><br/><br/><br/><br/><br/><br/>\n",
    "\n",
    "\n",
    "\n",
    "\n",
    "\n",
    "\n",
    "# DON'T DO IT\n",
    "\n",
    "\n",
    "<br/><br/>\n",
    "<br/><br/>\n",
    "<br/><br/>\n",
    "<br/><br/>\n",
    "<br/><br/>\n",
    "\n",
    "\n",
    "\n",
    "## yet\n",
    "\n",
    "\n",
    "\n",
    "\n",
    "\n",
    "### make sure your code does _exactly_ what you want and does so _correctly_ before even thinking about making it fast.\n",
    "\n",
    "### Then:\n",
    "- vectorize\n",
    "- reduce function calls + other cleverness\n",
    "- present an offering to our savior, Numba, and hope they smile favorably upon your code"
   ]
  },
  {
   "cell_type": "markdown",
   "id": "3cc22746",
   "metadata": {},
   "source": [
    "**working example**: an extension to HW 1 problem 3 - adapted from Maryn Carlson's code"
   ]
  },
  {
   "cell_type": "code",
   "execution_count": null,
   "id": "0c05c056",
   "metadata": {},
   "outputs": [],
   "source": [
    "import numpy as np\n",
    "def binary_digits(n):\n",
    "    if n == 1:\n",
    "        return [[0], [1]]\n",
    "    return [[*row, i] for row in binary_digits(n-1) for i in range(2)]"
   ]
  },
  {
   "cell_type": "code",
   "execution_count": null,
   "id": "ea14dbda",
   "metadata": {},
   "outputs": [],
   "source": [
    "bin_mat_small = binary_digits(3)\n",
    "bin_mat_small"
   ]
  },
  {
   "cell_type": "code",
   "execution_count": null,
   "id": "c8b76d83",
   "metadata": {},
   "outputs": [],
   "source": [
    "bin_mat_10 = binary_digits(10)"
   ]
  },
  {
   "cell_type": "markdown",
   "id": "3f60fb6f",
   "metadata": {},
   "source": [
    "Problem: count the number of values that equal 1 in both row i and j of a binary matrix."
   ]
  },
  {
   "cell_type": "code",
   "execution_count": null,
   "id": "1ec44447",
   "metadata": {},
   "outputs": [],
   "source": [
    "def create_counts_matrix_purepython(binMat):\n",
    "    nstates = len(binMat)\n",
    "    n = len(binMat[0])\n",
    "    counts = []\n",
    "\n",
    "    for i in range (nstates):\n",
    "        counts.append([])\n",
    "        for j in range(nstates):\n",
    "            cell_val = 0\n",
    "            for row_idx in range(n):\n",
    "                if binMat[i][row_idx] == 1 and binMat[j][row_idx] == 1:\n",
    "                    cell_val += 1\n",
    "            counts[i].append(cell_val)\n",
    "    return counts"
   ]
  },
  {
   "cell_type": "code",
   "execution_count": null,
   "id": "7f767182",
   "metadata": {},
   "outputs": [],
   "source": [
    "create_counts_matrix_purepython(bin_mat_small)"
   ]
  },
  {
   "cell_type": "code",
   "execution_count": null,
   "id": "5db50112",
   "metadata": {},
   "outputs": [],
   "source": [
    "test_result = create_counts_matrix_purepython(bin_mat_10)"
   ]
  },
  {
   "cell_type": "markdown",
   "id": "f3a9ea24",
   "metadata": {},
   "source": [
    "### profiling - \"this took a while, but how long, exactly?\""
   ]
  },
  {
   "cell_type": "code",
   "execution_count": null,
   "id": "77e01435",
   "metadata": {},
   "outputs": [],
   "source": [
    "%%timeit -r 3 -n 3\n",
    "create_counts_matrix_purepython(bin_mat_10)"
   ]
  },
  {
   "cell_type": "markdown",
   "id": "eecde4af",
   "metadata": {},
   "source": [
    "##### tqdm aside:"
   ]
  },
  {
   "cell_type": "code",
   "execution_count": null,
   "id": "6f8b80d6",
   "metadata": {},
   "outputs": [],
   "source": [
    "from tqdm.notebook import tqdm\n",
    "def create_counts_matrix_tqdm(binMat):\n",
    "    nstates = len(binMat)\n",
    "    n = len(binMat[0])\n",
    "    counts = []\n",
    "\n",
    "    for i in tqdm(range(nstates)):\n",
    "        counts.append([])\n",
    "        for j in range(nstates):\n",
    "            cell_val = 0\n",
    "            for row_idx in range(n):\n",
    "                if binMat[i][row_idx] == 1 and binMat[j][row_idx] == 1:\n",
    "                    cell_val += 1\n",
    "            counts[i].append(cell_val)\n",
    "    return counts"
   ]
  },
  {
   "cell_type": "code",
   "execution_count": null,
   "id": "5716eacd",
   "metadata": {},
   "outputs": [],
   "source": [
    "_ = create_counts_matrix_tqdm(bin_mat_10)"
   ]
  },
  {
   "cell_type": "code",
   "execution_count": null,
   "id": "d080dc3e",
   "metadata": {},
   "outputs": [],
   "source": [
    "%load_ext line_profiler"
   ]
  },
  {
   "cell_type": "code",
   "execution_count": null,
   "id": "08bea90e",
   "metadata": {},
   "outputs": [],
   "source": [
    "%lprun -f create_counts_matrix_purepython create_counts_matrix_purepython(bin_mat_10)"
   ]
  },
  {
   "cell_type": "markdown",
   "id": "2dfd5bcb",
   "metadata": {},
   "source": [
    "alternatives: cProfile + snakeviz (*show plot*), scalene (I can't read it but it's apparently good)\n",
    "https://coderzcolumn.com/tutorials/python/snakeviz-visualize-profiling-results-in-python is a good intro to snakeviz"
   ]
  },
  {
   "cell_type": "markdown",
   "id": "bb3ff3a4",
   "metadata": {},
   "source": [
    "### level 1: vectorization\n",
    "\n",
    "Vectorization just means converting for loops to numpy operations. As a quick example, the formula for the allele frequency in the n+1st generation under selection is $$p' = p + sp(1-p)/2$$. Two ways to compute a vector of allele frequencies in generation n+1 given a vector of allele frequencies in generation n and a selection coefficient are:"
   ]
  },
  {
   "cell_type": "code",
   "execution_count": null,
   "id": "3823a589",
   "metadata": {},
   "outputs": [],
   "source": [
    "import numpy as np\n",
    "p = np.random(size=100)\n",
    "s = 0.01\n",
    "p_prime = np.zeros_like(p)\n",
    "for i in range(p.shape[0]):\n",
    "    p_prime[i] = p[i] + s*p[i]*(1-p[i])\n",
    "    \n",
    "    \n",
    "p_prime = p + s*p*(1-p)"
   ]
  },
  {
   "cell_type": "markdown",
   "id": "034e5b40",
   "metadata": {},
   "source": [
    "The second is faster, easier to understand, and closer to the formula above in appearance.\n",
    "\n",
    "Now, let's apply this to create_counts_matrix:"
   ]
  },
  {
   "cell_type": "code",
   "execution_count": null,
   "id": "142d0d4f",
   "metadata": {},
   "outputs": [],
   "source": [
    "def create_counts_matrix_purepython(binMat):\n",
    "    nstates = len(binMat)\n",
    "    n = len(binMat[0])\n",
    "    counts = []\n",
    "\n",
    "    for i in range (nstates):\n",
    "        counts.append([])\n",
    "        for j in range(nstates):\n",
    "            cell_val = 0\n",
    "            for row_idx in range(n):\n",
    "                if binMat[i][row_idx] == 1 and binMat[j][row_idx] == 1:\n",
    "                    cell_val += 1\n",
    "            counts[i].append(cell_val)\n",
    "    return counts"
   ]
  },
  {
   "cell_type": "code",
   "execution_count": null,
   "id": "0445fa65",
   "metadata": {},
   "outputs": [],
   "source": [
    "def create_counts_matrix_level1(binMat):\n",
    "    nstates, n = binMat.shape\n",
    "    counts = np.zeros((nstates, nstates), dtype=np.int8)\n",
    "\n",
    "    for i in range(nstates):\n",
    "        for j in range(nstates):\n",
    "            prod = binMat[i,:]*binMat[j,:]\n",
    "            nThrees  = np.sum (prod == 1)\n",
    "            counts[i, j] = nThrees\n",
    "    return counts"
   ]
  },
  {
   "cell_type": "code",
   "execution_count": null,
   "id": "854eca8e",
   "metadata": {},
   "outputs": [],
   "source": [
    "bin_arr_10 = np.array(bin_mat_10)"
   ]
  },
  {
   "cell_type": "code",
   "execution_count": null,
   "id": "e1828f9a",
   "metadata": {},
   "outputs": [],
   "source": [
    "%%timeit -r 2 -n 1\n",
    "create_counts_matrix_level1(bin_arr_10)"
   ]
  },
  {
   "cell_type": "code",
   "execution_count": null,
   "id": "16371c5b",
   "metadata": {},
   "outputs": [],
   "source": [
    "%lprun -f create_counts_matrix_level1 create_counts_matrix_level1(bin_arr_10)"
   ]
  },
  {
   "cell_type": "markdown",
   "id": "193d7a1e",
   "metadata": {},
   "source": [
    "### level 2: reduce calls + cleverness\n",
    "\n",
    "how do we deal with that gosh darn for loop??"
   ]
  },
  {
   "cell_type": "code",
   "execution_count": null,
   "id": "cdb35a34",
   "metadata": {},
   "outputs": [],
   "source": [
    "def create_counts_matrix_level2(binMat):\n",
    "    nstates, n = binMat.shape\n",
    "    counts = np.zeros((nstates, nstates), dtype=np.int8)\n",
    "\n",
    "    for i in range (nstates):\n",
    "        temp_prod = np.zeros_like(binMat)\n",
    "        for j in range(nstates):\n",
    "            temp_prod[j, :] = binMat[i,:]*binMat[j,:]\n",
    "        nThrees  = np.sum(temp_prod == 1, axis=1)\n",
    "        counts[i, :] = nThrees\n",
    "    return counts"
   ]
  },
  {
   "cell_type": "code",
   "execution_count": null,
   "id": "affa77fc",
   "metadata": {},
   "outputs": [],
   "source": [
    "%%timeit -r 3 -n 2\n",
    "create_counts_matrix_level2(bin_arr_10)"
   ]
  },
  {
   "cell_type": "code",
   "execution_count": null,
   "id": "f7db1626",
   "metadata": {},
   "outputs": [],
   "source": [
    "%lprun -f create_counts_matrix_level2 create_counts_matrix_level2(bin_arr_10)"
   ]
  },
  {
   "cell_type": "code",
   "execution_count": null,
   "id": "eac221c3",
   "metadata": {},
   "outputs": [],
   "source": [
    "def create_counts_matrix_level2_2(binMat):\n",
    "    nstates, n = binMat.shape\n",
    "    counts = np.zeros((nstates, nstates), dtype=np.int8)\n",
    "\n",
    "    for i in range (nstates) :\n",
    "        plus = binMat[i,:]*binMat #broadcasting!!\n",
    "        nThrees  = np.sum(plus == 1, axis=1)\n",
    "        counts[i, :] = nThrees\n",
    "    return counts"
   ]
  },
  {
   "cell_type": "code",
   "execution_count": null,
   "id": "9bfbf16c",
   "metadata": {},
   "outputs": [],
   "source": [
    "%%timeit -n 10\n",
    "create_counts_matrix_level2_2(bin_arr_10)"
   ]
  },
  {
   "cell_type": "code",
   "execution_count": null,
   "id": "1b8560e8",
   "metadata": {},
   "outputs": [],
   "source": [
    "%lprun -f create_counts_matrix_level2_2 create_counts_matrix_level2_2(bin_arr_10)"
   ]
  },
  {
   "cell_type": "code",
   "execution_count": null,
   "id": "455cccd4",
   "metadata": {},
   "outputs": [],
   "source": [
    "def create_counts_matrix_level2_3(binMat):\n",
    "    return np.einsum(\"ij, kj -> ik\", binMat, binMat)"
   ]
  },
  {
   "cell_type": "code",
   "execution_count": null,
   "id": "4f7a9b53",
   "metadata": {},
   "outputs": [],
   "source": [
    "np.all(create_counts_matrix_level2_3(bin_mat_10) == create_counts_matrix_level2_2(bin_arr_10))"
   ]
  },
  {
   "cell_type": "code",
   "execution_count": null,
   "id": "acaa3f3d",
   "metadata": {},
   "outputs": [],
   "source": [
    "%%timeit -n 50\n",
    "create_counts_matrix_level2_3(bin_arr_10)"
   ]
  },
  {
   "cell_type": "markdown",
   "id": "38cf0bed",
   "metadata": {},
   "source": [
    "### level 3: praise Numba\n",
    "\n",
    "numba is straight up black magic\n",
    "\n",
    "like all good black magic, it's a bit finnicky:\n",
    "- don't use numba for certain stuff (non-numerical data, randomness)\n",
    "- doesn't produce even remotely useful error messages."
   ]
  },
  {
   "cell_type": "code",
   "execution_count": null,
   "id": "5e244c95",
   "metadata": {},
   "outputs": [],
   "source": [
    "from numba import njit"
   ]
  },
  {
   "cell_type": "code",
   "execution_count": null,
   "id": "82b44cab",
   "metadata": {},
   "outputs": [],
   "source": [
    "def create_counts_matrix_purepython(binMat):\n",
    "    nstates, n = binMat.shape\n",
    "    counts = []\n",
    "    for i in range (nstates):\n",
    "        counts.append([])\n",
    "        for j in range(nstates):\n",
    "            cell_val = 0\n",
    "            for row_idx in range(n):\n",
    "                if binMat[i, row_idx] == 1 and binMat[j, row_idx] == 1:\n",
    "                    cell_val += 1\n",
    "            counts[i].append(cell_val)\n",
    "    return counts"
   ]
  },
  {
   "cell_type": "code",
   "execution_count": null,
   "id": "50eca9fd",
   "metadata": {},
   "outputs": [],
   "source": [
    "@njit(cache=True)\n",
    "def create_counts_matrix_numba(binMat):\n",
    "    nstates, n = binMat.shape\n",
    "    counts = np.zeros((nstates, nstates), dtype=np.int8)\n",
    "\n",
    "    for i in range (nstates) :\n",
    "        for j in range(nstates):\n",
    "            cell_val = 0\n",
    "            for row_idx in range(n):\n",
    "                if binMat[i, row_idx] == 1 and binMat[j, row_idx] == 1:\n",
    "                    cell_val += 1\n",
    "            counts[i, j] = cell_val\n",
    "    return counts"
   ]
  },
  {
   "cell_type": "code",
   "execution_count": null,
   "id": "07a3a8cf",
   "metadata": {},
   "outputs": [],
   "source": [
    "_ = create_counts_matrix_numba(bin_arr_10)"
   ]
  },
  {
   "cell_type": "code",
   "execution_count": null,
   "id": "d1a63ad1",
   "metadata": {},
   "outputs": [],
   "source": [
    "%%timeit -n 50\n",
    "create_counts_matrix_numba(bin_arr_10)"
   ]
  },
  {
   "cell_type": "code",
   "execution_count": null,
   "id": "0ee2143f",
   "metadata": {},
   "outputs": [],
   "source": [
    "%lprun -f create_counts_matrix_numba create_counts_matrix_numba(bin_arr_10)"
   ]
  },
  {
   "cell_type": "code",
   "execution_count": null,
   "id": "12cc7e26",
   "metadata": {},
   "outputs": [],
   "source": [
    "@njit(cache=True)\n",
    "def create_counts_matrix_numba_2(binMat):\n",
    "    nstates, n = binMat.shape\n",
    "    counts = np.zeros((nstates, nstates), dtype=np.int8)\n",
    "    for i in range (nstates) :\n",
    "        for j in range(i, nstates):\n",
    "            cell_val = 0\n",
    "            for row_idx in range(n):\n",
    "                if binMat[i, row_idx] == 1 and binMat[j, row_idx] == 1:\n",
    "                    cell_val += 1\n",
    "            counts[j, i] = counts[i, j] = cell_val\n",
    "    return counts"
   ]
  },
  {
   "cell_type": "code",
   "execution_count": null,
   "id": "03e4f4e0",
   "metadata": {},
   "outputs": [],
   "source": [
    "_ = create_counts_matrix_numba_2(bin_arr_10)"
   ]
  },
  {
   "cell_type": "code",
   "execution_count": null,
   "id": "54c33bdd",
   "metadata": {},
   "outputs": [],
   "source": [
    "%%timeit -n 50\n",
    "create_counts_matrix_numba_2(bin_arr_10)"
   ]
  },
  {
   "cell_type": "code",
   "execution_count": null,
   "id": "5afdf17b",
   "metadata": {},
   "outputs": [],
   "source": [
    "@njit(cache=True)\n",
    "def create_counts_matrix_numba_3(binMat):\n",
    "    nstates, n = binMat.shape\n",
    "    counts = np.zeros((nstates, nstates), dtype=np.int8)\n",
    "    for i in range (nstates) :\n",
    "        for j in range(i, nstates):\n",
    "            cell_val = 0\n",
    "            for row_idx in range(n):\n",
    "                if binMat[i, row_idx]*binMat[j, row_idx] == 1:\n",
    "                    cell_val += 1\n",
    "            counts[j, i] = counts[i, j] = cell_val\n",
    "    return counts"
   ]
  },
  {
   "cell_type": "code",
   "execution_count": null,
   "id": "dde7ec59",
   "metadata": {},
   "outputs": [],
   "source": [
    "_ = create_counts_matrix_numba_3(bin_arr_10)"
   ]
  },
  {
   "cell_type": "code",
   "execution_count": null,
   "id": "00e5cc9b",
   "metadata": {},
   "outputs": [],
   "source": [
    "%%timeit -n 50\n",
    "create_counts_matrix_numba_3(bin_arr_10)"
   ]
  },
  {
   "cell_type": "markdown",
   "id": "fdfbe79f",
   "metadata": {},
   "source": [
    "#### what have we learned\n",
    "\n",
    "- <h4>write code that works first!</h4>\n",
    "- if it's slow, use a profiler (e.g. line_profiler, cProfile + snakeviz) to figure out how slow it is and where it's slow\n",
    "- vectorize, rewrite to minimize function calls, @njit"
   ]
  }
 ],
 "metadata": {
  "kernelspec": {
   "display_name": "Python 3 (ipykernel)",
   "language": "python",
   "name": "python3"
  },
  "language_info": {
   "codemirror_mode": {
    "name": "ipython",
    "version": 3
   },
   "file_extension": ".py",
   "mimetype": "text/x-python",
   "name": "python",
   "nbconvert_exporter": "python",
   "pygments_lexer": "ipython3",
   "version": "3.10.14"
  }
 },
 "nbformat": 4,
 "nbformat_minor": 5
}
