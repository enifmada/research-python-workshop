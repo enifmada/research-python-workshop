{
 "cells": [
  {
   "cell_type": "markdown",
   "id": "48029326",
   "metadata": {},
   "source": [
    "<center><h1>how to make the code fast</h1></center>\n",
    "\n",
    "<br/>"
   ]
  },
  {
   "cell_type": "markdown",
   "id": "31ba4d11",
   "metadata": {},
   "source": [
    "### The golden rule of code optimization\n",
    "\n",
    "<br/><br/><br/><br/><br/><br/><br/><br/><br/><br/><br/><br/><br/><br/><br/><br/><br/><br/>\n",
    "\n",
    "\n",
    "\n",
    "\n",
    "\n",
    "\n",
    "# DON'T DO IT\n",
    "\n",
    "\n",
    "<br/><br/>\n",
    "<br/><br/>\n",
    "<br/><br/>\n",
    "<br/><br/>\n",
    "<br/><br/>\n",
    "\n",
    "\n",
    "\n",
    "## yet\n",
    "\n",
    "\n",
    "\n",
    "\n",
    "\n",
    "### make sure your code does _exactly_ what you want and does so _correctly_ before even thinking about making it fast.\n",
    "\n",
    "### Then:\n",
    "- vectorize\n",
    "- reduce function calls + other cleverness\n",
    "- present an offering to our savior, Numba, and hope they smile favorably upon your code"
   ]
  },
  {
   "cell_type": "markdown",
   "id": "3cc22746",
   "metadata": {},
   "source": [
    "**working example**: HW 1 problems 3 and 3.5 - adapted from Maryn Carlson's code"
   ]
  },
  {
   "cell_type": "code",
   "execution_count": null,
   "id": "0c05c056",
   "metadata": {},
   "outputs": [],
   "source": [
    "import numpy as np\n",
    "def binary_digits(n):\n",
    "    if n == 1:\n",
    "        return [[0], [1]]\n",
    "    return [[*row, i] for row in binary_digits(n-1) for i in range(2)]"
   ]
  },
  {
   "cell_type": "code",
   "execution_count": null,
   "id": "ea14dbda",
   "metadata": {},
   "outputs": [],
   "source": [
    "bin_mat_small = binary_digits(3)\n",
    "bin_mat_small"
   ]
  },
  {
   "cell_type": "code",
   "execution_count": null,
   "id": "c8b76d83",
   "metadata": {},
   "outputs": [],
   "source": [
    "bin_mat_10 = binary_digits(10)"
   ]
  },
  {
   "cell_type": "markdown",
   "id": "3f60fb6f",
   "metadata": {},
   "source": [
    "Problem: count the number of values that are 1 in rows i and j of a binary matrix."
   ]
  },
  {
   "cell_type": "code",
   "execution_count": null,
   "id": "1ec44447",
   "metadata": {},
   "outputs": [],
   "source": [
    "def create_counts_matrix_purepython(binMat):\n",
    "    nstates = len(binMat)\n",
    "    n = len(binMat[0])\n",
    "    counts = []\n",
    "\n",
    "    for i in range (nstates):\n",
    "        counts.append([])\n",
    "        for j in range(nstates):\n",
    "            cell_val = 0\n",
    "            for row_idx in range(n):\n",
    "                if binMat[i][row_idx] == 1 and binMat[j][row_idx] == 1:\n",
    "                    cell_val += 1\n",
    "            counts[i].append(cell_val)\n",
    "    return counts"
   ]
  },
  {
   "cell_type": "code",
   "execution_count": null,
   "id": "7f767182",
   "metadata": {},
   "outputs": [],
   "source": [
    "create_counts_matrix_purepython(bin_mat_small)"
   ]
  },
  {
   "cell_type": "code",
   "execution_count": null,
   "id": "5db50112",
   "metadata": {},
   "outputs": [],
   "source": [
    "test_result = create_counts_matrix_purepython(bin_mat_10)"
   ]
  },
  {
   "cell_type": "markdown",
   "id": "f3a9ea24",
   "metadata": {},
   "source": [
    "### profiling - \"this took a while, but how long, exactly?\""
   ]
  },
  {
   "cell_type": "code",
   "execution_count": null,
   "id": "77e01435",
   "metadata": {},
   "outputs": [],
   "source": [
    "%%timeit -r 3 -n 3\n",
    "create_counts_matrix_purepython(bin_mat_10)"
   ]
  },
  {
   "cell_type": "markdown",
   "id": "1700d3cf",
   "metadata": {},
   "source": [
    "##### tqdm aside:"
   ]
  },
  {
   "cell_type": "code",
   "execution_count": null,
   "id": "b02dd1e3",
   "metadata": {},
   "outputs": [],
   "source": [
    "from tqdm.notebook import tqdm\n",
    "def create_counts_matrix_tqdm(binMat):\n",
    "    nstates = len(binMat)\n",
    "    n = len(binMat[0])\n",
    "    counts = []\n",
    "\n",
    "    for i in tqdm(range(nstates)):\n",
    "        counts.append([])\n",
    "        for j in range(nstates):\n",
    "            cell_val = 0\n",
    "            for row_idx in range(n):\n",
    "                if binMat[i][row_idx] == 1 and binMat[j][row_idx] == 1:\n",
    "                    cell_val += 1\n",
    "            counts[i].append(cell_val)\n",
    "    return counts"
   ]
  },
  {
   "cell_type": "code",
   "execution_count": null,
   "id": "eaefe362",
   "metadata": {},
   "outputs": [],
   "source": [
    "_ = create_counts_matrix_tqdm(bin_mat_10)"
   ]
  },
  {
   "cell_type": "code",
   "execution_count": null,
   "id": "d080dc3e",
   "metadata": {},
   "outputs": [],
   "source": [
    "%load_ext line_profiler"
   ]
  },
  {
   "cell_type": "code",
   "execution_count": null,
   "id": "08bea90e",
   "metadata": {},
   "outputs": [],
   "source": [
    "%lprun -f create_counts_matrix_purepython create_counts_matrix_purepython(bin_mat_10)"
   ]
  },
  {
   "cell_type": "markdown",
   "id": "2dfd5bcb",
   "metadata": {},
   "source": [
    "alternatives: cProfile + snakeviz (*show plot*), scalene (I can't read it but it's apparently good)\n",
    "https://coderzcolumn.com/tutorials/python/snakeviz-visualize-profiling-results-in-python is a good intro to snakeviz"
   ]
  },
  {
   "cell_type": "markdown",
   "id": "bb3ff3a4",
   "metadata": {},
   "source": [
    "### level 1: vectorization\n",
    "\n",
    "Vectorization just means converting for loops to numpy operations. As a quick example, the formula for the allele frequency in the n+1st generation under selection is $$p' = p + sp(1-p)/2$$. Two ways to compute a vector of allele frequencies in generation n+1 given a vector of allele frequencies in generation n and a selection coefficient are:"
   ]
  },
  {
   "cell_type": "code",
   "execution_count": null,
   "id": "3823a589",
   "metadata": {},
   "outputs": [],
   "source": [
    "import numpy as np\n",
    "p = np.random(size=100)\n",
    "s = 0.01\n",
    "p_prime = np.zeros_like(p)\n",
    "for i in range(p.shape[0]):\n",
    "    p_prime[i] = p[i] + s*p[i]*(1-p[i])\n",
    "    \n",
    "    \n",
    "p_prime = p + s*p*(1-p)"
   ]
  },
  {
   "cell_type": "markdown",
   "id": "034e5b40",
   "metadata": {},
   "source": [
    "The second is faster, easier to understand, and closer to the formula above in appearance.\n",
    "\n",
    "Now, let's apply this to create_counts_matrix:"
   ]
  },
  {
   "cell_type": "code",
   "execution_count": null,
   "id": "142d0d4f",
   "metadata": {},
   "outputs": [],
   "source": [
    "def create_counts_matrix_purepython(binMat):\n",
    "    nstates = len(binMat)\n",
    "    n = len(binMat[0])\n",
    "    counts = []\n",
    "\n",
    "    for i in range (nstates):\n",
    "        counts.append([])\n",
    "        for j in range(nstates):\n",
    "            cell_val = 0\n",
    "            for row_idx in range(n):\n",
    "                if binMat[i][row_idx] == 1 and binMat[j][row_idx] == 1:\n",
    "                    cell_val += 1\n",
    "            counts[i].append(cell_val)\n",
    "    return counts"
   ]
  },
  {
   "cell_type": "code",
   "execution_count": null,
   "id": "0445fa65",
   "metadata": {},
   "outputs": [],
   "source": [
    "def create_counts_matrix_level1(binMat):\n",
    "    nstates, n = binMat.shape\n",
    "    counts = np.zeros((nstates, nstates), dtype=np.int8)\n",
    "\n",
    "    for i in range(nstates):\n",
    "        for j in range(nstates):\n",
    "            prod = binMat[i,:]*binMat[j,:]\n",
    "            nThrees  = np.sum (prod == 1)\n",
    "            counts[i, j] = nThrees\n",
    "    return counts"
   ]
  },
  {
   "cell_type": "code",
   "execution_count": null,
   "id": "854eca8e",
   "metadata": {},
   "outputs": [],
   "source": [
    "bin_arr_10 = np.array(bin_mat_10)"
   ]
  },
  {
   "cell_type": "code",
   "execution_count": null,
   "id": "e1828f9a",
   "metadata": {},
   "outputs": [],
   "source": [
    "%%timeit -r 2 -n 1\n",
    "create_counts_matrix_level1(bin_arr_10)"
   ]
  },
  {
   "cell_type": "code",
   "execution_count": null,
   "id": "16371c5b",
   "metadata": {},
   "outputs": [],
   "source": [
    "%lprun -f create_counts_matrix_level1 create_counts_matrix_level1(bin_arr_10)"
   ]
  },
  {
   "cell_type": "markdown",
   "id": "193d7a1e",
   "metadata": {},
   "source": [
    "### level 2: reduce calls + cleverness\n",
    "\n",
    "how do we deal with that gosh darn for loop??"
   ]
  },
  {
   "cell_type": "code",
   "execution_count": null,
   "id": "cdb35a34",
   "metadata": {},
   "outputs": [],
   "source": [
    "def create_counts_matrix_level2(binMat):\n",
    "    nstates, n = binMat.shape\n",
    "    counts = np.zeros((nstates, nstates), dtype=np.int8)\n",
    "\n",
    "    for i in range (nstates):\n",
    "        temp_prod = np.zeros_like(binMat)\n",
    "        for j in range(nstates):\n",
    "            temp_prod[j, :] = binMat[i,:]*binMat[j,:]\n",
    "        nThrees  = np.sum(temp_prod == 1, axis=1)\n",
    "        counts[i, :] = nThrees\n",
    "    return counts"
   ]
  },
  {
   "cell_type": "code",
   "execution_count": null,
   "id": "affa77fc",
   "metadata": {},
   "outputs": [],
   "source": [
    "%%timeit -r 3 -n 2\n",
    "create_counts_matrix_level2(bin_arr_10)"
   ]
  },
  {
   "cell_type": "code",
   "execution_count": null,
   "id": "f7db1626",
   "metadata": {},
   "outputs": [],
   "source": [
    "%lprun -f create_counts_matrix_level2 create_counts_matrix_level2(bin_arr_10)"
   ]
  },
  {
   "cell_type": "code",
   "execution_count": null,
   "id": "eac221c3",
   "metadata": {},
   "outputs": [],
   "source": [
    "def create_counts_matrix_level2_2(binMat):\n",
    "    nstates, n = binMat.shape\n",
    "    counts = np.zeros((nstates, nstates), dtype=np.int8)\n",
    "\n",
    "    for i in range (nstates) :\n",
    "        plus = binMat[i,:]*binMat #broadcasting!!\n",
    "        nThrees  = np.sum(plus == 1, axis=1)\n",
    "        counts[i, :] = nThrees\n",
    "    return counts"
   ]
  },
  {
   "cell_type": "code",
   "execution_count": null,
   "id": "9bfbf16c",
   "metadata": {},
   "outputs": [],
   "source": [
    "%%timeit -n 10\n",
    "create_counts_matrix_level2_2(bin_arr_10)"
   ]
  },
  {
   "cell_type": "code",
   "execution_count": null,
   "id": "1b8560e8",
   "metadata": {},
   "outputs": [],
   "source": [
    "%lprun -f create_counts_matrix_level2_2 create_counts_matrix_level2_2(bin_arr_10)"
   ]
  },
  {
   "cell_type": "code",
   "execution_count": null,
   "id": "455cccd4",
   "metadata": {},
   "outputs": [],
   "source": [
    "def create_counts_matrix_level2_3(binMat):\n",
    "    return np.einsum(\"ij, kj -> ik\", binMat, binMat)"
   ]
  },
  {
   "cell_type": "code",
   "execution_count": null,
   "id": "4f7a9b53",
   "metadata": {},
   "outputs": [],
   "source": [
    "np.all(create_counts_matrix_level2_3(bin_mat_10) == create_counts_matrix_level2_2(bin_arr_10))"
   ]
  },
  {
   "cell_type": "code",
   "execution_count": null,
   "id": "acaa3f3d",
   "metadata": {},
   "outputs": [],
   "source": [
    "%%timeit -n 50\n",
    "create_counts_matrix_level2_3(bin_arr_10)"
   ]
  },
  {
   "cell_type": "markdown",
   "id": "38cf0bed",
   "metadata": {},
   "source": [
    "### level 3: praise Numba\n",
    "\n",
    "numba is straight up black magic\n",
    "\n",
    "like all good black magic, it's a bit finnicky:\n",
    "- don't use numba for certain stuff (non-numerical data, randomness)\n",
    "- doesn't produce even remotely useful error messages."
   ]
  },
  {
   "cell_type": "code",
   "execution_count": null,
   "id": "5e244c95",
   "metadata": {},
   "outputs": [],
   "source": [
    "from numba import njit"
   ]
  },
  {
   "cell_type": "code",
   "execution_count": null,
   "id": "82b44cab",
   "metadata": {},
   "outputs": [],
   "source": [
    "def create_counts_matrix_purepython(binMat):\n",
    "    nstates, n = binMat.shape\n",
    "    counts = []\n",
    "    for i in range (nstates):\n",
    "        counts.append([])\n",
    "        for j in range(nstates):\n",
    "            cell_val = 0\n",
    "            for row_idx in range(n):\n",
    "                if binMat[i, row_idx] == 1 and binMat[j, row_idx] == 1:\n",
    "                    cell_val += 1\n",
    "            counts[i].append(cell_val)\n",
    "    return counts"
   ]
  },
  {
   "cell_type": "code",
   "execution_count": null,
   "id": "50eca9fd",
   "metadata": {},
   "outputs": [],
   "source": [
    "@njit(cache=True)\n",
    "def create_counts_matrix_numba(binMat):\n",
    "    nstates, n = binMat.shape\n",
    "    counts = np.zeros((nstates, nstates), dtype=np.int8)\n",
    "\n",
    "    for i in range (nstates) :\n",
    "        for j in range(nstates):\n",
    "            cell_val = 0\n",
    "            for row_idx in range(n):\n",
    "                if binMat[i, row_idx] == 1 and binMat[j, row_idx] == 1:\n",
    "                    cell_val += 1\n",
    "            counts[i, j] = cell_val\n",
    "    return counts"
   ]
  },
  {
   "cell_type": "code",
   "execution_count": null,
   "id": "07a3a8cf",
   "metadata": {},
   "outputs": [],
   "source": [
    "_ = create_counts_matrix_numba(bin_arr_10)"
   ]
  },
  {
   "cell_type": "code",
   "execution_count": null,
   "id": "d1a63ad1",
   "metadata": {},
   "outputs": [],
   "source": [
    "%%timeit -n 50\n",
    "create_counts_matrix_numba(bin_arr_10)"
   ]
  },
  {
   "cell_type": "code",
   "execution_count": null,
   "id": "0ee2143f",
   "metadata": {},
   "outputs": [],
   "source": [
    "%lprun -f create_counts_matrix_numba create_counts_matrix_numba(bin_arr_10)"
   ]
  },
  {
   "cell_type": "code",
   "execution_count": null,
   "id": "12cc7e26",
   "metadata": {},
   "outputs": [],
   "source": [
    "@njit(cache=True)\n",
    "def create_counts_matrix_numba_2(binMat):\n",
    "    nstates, n = binMat.shape\n",
    "    counts = np.zeros((nstates, nstates), dtype=np.int8)\n",
    "    for i in range (nstates) :\n",
    "        for j in range(i, nstates):\n",
    "            cell_val = 0\n",
    "            for row_idx in range(n):\n",
    "                if binMat[i, row_idx] == 1 and binMat[j, row_idx] == 1:\n",
    "                    cell_val += 1\n",
    "            counts[j, i] = counts[i, j] = cell_val\n",
    "    return counts"
   ]
  },
  {
   "cell_type": "code",
   "execution_count": null,
   "id": "03e4f4e0",
   "metadata": {},
   "outputs": [],
   "source": [
    "_ = create_counts_matrix_numba_2(bin_arr_10)"
   ]
  },
  {
   "cell_type": "code",
   "execution_count": null,
   "id": "54c33bdd",
   "metadata": {},
   "outputs": [],
   "source": [
    "%%timeit -n 50\n",
    "create_counts_matrix_numba_2(bin_arr_10)"
   ]
  },
  {
   "cell_type": "code",
   "execution_count": null,
   "id": "5afdf17b",
   "metadata": {},
   "outputs": [],
   "source": [
    "@njit(cache=True)\n",
    "def create_counts_matrix_numba_3(binMat):\n",
    "    nstates, n = binMat.shape\n",
    "    counts = np.zeros((nstates, nstates), dtype=np.int8)\n",
    "    for i in range (nstates) :\n",
    "        for j in range(i, nstates):\n",
    "            cell_val = 0\n",
    "            for row_idx in range(n):\n",
    "                if binMat[i, row_idx]*binMat[j, row_idx] == 1:\n",
    "                    cell_val += 1\n",
    "            counts[j, i] = counts[i, j] = cell_val\n",
    "    return counts"
   ]
  },
  {
   "cell_type": "code",
   "execution_count": null,
   "id": "dde7ec59",
   "metadata": {},
   "outputs": [],
   "source": [
    "_ = create_counts_matrix_numba_3(bin_arr_10)"
   ]
  },
  {
   "cell_type": "code",
   "execution_count": null,
   "id": "00e5cc9b",
   "metadata": {},
   "outputs": [],
   "source": [
    "%%timeit -n 50\n",
    "create_counts_matrix_numba_3(bin_arr_10)"
   ]
  },
  {
   "cell_type": "markdown",
   "id": "fdfbe79f",
   "metadata": {},
   "source": [
    "#### what have we learned\n",
    "\n",
    "- <h4>write code that works first!</h4>\n",
    "- if it's slow, use a profiler (e.g. line_profiler, cProfile + snakeviz) to figure out how slow it is and where it's slow\n",
    "- vectorize, rewrite to minimize function calls, @njit"
   ]
  },
  {
   "cell_type": "markdown",
   "id": "33e1425b",
   "metadata": {},
   "source": [
    "### Reproducibility and other good research practices"
   ]
  },
  {
   "cell_type": "markdown",
   "id": "ec85bdde",
   "metadata": {},
   "source": [
    "#### how to use git\n",
    "<br/><br/><br/><br/><br/><br/>\n",
    "<br/><br/><br/><br/><br/><br/>\n",
    "<br/><br/><br/><br/><br/><br/>\n",
    "ok I lied I'm not going to teach you anything about git. why? Git has actively impeded my research progress on several occasions. Unless you're in Meren's lab, which is impossible b/c he's leaving I think, projects you are involved in are going to be coded by at most two people. You do not need git if you are the only person coding anything.\n",
    "The one aspect of git I have used as a solo coder is if you want to update stuff on a remote directory/cluster/etc. - it can be nice to make all your local changes than just git pull on the cluster.\n",
    "Ok but what about versioning/reverting/etc.????? Box! Putting all your stuff on box is good in case your computer breaks. Also, thanks to the University of Chicago, we have this wonderful thing called \"version history\" that will *automatically* keep track of basically all the changes you make to something. No need to git pull git update git push whatever."
   ]
  },
  {
   "cell_type": "markdown",
   "id": "217de7d8",
   "metadata": {},
   "source": [
    "### argparse\n",
    "\n",
    "sometimes, you cannot run your code inside PyCharm, but must run it from the command line. The two primary instances of this are:\n",
    "- when publishing, people often want a command line tool. idrk why but they do.\n",
    "- for cluster work it's somewhere between much easier and the only way to get jobs to run.\n",
    "\n",
    "you can use sys.argv and make your command something like python science.py 4 10 \"linear\" 500 1e4 \"fast\" 8\n",
    "\n",
    "or use argparse! Python's built in library for, unsurprisingly, parsing command line arguments."
   ]
  },
  {
   "cell_type": "markdown",
   "id": "e481937e",
   "metadata": {},
   "source": [
    "How argparse works: 3 easy steps.\n",
    "    \n",
    "1. set up ArgumentParser"
   ]
  },
  {
   "cell_type": "code",
   "execution_count": null,
   "id": "d58fc259",
   "metadata": {},
   "outputs": [],
   "source": [
    "import argparse\n",
    "parser = argparse.ArgumentParser()"
   ]
  },
  {
   "cell_type": "markdown",
   "id": "e367712b",
   "metadata": {},
   "source": [
    "2. add arguments"
   ]
  },
  {
   "cell_type": "code",
   "execution_count": null,
   "id": "97731b84",
   "metadata": {},
   "outputs": [],
   "source": [
    "parser.add_argument(\"filename\", type=argparse.FileType(\"rb\"), help=\"input file\")\n",
    "parser.add_argument(\"-n\", \"--number\", type=int, default=5, help=\"an optional integer\")\n",
    "parser.add_argument(\"--print_this_stuff\", nargs=\"*\", help=\"prints all the extra args you put in\")"
   ]
  },
  {
   "cell_type": "markdown",
   "id": "26355f3b",
   "metadata": {},
   "source": [
    "3. parse args"
   ]
  },
  {
   "cell_type": "code",
   "execution_count": null,
   "id": "29985867",
   "metadata": {},
   "outputs": [],
   "source": [
    "args = parser.parse_args()\n",
    "\n",
    "#args now has a variable for each argument:\n",
    "print(args.filename)\n",
    "print(args.number)\n",
    "for val in args.print_this_stuff:\n",
    "    print(val)\n",
    "\n",
    "#also the documentation is built-in! -h"
   ]
  },
  {
   "cell_type": "markdown",
   "id": "86867b51",
   "metadata": {},
   "source": [
    "Because it is a well-written module, argparse can handle whatever stuff you might want out of your inputs. Different types, required/optional arguments, mutually exclusive groups (e.g. \"verbose\" mode vs. \"quiet\" mode) - use group = parser.add_mutually_exclusive_group() and then group.add_argument()"
   ]
  },
  {
   "cell_type": "markdown",
   "id": "99787dd7",
   "metadata": {},
   "source": [
    "#### snakemake\n",
    "\n",
    "automated workflow creation! no more running 10 python scripts in a row oh wait I forgot I updated the 6th one now I have to rerun everything again oh wait I ran these two out of order so it didn't run on the latest dataset time to rerun everything etc"
   ]
  },
  {
   "cell_type": "code",
   "execution_count": null,
   "id": "c35abbdf",
   "metadata": {},
   "outputs": [],
   "source": [
    "SAMPLES = [\"A\", \"B\"]\n",
    "\n",
    "\n",
    "rule all:\n",
    "    input:\n",
    "        \"plots/quals.svg\"\n",
    "\n",
    "\n",
    "rule bwa_map:\n",
    "    input:\n",
    "        \"data/genome.fa\",\n",
    "        \"data/samples/{sample}.fastq\"\n",
    "    output:\n",
    "        \"mapped_reads/{sample}.bam\"\n",
    "    shell:\n",
    "        \"bwa mem {input} | samtools view -Sb - > {output}\"\n",
    "\n",
    "\n",
    "rule samtools_sort:\n",
    "    input:\n",
    "        \"mapped_reads/{sample}.bam\"\n",
    "    output:\n",
    "        \"sorted_reads/{sample}.bam\"\n",
    "    shell:\n",
    "        \"samtools sort -T sorted_reads/{wildcards.sample} \"\n",
    "        \"-O bam {input} > {output}\"\n",
    "\n",
    "\n",
    "rule samtools_index:\n",
    "    input:\n",
    "        \"sorted_reads/{sample}.bam\"\n",
    "    output:\n",
    "        \"sorted_reads/{sample}.bam.bai\"\n",
    "    shell:\n",
    "        \"samtools index {input}\"\n",
    "\n",
    "\n",
    "rule bcftools_call:\n",
    "    input:\n",
    "        fa=\"data/genome.fa\",\n",
    "        bam=expand(\"sorted_reads/{sample}.bam\", sample=SAMPLES),\n",
    "        bai=expand(\"sorted_reads/{sample}.bam.bai\", sample=SAMPLES)\n",
    "    output:\n",
    "        \"calls/all.vcf\"\n",
    "    shell:\n",
    "        \"bcftools mpileup -f {input.fa} {input.bam} | \"\n",
    "        \"bcftools call -mv - > {output}\"\n",
    "\n",
    "\n",
    "rule plot_quals:\n",
    "    input:\n",
    "        \"calls/all.vcf\"\n",
    "    output:\n",
    "        \"plots/quals.svg\"\n",
    "    script:\n",
    "        \"scripts/plot-quals.py\""
   ]
  },
  {
   "cell_type": "markdown",
   "id": "c27542b3",
   "metadata": {},
   "source": [
    "![snakemake_dag](https://snakemake.readthedocs.io/en/stable/_images/dag_call.png)"
   ]
  },
  {
   "cell_type": "markdown",
   "id": "c217025e",
   "metadata": {},
   "source": [
    "support for clusters (with special SLURM support!) is built-in as well"
   ]
  }
 ],
 "metadata": {
  "kernelspec": {
   "display_name": "Python 3 (ipykernel)",
   "language": "python",
   "name": "python3"
  },
  "language_info": {
   "codemirror_mode": {
    "name": "ipython",
    "version": 3
   },
   "file_extension": ".py",
   "mimetype": "text/x-python",
   "name": "python",
   "nbconvert_exporter": "python",
   "pygments_lexer": "ipython3",
   "version": "3.10.10"
  }
 },
 "nbformat": 4,
 "nbformat_minor": 5
}
