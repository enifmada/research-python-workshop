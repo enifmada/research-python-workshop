{
 "cells": [
  {
   "cell_type": "markdown",
   "id": "85f5c4ac",
   "metadata": {},
   "source": [
    "### All about matplotlib\n",
    "\n",
    "Things I will cover:\n",
    "- how to set up a figure\n",
    "- figure customization: line properties, axis properties, tick properties\n",
    "- advanced manipulation: it's all objects!\n",
    "- colors and other rcParams\n",
    "- subplots\n",
    "- text in figures\n",
    "\n",
    "Things I will not cover:\n",
    "- how to make a **beautiful** figure\n",
    "- anything to do with imshow\n",
    "- categorical data (Monday 3 PM)\n",
    "- animations"
   ]
  },
  {
   "cell_type": "markdown",
   "id": "1bcf281c",
   "metadata": {},
   "source": [
    "### How to instantiate a figure"
   ]
  },
  {
   "cell_type": "code",
   "execution_count": null,
   "id": "31e697dc",
   "metadata": {},
   "outputs": [],
   "source": [
    "import matplotlib.pyplot as plt\n",
    "import numpy as np\n",
    "\n",
    "fig, axs = plt.subplots(1,1,figsize=(6,6),layout=\"constrained\")\n",
    "rng = np.random.default_rng(0)\n",
    "data = rng.normal(size=1000)\n",
    "axs.plot(data)\n",
    "plt.show() #fig.savefig(filepath, format=\"png\", bbox_inches=\"tight\") if you don't want to display inline"
   ]
  },
  {
   "cell_type": "markdown",
   "id": "4c84f6b5",
   "metadata": {},
   "source": [
    "explicit (fig, axs) interface >>>>>>>>>>>>>>>>>>>>>>>>>>>>>>>>>>>> plt interface. why?"
   ]
  },
  {
   "cell_type": "code",
   "execution_count": null,
   "id": "9044032f",
   "metadata": {},
   "outputs": [],
   "source": [
    "plt.subplot(1, 2, 1)\n",
    "plt.plot([1, 2, 3], [0, 0.5, 0.2])\n",
    "\n",
    "plt.subplot(1, 2, 2)\n",
    "plt.plot([3, 2, 1], [0, 0.5, 0.2])\n",
    "\n",
    "plt.suptitle('Implicit Interface: re-call subplot')\n",
    "\n",
    "for i in range(1, 3):\n",
    "    plt.subplot(1, 2, i)\n",
    "    plt.xlabel('Boo')\n",
    "plt.show()"
   ]
  },
  {
   "cell_type": "code",
   "execution_count": null,
   "id": "2c88add9",
   "metadata": {},
   "outputs": [],
   "source": [
    "fig, axs = plt.subplots(1, 2, figsize=(12,6), layout=\"constrained\")\n",
    "axs[0].plot([1, 2, 3], [0, 0.5, 0.2])\n",
    "axs[1].plot([3, 2, 1], [0, 0.5, 0.2])\n",
    "fig.suptitle('Explicit Interface')\n",
    "for i in range(2):\n",
    "    axs[i].set_xlabel('Boo')"
   ]
  },
  {
   "cell_type": "markdown",
   "id": "f18d4443",
   "metadata": {},
   "source": [
    "What happens if you have to backtrack, and operate on an old axes... One simple way is to call subplot again with the same arguments. However, that quickly becomes inelegant... The best solution is probably to save a handle to every Axes you create, but if you do that, why not simply create the all the Axes objects at the start?\n",
    "\n",
    "In addition to being a mess any time you want subfigures, the figure/axis distinction in the explicit API helps keep track of figure anatomy:\n",
    "\n",
    "![figure_anatomy](https://matplotlib.org/stable/_images/anatomy.png)"
   ]
  },
  {
   "cell_type": "markdown",
   "id": "50e0df18",
   "metadata": {},
   "source": [
    "### axis properties\n",
    "\n",
    "log example (and function example, why not)\n",
    "twinx example\n",
    "inset axes example"
   ]
  },
  {
   "cell_type": "code",
   "execution_count": null,
   "id": "a75bac6b",
   "metadata": {},
   "outputs": [],
   "source": [
    "x_range = np.arange(500)\n",
    "noise = rng.normal(scale=5, size=500)\n",
    "fig, axs = plt.subplots(1,1,figsize=(6,6),layout=\"constrained\")\n",
    "axs.plot(x_range, np.sin(x_range/10))\n",
    "axs2 = axs.twinx()\n",
    "axs2.plot(x_range, x_range+noise)\n",
    "plt.show()"
   ]
  },
  {
   "cell_type": "code",
   "execution_count": null,
   "id": "731f3374",
   "metadata": {},
   "outputs": [],
   "source": [
    "def forward(x):\n",
    "    return x**3\n",
    "\n",
    "def reverse(x):\n",
    "    return x**(1/3)\n",
    "\n",
    "x_range = np.arange(500)\n",
    "noise = rng.normal(scale=5, size=500)\n",
    "fig, axs = plt.subplots(1,1,figsize=(6,6),layout=\"constrained\")\n",
    "axs.plot(x_range, np.sin(x_range/10))\n",
    "axs2 = axs.twinx()\n",
    "axs2.plot(x_range, x_range+noise)\n",
    "axs2.set_yscale(\"log\")\n",
    "plt.show()"
   ]
  },
  {
   "cell_type": "code",
   "execution_count": null,
   "id": "aecbb4ba",
   "metadata": {},
   "outputs": [],
   "source": [
    "def forward(x):\n",
    "    return x**2\n",
    "\n",
    "def reverse(x):\n",
    "    return x**(1/2)\n",
    "\n",
    "x_range = np.arange(500)\n",
    "noise = rng.normal(scale=5, size=500)\n",
    "fig, axs = plt.subplots(1,1,figsize=(6,6),layout=\"constrained\")\n",
    "axs.plot(x_range, np.sin(x_range/10))\n",
    "axs2 = axs.twinx()\n",
    "axs2.plot(x_range, x_range+noise)\n",
    "axs2.set_yscale(\"function\", functions=(reverse, forward))\n",
    "plt.show()"
   ]
  },
  {
   "cell_type": "code",
   "execution_count": null,
   "id": "245bb772",
   "metadata": {},
   "outputs": [],
   "source": [
    "x_range = np.arange(500)\n",
    "fig, axs = plt.subplots(1,1,figsize=(6,6),layout=\"constrained\")\n",
    "axs.plot(x_range, np.sin(x_range/10))\n",
    "axins = axs.inset_axes([.68, .07, .3, .3])\n",
    "axins.plot(x_range, np.sin(x_range/10))\n",
    "axins.set_xlim([-5,40])\n",
    "axins.set_ylim([.8, 1.1])\n",
    "axs.indicate_inset_zoom(axins, edgecolor=\"black\")\n",
    "plt.show()"
   ]
  },
  {
   "cell_type": "markdown",
   "id": "0e731d29",
   "metadata": {},
   "source": [
    "### it's all objects!\n",
    "\n",
    "everything can be altered (easy = all the normal dict props, medium = legend label manip, hard = boxplot specific points manip) - maybe include this intermediate tutorial fucking with all the tick labels?"
   ]
  },
  {
   "cell_type": "code",
   "execution_count": null,
   "id": "2285dc6a",
   "metadata": {},
   "outputs": [],
   "source": [
    "x_range = np.arange(500)\n",
    "fig, axs = plt.subplots(1,1,figsize=(6,6),layout=\"constrained\")\n",
    "axs.plot(x_range, np.sin(x_range/10), ls=\"-.\", marker=\"*\", ms=10,lw=3, c=\"pink\")\n",
    "#can do custom linestyles, see https://matplotlib.org/stable/gallery/lines_bars_and_markers/linestyles.html\n",
    "plt.show()"
   ]
  },
  {
   "cell_type": "code",
   "execution_count": null,
   "id": "664692a1",
   "metadata": {},
   "outputs": [],
   "source": [
    "fig = plt.figure()\n",
    "rect = fig.patch  # a rectangle instance\n",
    "rect.set_facecolor('lightgoldenrodyellow')\n",
    "\n",
    "ax1 = fig.add_axes([0.1, 0.3, 0.4, 0.4])\n",
    "rect = ax1.patch\n",
    "rect.set_facecolor('lightslategray')\n",
    "\n",
    "ax1.tick_params(axis='x', labelcolor='tab:red', labelrotation=45, labelsize=16)\n",
    "ax1.tick_params(axis='y', color='tab:green', size=25, width=3)\n",
    "\n",
    "plt.show()"
   ]
  },
  {
   "cell_type": "code",
   "execution_count": null,
   "id": "5f89337b",
   "metadata": {},
   "outputs": [],
   "source": [
    "x_range = np.arange(500)\n",
    "noise = rng.normal(scale=5, size=500)\n",
    "fig, axs = plt.subplots(1,1,figsize=(6,6),layout=\"constrained\")\n",
    "axs.plot(x_range, np.sin(x_range/10), label=\"boring sine wave\")\n",
    "axs2 = axs.twinx()\n",
    "axs2.plot(x_range, x_range+noise, c=\"orange\", label=\"interesting Gaussian noise\")\n",
    "axs.legend()\n",
    "plt.show()\n",
    "\n",
    "#uh oh!"
   ]
  },
  {
   "cell_type": "code",
   "execution_count": null,
   "id": "4f5e5db8",
   "metadata": {},
   "outputs": [],
   "source": [
    "x_range = np.arange(500)\n",
    "noise = rng.normal(scale=5, size=500)\n",
    "fig, axs = plt.subplots(1,1,figsize=(6,6),layout=\"constrained\")\n",
    "line1 = axs.plot(x_range, np.sin(x_range/10), label=\"boring sine wave\")\n",
    "axs2 = axs.twinx()\n",
    "line2 = axs2.plot(x_range, x_range+noise, c=\"orange\", label=\"interesting Gaussian noise\")\n",
    "lines = line1+line2\n",
    "labels = [l.get_label() for l in lines]\n",
    "axs.legend(lines, labels)\n",
    "plt.show()\n",
    "#also demonstrate only 1 label"
   ]
  },
  {
   "cell_type": "code",
   "execution_count": null,
   "id": "36022804",
   "metadata": {},
   "outputs": [],
   "source": [
    "box_data_1 = rng.normal(size=100)\n",
    "box_data_2 = rng.normal(1,2,size=10000)\n",
    "\n",
    "fig, axs = plt.subplots(1,1,figsize=(6,6),layout=\"constrained\")\n",
    "axs.boxplot([box_data_1, box_data_2], labels=[\"centered\", \"not\"])\n",
    "plt.show()"
   ]
  },
  {
   "cell_type": "code",
   "execution_count": null,
   "id": "1dee39d8",
   "metadata": {},
   "outputs": [],
   "source": [
    "fig, axs = plt.subplots(1,1,figsize=(6,6),layout=\"constrained\")\n",
    "boxes = axs.boxplot([box_data_1, box_data_2], labels=[\"centered\", \"not\"])\n",
    "for line in boxes[\"fliers\"]:\n",
    "    xoffsets = line.get_xdata()\n",
    "    #line.set_mec(None)\n",
    "    line.set_mfc(\"steelblue\")\n",
    "    line.set_alpha(.5)\n",
    "    line.set_markersize(3)\n",
    "    line.set_xdata(xoffsets + np.random.uniform(-0.04, 0.04, xoffsets.size))\n",
    "plt.show()"
   ]
  },
  {
   "cell_type": "markdown",
   "id": "7ef3cad2",
   "metadata": {},
   "source": [
    "### colors!!\n",
    "\n",
    "https://matplotlib.org/stable/users/explain/colors/colormaps.html is an excellent excellent resource\n",
    "but how do we actually access all of these colors?"
   ]
  },
  {
   "cell_type": "code",
   "execution_count": null,
   "id": "84faee9a",
   "metadata": {},
   "outputs": [],
   "source": [
    "from cycler import cycler\n",
    "default_cycler = plt.rcParams['axes.prop_cycle']\n",
    "colorlist = plt.get_cmap(\"Reds\")(np.linspace(0,1,11))\n",
    "plt.rcParams[\"axes.prop_cycle\"] = cycler(color=colorlist)\n",
    "\n",
    "#sidenote:\n",
    "plt.rcParams.update({'font.size': 25})"
   ]
  },
  {
   "cell_type": "code",
   "execution_count": null,
   "id": "c233428e",
   "metadata": {},
   "outputs": [],
   "source": [
    "fig, axs = plt.subplots(1,1,figsize=(6,6),layout=\"constrained\")\n",
    "for i in np.arange(11):\n",
    "    axs.plot(x_range, np.zeros_like(x_range)+i)\n",
    "plt.show()"
   ]
  },
  {
   "cell_type": "code",
   "execution_count": null,
   "id": "603c9771",
   "metadata": {},
   "outputs": [],
   "source": [
    "plt.rcParams.update({'font.size': 10})\n",
    "fig, axs = plt.subplots(1,1,figsize=(6,6),layout=\"constrained\")\n",
    "cmap = plt.get_cmap(\"Blues\")\n",
    "axs.set_prop_cycle(None)\n",
    "for i in np.arange(11):\n",
    "    axs.plot(x_range, np.zeros_like(x_range)+i, color=cmap(i/11))\n",
    "plt.show()"
   ]
  },
  {
   "cell_type": "markdown",
   "id": "c99052ca",
   "metadata": {},
   "source": [
    "subplots                       subplots\n",
    "subplots                       subplots\n",
    "\n",
    "for simple grids, that's why we use plt.subplots to call our figure anyway!"
   ]
  },
  {
   "cell_type": "code",
   "execution_count": null,
   "id": "115ef7b6",
   "metadata": {},
   "outputs": [],
   "source": [
    "rows = 2\n",
    "cols = 3\n",
    "fig, axs = plt.subplots(rows,cols,figsize=(9,6),layout=\"constrained\")\n",
    "for row_i in np.arange(rows):\n",
    "    for col_j in np.arange(cols):\n",
    "        axs[row_i, col_j].plot(x_range, np.sin(x_range*(row_i+1)*(col_j+1)/20), color=\"blue\")\n",
    "plt.show()"
   ]
  },
  {
   "cell_type": "markdown",
   "id": "dce10d9c",
   "metadata": {},
   "source": [
    "what about more complex subplots? subplot_mosaic is now the preferred function! TIL lol"
   ]
  },
  {
   "cell_type": "code",
   "execution_count": null,
   "id": "b14804f8",
   "metadata": {},
   "outputs": [],
   "source": [
    "plt.rcParams[\"axes.prop_cycle\"] = default_cycler\n",
    "fig = plt.figure(layout=\"constrained\")\n",
    "ax_dict = fig.subplot_mosaic(\n",
    "    [\n",
    "        [\"bar\", \"plot\"],\n",
    "        [\"hist\", \"image\"],\n",
    "    ],\n",
    ")\n",
    "ax_dict[\"bar\"].bar([\"a\", \"b\", \"c\"], [5, 7, 9])\n",
    "ax_dict[\"plot\"].plot([1, 2, 3])\n",
    "ax_dict[\"hist\"].hist(box_data_1)\n",
    "ax_dict[\"image\"].imshow([[1, 2], [2, 1]])\n",
    "plt.show()"
   ]
  },
  {
   "cell_type": "markdown",
   "id": "547dad6c",
   "metadata": {},
   "source": [
    "and it's even easier than a nested dictionary!"
   ]
  },
  {
   "cell_type": "code",
   "execution_count": null,
   "id": "62b4d95b",
   "metadata": {},
   "outputs": [],
   "source": [
    "mosaic_str = \"A.C;DDD\"\n",
    "fig = plt.figure(figsize=(9,6), layout=\"constrained\")\n",
    "ax_dict = fig.subplot_mosaic(mosaic_str,  height_ratios=[2, 1])\n",
    "ax_dict[\"A\"].plot(x_range, np.sin(x_range/20))\n",
    "ax_dict[\"C\"].plot(x_range,  np.sin(3*x_range/20))\n",
    "ax_dict[\"D\"].plot(x_range,  np.sin(4*x_range/20))\n",
    "plt.show()"
   ]
  },
  {
   "cell_type": "code",
   "execution_count": null,
   "id": "455a03f4",
   "metadata": {
    "scrolled": true
   },
   "outputs": [],
   "source": [
    "mosaic = np.zeros((4, 4), dtype=int)\n",
    "for j in range(4):\n",
    "    mosaic[j, j] = j + 1\n",
    "axd = plt.figure(layout=\"constrained\").subplot_mosaic(\n",
    "    mosaic,\n",
    "    empty_sentinel=0)\n",
    "\n",
    "for i in range(1,5):\n",
    "    axd[i].plot(x_range, np.sin(i*x_range/10))\n",
    "plt.show()"
   ]
  }
 ],
 "metadata": {
  "kernelspec": {
   "display_name": "Python 3 (ipykernel)",
   "language": "python",
   "name": "python3"
  },
  "language_info": {
   "codemirror_mode": {
    "name": "ipython",
    "version": 3
   },
   "file_extension": ".py",
   "mimetype": "text/x-python",
   "name": "python",
   "nbconvert_exporter": "python",
   "pygments_lexer": "ipython3",
   "version": "3.10.10"
  }
 },
 "nbformat": 4,
 "nbformat_minor": 5
}
