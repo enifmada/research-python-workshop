{
 "cells": [
  {
   "cell_type": "markdown",
   "id": "ce84f110-a934-42f5-847e-8c6450af787d",
   "metadata": {},
   "source": [
    "## Homework 2: more fun with trains\n",
    "\n",
    "This homework revolves around building out the train.py example from the lecture into a full (mini-)project. Skeletons for all relevant files are on the choo-choo github (https://github.com/enifmada/choo-choo). To turn in this homework, either\n",
    "- put your work on your github and email me a link to the repository!\n",
    "- if you are doing problem 4, submit a pull request to my github"
   ]
  },
  {
   "cell_type": "markdown",
   "id": "a0ca230a-d543-428e-88c3-f89d09ad815e",
   "metadata": {},
   "source": [
    "#### Problem 1\n",
    "\n",
    "![pimp_my_ride](https://m.media-amazon.com/images/M/MV5BODYwOTE3MTI0NF5BMl5BanBnXkFtZTcwOTIwMDgyMQ@@._V1_FMjpg_UX1000_.jpg)\n",
    "\n",
    "Add at least one feature to the train! Make it so you can accelerate the train a variable amount? Allow for custom units (miles vs kilometers?) Whatever your heart desires!"
   ]
  },
  {
   "cell_type": "markdown",
   "id": "2dd7812d-0bd1-42b2-afe8-9ce293aa586e",
   "metadata": {},
   "source": [
    "#### Problem 2: parse my arg\n",
    "\n",
    "Using argparse, turn the car into a command line tool: allow the user to input a sequence of accelerations and brakes as a string of As and Bs (or lowercase) and have the car produce the correct response. For example, the user input \"python train.py aabbababaa\" on the command line should make the car accelerate twice, brake twice, etc., then print how far it has driven and its average speed.\n",
    "\n",
    "If you did problem 1, make sure to add your features to the command line options as well!"
   ]
  },
  {
   "cell_type": "markdown",
   "id": "592a292e-ca35-4156-a027-8457d0ad3eac",
   "metadata": {},
   "source": [
    "#### Problem 3: snake my make\n",
    "\n",
    "Make a miniature snakemake workflow! Your workflow should take as input a json file specifying the acceleration/brake sequence of a train run (and any optional parameters!), run the train.py script, save the acceleration/braking history of the train (format up to you), read the acceleration/braking history into the plotting.py script, and output a simple line plot of these values. The plot doesn't have to be pretty, we're covering matplotlib on Tuesday.\n",
    "\n",
    "Skeletons of the snakemake workflow and the plotting script are on the github. Some commands you may wish to use that I haven't explicitly covered are:\n",
    "json.load / json.loads\n",
    "np.savetxt / np.loadtxt\n",
    "plt.plot"
   ]
  },
  {
   "cell_type": "markdown",
   "id": "1fd26695-ebca-4938-b533-bd1a71e45f54",
   "metadata": {},
   "source": [
    "#### Problem 4: pull my request\n",
    "\n",
    "By now, you have improved almost all of the files in the original choo-choo repository. Why not improve my fledgling train project by contributing a pull request to the repository? Github's official guide to pull requests, found [here](https://docs.github.com/en/pull-requests/collaborating-with-pull-requests/proposing-changes-to-your-work-with-pull-requests/creating-a-pull-request), may be of use."
   ]
  }
 ],
 "metadata": {
  "kernelspec": {
   "display_name": "Python 3 (ipykernel)",
   "language": "python",
   "name": "python3"
  },
  "language_info": {
   "codemirror_mode": {
    "name": "ipython",
    "version": 3
   },
   "file_extension": ".py",
   "mimetype": "text/x-python",
   "name": "python",
   "nbconvert_exporter": "python",
   "pygments_lexer": "ipython3",
   "version": "3.12.2"
  }
 },
 "nbformat": 4,
 "nbformat_minor": 5
}
