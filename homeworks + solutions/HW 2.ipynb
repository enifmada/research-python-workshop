{
 "cells": [
  {
   "cell_type": "markdown",
   "id": "ce84f110-a934-42f5-847e-8c6450af787d",
   "metadata": {},
   "source": [
    "## Homework 2: just because I don't know how to drive doesn't mean I can't code a car\n",
    "\n",
    "This homework revolves around building out the car.py example from the lecture into a full (mini-)project. The base car.py file is on the github. To turn in this homework, either send me a .zip file of all the files that you end up creating or put your work on your github (and email me that you did this)."
   ]
  },
  {
   "cell_type": "markdown",
   "id": "05f803d4-43ef-4785-81d9-d464f710c187",
   "metadata": {},
   "source": [
    "#### Problem 1\n",
    "\n",
    "Using argparse, turn the car into a command line tool: allow the user to input a sequence of accelerations and brakes as a string of As and Bs (or lowercase) and have the car produce the correct response. For example, the user input \"python car.py aabbababaa\" on the command line should make the car accelerate twice, brake twice, etc., then print how far it has driven and its average speed."
   ]
  },
  {
   "cell_type": "markdown",
   "id": "a0ca230a-d543-428e-88c3-f89d09ad815e",
   "metadata": {},
   "source": [
    "#### Problem 2\n",
    "\n",
    "![pimp_my_ride](https://m.media-amazon.com/images/M/MV5BODYwOTE3MTI0NF5BMl5BanBnXkFtZTcwOTIwMDgyMQ@@._V1_FMjpg_UX1000_.jpg)\n",
    "\n",
    "Using argparse, add at least two optional flags that change the behavior of the car in some way. Maybe you can set the acceleration to a different amount at each time step? Allow the user to work in miles or kilometers? Implement cruise control? It's up to you - I don't know how cars work!"
   ]
  },
  {
   "cell_type": "markdown",
   "id": "592a292e-ca35-4156-a027-8457d0ad3eac",
   "metadata": {},
   "source": [
    "#### Problem 3: snake my make\n",
    "\n",
    "Make a miniature snakemake workflow! Your workflow should take as input a json file specifying the acceleration/brake sequence of a car run (and any optional parameters!), run the car.py script, save the acceleration/braking history of the car, read the acceleration/braking history into a plotting.py script, and output a simple line plot of these values. The plot doesn't have to be pretty, we're covering matplotlib on Tuesday.\n",
    "\n",
    "Relevant commands I haven't covered:\n",
    "\n",
    "json.load / json.loads\n",
    "np.savetxt / np.loadtxt\n",
    "plt.plot"
   ]
  }
 ],
 "metadata": {
  "kernelspec": {
   "display_name": "Python 3 (ipykernel)",
   "language": "python",
   "name": "python3"
  },
  "language_info": {
   "codemirror_mode": {
    "name": "ipython",
    "version": 3
   },
   "file_extension": ".py",
   "mimetype": "text/x-python",
   "name": "python",
   "nbconvert_exporter": "python",
   "pygments_lexer": "ipython3",
   "version": "3.10.14"
  }
 },
 "nbformat": 4,
 "nbformat_minor": 5
}
