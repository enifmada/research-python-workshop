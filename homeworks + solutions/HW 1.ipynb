{
 "cells": [
  {
   "cell_type": "markdown",
   "id": "bac9f110",
   "metadata": {},
   "source": [
    "## Python Research Computation Workshop Homework 1 Solutions"
   ]
  },
  {
   "cell_type": "markdown",
   "id": "8c244efc",
   "metadata": {},
   "source": [
    "## Problem 1: you can't spell \"function\" without \"fun\""
   ]
  },
  {
   "cell_type": "code",
   "execution_count": 1,
   "id": "6b9ba9de",
   "metadata": {},
   "outputs": [],
   "source": [
    "def make_pizza_simple(tomato_sauce_tf, vegan_tf, pizza_type=\"deep_dish\"):\n",
    "    print(f\"making a {'vegan' if vegan_tf else 'nonvegan'}, {pizza_type} pizza {'with' if tomato_sauce_tf else 'without'}\")\n",
    "    #code to make a pizza here\n",
    "    return \"pizza\"\n",
    "\n",
    "def make_pizza_args(tomato_sauce_tf, vegan_tf, pizza_type=\"deep_dish\", *toppings_args):\n",
    "    print(f\"making a {'vegan' if vegan_tf else 'nonvegan'}, {pizza_type} pizza {'with' if tomato_sauce_tf else 'without'}\")\n",
    "    for topping in toppings_args:\n",
    "        print(f\"adding topping: {topping}\")\n",
    "    #code to make a pizza here\n",
    "    return \"pizza\"\n",
    "\n",
    "def make_pizza_kwargs(tomato_sauce_tf, vegan_tf, pizza_type=\"deep_dish\", **style_kwargs):\n",
    "    print(f\"making a {'vegan' if vegan_tf else 'nonvegan'}, {pizza_type} pizza {'with' if tomato_sauce_tf else 'without'}\")\n",
    "    for style_key in style_kwargs:\n",
    "        print(f\"additional pizza feature {style_key} has value {style_kwargs[style_key]}\")\n",
    "    #code to make a pizza here\n",
    "    return \"pizza\""
   ]
  },
  {
   "cell_type": "markdown",
   "id": "a77b69a0-9a9c-4c3e-b061-fd8597598faa",
   "metadata": {},
   "source": [
    "**Given the three above definitions of a pizza making function, which of the following function calls are valid?**"
   ]
  },
  {
   "cell_type": "markdown",
   "id": "af7e74bc-c5a9-4304-b731-63c79bff26a0",
   "metadata": {},
   "source": [
    "make_pizza_simple(True, \"new_york_style\") - valid! we don't do any type checking so *any* input is valid, since everything has a True/False value. For strings, \"\" is False, and any other string is True, so this behaves identically to make_pizza_simple(True, True)\n",
    "\n",
    "make_pizza_simple(True, False, \"eleven\") - valid. don't really know what I was thinking with this one, pretty clearly valid.\n",
    "\n",
    "make_pizza_args(True, False, True, False) - valid! the reverse of the first example - True/False can be formatted inside a string, so there's no problem here.\n",
    "\n",
    "make_pizza_args(True, False, pizza_type=\"deep_dish\", \"pepperoni\", \"onion\") - invalid. even though they're *args, \"pepperoni\" and \"onion\" come after a keyword argument, which is not allowed.\n",
    "\n",
    "make_pizza_kwargs(tomato_sauce_tf=True, vegan_tf=False, italian_seasoning=True) - this is valid?? I thought this would be invalid because tomato_sauce_tf and vegan_tf are positional not keyword arguments. Apparently you can call them as keyword arguments? Very strange to me.\n",
    "\n",
    "make_pizza_kwargs(True, False, \"detroit_style\", {\"red_pepper\": \"half\", \"parmesan\": \"yep\"}) - invalid. The dictionary of **kwargs has to be unpacked."
   ]
  },
  {
   "cell_type": "markdown",
   "id": "ad5bc80f-a5dc-44aa-9c61-5829cd35522c",
   "metadata": {},
   "source": [
    "## Problem 2: your turn\n",
    "\n",
    "**Please write a function binary_digits(n) that takes as input a natural number and returns a list (of length 2^n) of lists (of length n) of all of the unique binary numbers with n digits.**\n",
    "\n",
    "The output of binary_digits(1) should be \\[\\[0\\], \\[1\\]\\], the output of binary_digits(2) should be \\[\\[0,0\\],\\[0,1\\],\\[1,0\\],\\[1,1\\]\\], etc. Your life will probably be easier if binary_digits(n) calls binary_digits(n-1) at some point."
   ]
  },
  {
   "cell_type": "code",
   "execution_count": 17,
   "id": "65fd426d-53e5-4550-bd29-f8030680e607",
   "metadata": {},
   "outputs": [],
   "source": [
    "#something like this. y'alls solutions were better :)\n",
    "def binary_digits(n):\n",
    "    if n==1:\n",
    "        return [[0],[1]]\n",
    "    prev_digits = binary_digits(n-1)\n",
    "    new_digits = []\n",
    "    for prev_number in prev_digits:\n",
    "        new_digits.append([*prev_number, 0])\n",
    "        new_digits.append([*prev_number, 1])\n",
    "    return new_digits"
   ]
  },
  {
   "cell_type": "code",
   "execution_count": 18,
   "id": "ec60fdf5-9f31-4dfe-b03e-cf793a563df8",
   "metadata": {},
   "outputs": [
    {
     "data": {
      "text/plain": [
       "[[0, 0, 0],\n",
       " [0, 0, 1],\n",
       " [0, 1, 0],\n",
       " [0, 1, 1],\n",
       " [1, 0, 0],\n",
       " [1, 0, 1],\n",
       " [1, 1, 0],\n",
       " [1, 1, 1]]"
      ]
     },
     "execution_count": 18,
     "metadata": {},
     "output_type": "execute_result"
    }
   ],
   "source": [
    "binary_digits(3)"
   ]
  },
  {
   "cell_type": "markdown",
   "id": "ade0beb6",
   "metadata": {},
   "source": [
    "## Problem 3: extreme fun with list comprehension, to be revisited in a week\n",
    "\n",
    "list comprehensions can be nested, producing some truly horrifying lines of code. For example:"
   ]
  },
  {
   "cell_type": "code",
   "execution_count": null,
   "id": "0d401f4e",
   "metadata": {},
   "outputs": [],
   "source": [
    "list_comp_matrix = [[j+i for j in range(3)] for i in range(4)]\n",
    "print(list_comp_matrix)"
   ]
  },
  {
   "cell_type": "code",
   "execution_count": null,
   "id": "0c7b343d",
   "metadata": {},
   "outputs": [],
   "source": [
    "list_comp_flatten = [value for row in list_comp_matrix for value in row]\n",
    "print(list_comp_flatten)"
   ]
  },
  {
   "cell_type": "markdown",
   "id": "cd1ea7a4",
   "metadata": {},
   "source": [
    "I hate the fact that it's \\[value for row in matrix for value in row\\] rather than \\[value for value in row for row in matrix\\] but that's how the syntax works."
   ]
  },
  {
   "cell_type": "markdown",
   "id": "5793b70d",
   "metadata": {},
   "source": [
    "**Rewrite your function binary_digits(n) to make use of list comprehensions.** Using list comprehensions, binary_digits(n) can be three lines long, two of which are"
   ]
  },
  {
   "cell_type": "code",
   "execution_count": null,
   "id": "27bd8187-fc57-4e99-a2f1-8d45711661c7",
   "metadata": {},
   "outputs": [],
   "source": [
    "if n == 1:\n",
    "    return [[0], [1]]"
   ]
  },
  {
   "cell_type": "markdown",
   "id": "7e763762-c7a8-402f-b8aa-24012b1f1edc",
   "metadata": {},
   "source": [
    "but what's the third line 🤔"
   ]
  },
  {
   "cell_type": "code",
   "execution_count": 22,
   "id": "9e0230e5-4357-429f-9443-75698f8fa359",
   "metadata": {},
   "outputs": [],
   "source": [
    "def binary_digits_listcomp(n):\n",
    "    if n == 1:\n",
    "        return [[0], [1]]\n",
    "    return [[*prev_number, i] for i in range(2) for prev_number in binary_digits_listcomp(n-1)]\n",
    "\n",
    "#instead of this list unpacking, several of you did this instead:\n",
    "\n",
    "    return [prev_number+[i] for i in range(2) for prev_number in binary_digits_listcomp(n-1)]\n",
    "\n",
    "#this is maybe slightly cleaner than my solution! Hadn't encountered summing two lists before - very cool."
   ]
  },
  {
   "cell_type": "code",
   "execution_count": 26,
   "id": "69c081cd-d744-4668-85f5-e64630c70da7",
   "metadata": {},
   "outputs": [
    {
     "data": {
      "text/plain": [
       "[0, 1]"
      ]
     },
     "execution_count": 26,
     "metadata": {},
     "output_type": "execute_result"
    }
   ],
   "source": [
    "a = [0]\n",
    "b = [1]\n",
    "a+b"
   ]
  }
 ],
 "metadata": {
  "kernelspec": {
   "display_name": "Python 3 (ipykernel)",
   "language": "python",
   "name": "python3"
  },
  "language_info": {
   "codemirror_mode": {
    "name": "ipython",
    "version": 3
   },
   "file_extension": ".py",
   "mimetype": "text/x-python",
   "name": "python",
   "nbconvert_exporter": "python",
   "pygments_lexer": "ipython3",
   "version": "3.10.14"
  }
 },
 "nbformat": 4,
 "nbformat_minor": 5
}
