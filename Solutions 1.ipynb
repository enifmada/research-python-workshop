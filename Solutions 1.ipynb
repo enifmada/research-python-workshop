{
 "cells": [
  {
   "cell_type": "code",
   "execution_count": null,
   "id": "6bbeccd7",
   "metadata": {},
   "outputs": [],
   "source": [
    "#problem 1\n",
    "while line := fp.readline():\n",
    "    if m := define_rx.match(line):\n",
    "        n, v = m.group(1, 2)\n",
    "        #truncated unimportant sysconfig stuff here\n",
    "    elif m := undef_rx.match(line):\n",
    "        vars[m.group(1)] = 0"
   ]
  },
  {
   "cell_type": "code",
   "execution_count": null,
   "id": "8e41e4df",
   "metadata": {},
   "outputs": [],
   "source": [
    "#problem 2\n",
    "def compute_partial_sums(input_list):\n",
    "    total = 0\n",
    "    partial_sums = [total := total + val for val in input_list]\n",
    "    return"
   ]
  },
  {
   "cell_type": "code",
   "execution_count": null,
   "id": "9a8ba58c",
   "metadata": {},
   "outputs": [],
   "source": [
    "#problem 3\n",
    "def binary_counts(n):\n",
    "    if n == 1:\n",
    "        return [[0], [1]]\n",
    "    gross_list_comp = [[[0, *bc_row], [1, *bc_row]] for bc_row in binary_counts(n-1)]\n",
    "    return [val for row in gross_list_comp for val in row]\n",
    "\n",
    "#note that this code sucks!! I am still a bad programmer :(\n",
    "#below is a lightly modified version of Yichao's solution, which was much better than mine:"
   ]
  },
  {
   "cell_type": "code",
   "execution_count": null,
   "id": "961a6c0a",
   "metadata": {},
   "outputs": [],
   "source": [
    "def binary_digits(n):\n",
    "    if n == 1:\n",
    "        return [[0], [1]]\n",
    "    return [[*row, i] for row in binary_digits(n-1) for i in range(2)]"
   ]
  },
  {
   "cell_type": "code",
   "execution_count": null,
   "id": "3c88235d",
   "metadata": {},
   "outputs": [],
   "source": [
    "#problem 3.5 - originally written by Maryn Carlson, former grad student in the Steinruecken lab\n",
    "def create_counts_matrix_purepython(binMat):\n",
    "    nstates = len(binMat)\n",
    "    n = len(binMat[0])\n",
    "    counts = []\n",
    "\n",
    "    for i in range (nstates):\n",
    "        counts.append([])\n",
    "        for j in range(nstates):\n",
    "            cell_val = 0\n",
    "            for row_idx in range(n):\n",
    "                if binMat[i, row_idx] == 1 and binMat[j, row_idx] == 1:\n",
    "                    cell_val += 1\n",
    "            counts[i].append(cell_val)\n",
    "    return counts"
   ]
  }
 ],
 "metadata": {
  "kernelspec": {
   "display_name": "Python 3 (ipykernel)",
   "language": "python",
   "name": "python3"
  },
  "language_info": {
   "codemirror_mode": {
    "name": "ipython",
    "version": 3
   },
   "file_extension": ".py",
   "mimetype": "text/x-python",
   "name": "python",
   "nbconvert_exporter": "python",
   "pygments_lexer": "ipython3",
   "version": "3.10.10"
  }
 },
 "nbformat": 4,
 "nbformat_minor": 5
}
