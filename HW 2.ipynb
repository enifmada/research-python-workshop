{
 "cells": [
  {
   "cell_type": "code",
   "execution_count": null,
   "id": "27083a2d",
   "metadata": {},
   "outputs": [],
   "source": [
    "import numpy as np\n",
    "def forward_algo(A_matrix, B_matrix, pi, O):\n",
    "    T = O.shape[0]\n",
    "    alphas = np.zeros((pi.shape[0], T))\n",
    "    #stuff\n",
    "    return alphas\n",
    "\n",
    "\n",
    "def backward_algo(A_matrix, B_matrix, pi, O):\n",
    "    T = O.shape[0]\n",
    "    betas = np.zeros((pi.shape[0], T))\n",
    "    #stuff\n",
    "    return betas\n",
    "\n",
    "\n",
    "def compute_gammas(alphas, betas):\n",
    "    #stuff\n",
    "    return gammas\n",
    "\n",
    "\n",
    "def compute_xis(alphas, betas, A_matrix, B_matrix, O):\n",
    "    xis = np.zeros((alphas.shape[0], alphas.shape[0], alphas.shape[1] - 1))\n",
    "    #stuff\n",
    "    return xis\n",
    "\n",
    "\n",
    "def update_params(gammas, xis, A_matrix, B_matrix, O, pi):\n",
    "    pi_new = gammas[:, 0]\n",
    "    A_matrix_new = np.zeros_like(A_matrix)\n",
    "    B_matrix_new = np.zeros_like(B_matrix)\n",
    "    #stuff\n",
    "    return pi_new, A_matrix_new, B_matrix_new\n",
    "\n",
    "\n",
    "def run_one_iter(A_matrix, B_matrix, pi, O):\n",
    "    alphas = forward_algo(A_matrix, B_matrix, pi, O)\n",
    "    betas = backward_algo(A_matrix, B_matrix, pi, O)\n",
    "    gammas = compute_gammas(alphas, betas)\n",
    "    xis = compute_xis(alphas, betas, A_matrix, B_matrix, O)\n",
    "    pi_new, A_matrix_new, B_matrix_new = update_params(gammas, xis, A_matrix, B_matrix, O, pi)\n",
    "    return pi_new, A_matrix_new, B_matrix_new, np.sum(alphas[:, -1])\n",
    "\n",
    "\n",
    "def run_hmm(A_init, B_init, pi_init, O, tol, max_iter):\n",
    "    pi, A, B = pi_init, A_init, B_init\n",
    "    itercount = 0\n",
    "    likelihood = -np.inf\n",
    "    while itercount < max_iter:\n",
    "        pi, A, B, ll_new = run_one_iter(A, B, pi, O)\n",
    "        print(ll_new)\n",
    "        if ll_new - likelihood < tol:\n",
    "            return pi, A, B, ll_new\n",
    "        likelihood = ll_new\n",
    "        itercount += 1\n",
    "    print(\"failed to converge!\")\n",
    "    return None, None, None, None"
   ]
  },
  {
   "cell_type": "code",
   "execution_count": null,
   "id": "86a40145",
   "metadata": {},
   "outputs": [],
   "source": [
    "#is day 1 rainy or sunny?\n",
    "p_init = np.array([0.2, 0.8])\n",
    "\n",
    "#P([sunny -> sunny, sunny -> rainy], [rainy -> sunny, rainy -> rainy])\n",
    "A_init = np.array([[0.5, 0.5], [0.3, 0.7]])\n",
    "\n",
    "#P([game, walk, amusement park]|sunny, [game, walk, amusement park]|rainy)\n",
    "B_init = np.array([[.25, .65, .1], [0.8, .199, 0.001]])\n",
    "O = np.array([0,0,0,0,0,1,0,1,2,1,0,0,0])\n",
    "tol = 1e-6\n",
    "max_iter = 100\n",
    "pi_final, A_final, B_final, ll_final = run_hmm(A_matrix, B_matrix, p_init, O, tol, max_iter)"
   ]
  },
  {
   "cell_type": "code",
   "execution_count": null,
   "id": "53250d21",
   "metadata": {},
   "outputs": [],
   "source": [
    "print(A_final)\n",
    "print(B_final)\n",
    "print(ll_final)"
   ]
  },
  {
   "cell_type": "code",
   "execution_count": null,
   "id": "66ab3931",
   "metadata": {},
   "outputs": [],
   "source": [
    "A_final = [[0.73762695 0.26237305]\n",
    " [0.1935928  0.8064072 ]]\n",
    "B_final = [[2.66985827e-01 5.32350570e-01 2.00663602e-01]\n",
    " [9.56708135e-01 4.32918258e-02 3.96667248e-08]]\n",
    "ll_final = 9.229902527592014e-05"
   ]
  }
 ],
 "metadata": {
  "kernelspec": {
   "display_name": "Python 3 (ipykernel)",
   "language": "python",
   "name": "python3"
  },
  "language_info": {
   "codemirror_mode": {
    "name": "ipython",
    "version": 3
   },
   "file_extension": ".py",
   "mimetype": "text/x-python",
   "name": "python",
   "nbconvert_exporter": "python",
   "pygments_lexer": "ipython3",
   "version": "3.10.10"
  }
 },
 "nbformat": 4,
 "nbformat_minor": 5
}
